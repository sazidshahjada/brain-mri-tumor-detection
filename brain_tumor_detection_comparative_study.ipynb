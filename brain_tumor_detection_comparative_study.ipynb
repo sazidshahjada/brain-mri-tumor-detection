{
  "cells": [
    {
      "cell_type": "markdown",
      "id": "6a6e12fa",
      "metadata": {},
      "source": [
        "## **Import Dependencies**"
      ]
    },
    {
      "cell_type": "code",
      "execution_count": 1,
      "id": "d2ff3f24",
      "metadata": {
        "id": "d2ff3f24"
      },
      "outputs": [],
      "source": [
        "import os\n",
        "import cv2\n",
        "import numpy as np\n",
        "import matplotlib.pyplot as plt\n",
        "import seaborn as sns\n",
        "from sklearn.metrics import confusion_matrix, classification_report, precision_score, recall_score, f1_score\n",
        "import pandas as pd\n",
        "\n",
        "import torch\n",
        "import torch.nn as nn\n",
        "import torch.optim as optim\n",
        "from torch.utils.data import DataLoader, ConcatDataset\n",
        "from torch.utils.tensorboard import SummaryWriter\n",
        "import torchvision.transforms as transforms\n",
        "import torchvision.models as models\n",
        "from torchvision.datasets import ImageFolder\n",
        "from tqdm.notebook import tqdm"
      ]
    },
    {
      "cell_type": "code",
      "execution_count": 16,
      "id": "ac98513b",
      "metadata": {
        "id": "ac98513b"
      },
      "outputs": [],
      "source": [
        "original_data = \"dataset/Original\"\n",
        "augmented_data = \"dataset/augmented-data\"\n",
        "img_size = 224\n",
        "batch_size = 8"
      ]
    },
    {
      "cell_type": "markdown",
      "id": "3c94beb7",
      "metadata": {},
      "source": [
        "## **Load and Preprocess Data**"
      ]
    },
    {
      "cell_type": "code",
      "execution_count": 17,
      "id": "b76f142d",
      "metadata": {
        "colab": {
          "base_uri": "https://localhost:8080/"
        },
        "id": "b76f142d",
        "outputId": "1fd3c5ea-c388-48d0-da5a-86cebae8e381"
      },
      "outputs": [
        {
          "name": "stdout",
          "output_type": "stream",
          "text": [
            "Train Size: 1854\n",
            "Val Size: 231\n",
            "Test Size: 233\n"
          ]
        }
      ],
      "source": [
        "transform = transforms.Compose([\n",
        "    transforms.Resize((img_size, img_size)),\n",
        "    transforms.RandomHorizontalFlip(),\n",
        "    transforms.RandomRotation(10),\n",
        "    transforms.ColorJitter(brightness=0.2, contrast=0.2, saturation=0.2, hue=0.1),\n",
        "    transforms.ToTensor(),\n",
        "    transforms.Normalize([0.485, 0.456, 0.406], [0.229, 0.224, 0.225])\n",
        "])\n",
        "\n",
        "original_dataset = ImageFolder(original_data, transform=transform)\n",
        "augmented_dataset = ImageFolder(augmented_data, transform=transform)\n",
        "combined_dataset = ConcatDataset([original_dataset, augmented_dataset])\n",
        "\n",
        "train_size = int(0.8 * len(combined_dataset))\n",
        "val_size = int(0.1 * len(combined_dataset))\n",
        "test_size = len(combined_dataset) - train_size - val_size\n",
        "\n",
        "train_subset, val_subset, test_subset = torch.utils.data.random_split(\n",
        "    combined_dataset, [train_size, val_size, test_size]\n",
        ")\n",
        "\n",
        "train_loader = DataLoader(train_subset, batch_size=batch_size, shuffle=True)\n",
        "val_loader = DataLoader(val_subset, batch_size=batch_size)\n",
        "test_loader = DataLoader(test_subset, batch_size=batch_size)\n",
        "\n",
        "print(f\"Train Size: {len(train_loader.dataset)}\")\n",
        "print(f\"Val Size: {len(val_loader.dataset)}\")\n",
        "print(f\"Test Size: {len(test_loader.dataset)}\")"
      ]
    },
    {
      "cell_type": "code",
      "execution_count": 18,
      "id": "9rfKiNWGlwup",
      "metadata": {
        "colab": {
          "base_uri": "https://localhost:8080/"
        },
        "id": "9rfKiNWGlwup",
        "outputId": "3aef52d9-0867-4323-ea8f-eb47acfc5fa3"
      },
      "outputs": [
        {
          "name": "stdout",
          "output_type": "stream",
          "text": [
            "Device: cuda\n",
            "Number of Classes 2\n",
            "Classes: ['no', 'yes']\n"
          ]
        }
      ],
      "source": [
        "class_names = original_dataset.classes\n",
        "num_classes = len(class_names)\n",
        "device = torch.device(\"cuda\" if torch.cuda.is_available() else \"cpu\")\n",
        "\n",
        "print(f\"Device: {device}\")\n",
        "print(\"Number of Classes\", num_classes)\n",
        "print(f\"Classes: {class_names}\")"
      ]
    },
    {
      "cell_type": "markdown",
      "id": "d86f89dd",
      "metadata": {},
      "source": [
        "## **Hepler Functions for Training and Evaluation**"
      ]
    },
    {
      "cell_type": "code",
      "execution_count": 19,
      "id": "e3ff5c12",
      "metadata": {
        "id": "e3ff5c12"
      },
      "outputs": [],
      "source": [
        "from tqdm.notebook import tqdm\n",
        "import torch\n",
        "\n",
        "def train_model(model, criterion, optimizer, scheduler, train_loader, val_loader, writer, num_epochs=10, model_name=\"model\"):\n",
        "    history = {\"train_loss\": [], \"val_loss\": [], \"train_acc\": [], \"val_acc\": []}\n",
        "\n",
        "    for epoch in tqdm(range(num_epochs), desc=\"Training Progress\", position=0):\n",
        "        model.train()\n",
        "        train_loss, train_correct = 0.0, 0\n",
        "\n",
        "        for inputs, labels in tqdm(train_loader, desc=f\"Epoch {epoch+1}/{num_epochs} Batches\", leave=False, position=1):\n",
        "            inputs, labels = inputs.to(device), labels.to(device)\n",
        "            optimizer.zero_grad()\n",
        "            outputs = model(inputs)\n",
        "            loss = criterion(outputs, labels)\n",
        "            loss.backward()\n",
        "            optimizer.step()\n",
        "\n",
        "            train_loss += loss.item() * inputs.size(0)\n",
        "            _, preds = torch.max(outputs, 1)\n",
        "            train_correct += torch.sum(preds == labels.data).item()\n",
        "\n",
        "        model.eval()\n",
        "        val_loss, val_correct = 0.0, 0\n",
        "        with torch.no_grad():\n",
        "            for inputs, labels in val_loader:\n",
        "                inputs, labels = inputs.to(device), labels.to(device)\n",
        "                outputs = model(inputs)\n",
        "                loss = criterion(outputs, labels)\n",
        "                val_loss += loss.item() * inputs.size(0)\n",
        "                _, preds = torch.max(outputs, 1)\n",
        "                val_correct += torch.sum(preds == labels.data).item()\n",
        "\n",
        "        epoch_train_loss = train_loss / len(train_loader.dataset)\n",
        "        epoch_val_loss   = val_loss / len(val_loader.dataset)\n",
        "        epoch_train_acc  = train_correct / len(train_loader.dataset)\n",
        "        epoch_val_acc    = val_correct / len(val_loader.dataset)\n",
        "\n",
        "        history[\"train_loss\"].append(epoch_train_loss)\n",
        "        history[\"val_loss\"].append(epoch_val_loss)\n",
        "        history[\"train_acc\"].append(epoch_train_acc)\n",
        "        history[\"val_acc\"].append(epoch_val_acc)\n",
        "\n",
        "        writer.add_scalar(f\"{model_name}/train_loss\", epoch_train_loss, epoch)\n",
        "        writer.add_scalar(f\"{model_name}/val_loss\", epoch_val_loss, epoch)\n",
        "        writer.add_scalar(f\"{model_name}/train_acc\", epoch_train_acc, epoch)\n",
        "        writer.add_scalar(f\"{model_name}/val_acc\", epoch_val_acc, epoch)\n",
        "\n",
        "        print(f\"Epoch {epoch+1}: Train Loss={epoch_train_loss:.4f}, Train Acc={epoch_train_acc:.4f}, Val Loss={epoch_val_loss:.4f}, Val Acc={epoch_val_acc:.4f}\")\n",
        "\n",
        "        scheduler.step(epoch_val_loss)\n",
        "\n",
        "    return model, history"
      ]
    },
    {
      "cell_type": "code",
      "execution_count": 20,
      "id": "20ae5cfd",
      "metadata": {
        "id": "20ae5cfd"
      },
      "outputs": [],
      "source": [
        "def plot_curves(history, model_name):\n",
        "    plt.figure(figsize=(12,5))\n",
        "    plt.subplot(1,2,1)\n",
        "    plt.plot(history[\"train_loss\"], label=\"Train Loss\")\n",
        "    plt.plot(history[\"val_loss\"], label=\"Val Loss\")\n",
        "    plt.title(f\"{model_name} Loss\")\n",
        "    plt.legend()\n",
        "\n",
        "    plt.subplot(1,2,2)\n",
        "    plt.plot(history[\"train_acc\"], label=\"Train Acc\")\n",
        "    plt.plot(history[\"val_acc\"], label=\"Val Acc\")\n",
        "    plt.title(f\"{model_name} Accuracy\")\n",
        "    plt.legend()\n",
        "    plt.show()"
      ]
    },
    {
      "cell_type": "code",
      "execution_count": 21,
      "id": "25a464cb",
      "metadata": {
        "id": "25a464cb"
      },
      "outputs": [],
      "source": [
        "def evaluate_model(model, test_loader, model_name):\n",
        "    model.eval()\n",
        "    y_true, y_pred = [], []\n",
        "    with torch.no_grad():\n",
        "        for inputs, labels in test_loader:\n",
        "            inputs, labels = inputs.to(device), labels.to(device)\n",
        "            outputs = model(inputs)\n",
        "            _, preds = torch.max(outputs, 1)\n",
        "            y_true.extend(labels.cpu().numpy())\n",
        "            y_pred.extend(preds.cpu().numpy())\n",
        "\n",
        "    cm = confusion_matrix(y_true, y_pred)\n",
        "    acc = np.mean(np.array(y_true) == np.array(y_pred))\n",
        "    pre = precision_score(y_true, y_pred, average='macro')\n",
        "    rec = recall_score(y_true, y_pred, average='macro')\n",
        "    f1 = f1_score(y_true, y_pred, average='macro')\n",
        "\n",
        "    print(f\"{model_name} Test Accuracy: {acc:.4f}\")\n",
        "    print(f\"{model_name} Test Precision: {pre:.4f}\")\n",
        "    print(f\"{model_name} Test Recall: {rec:.4f}\")\n",
        "    print(f\"{model_name} Test F1-Score: {f1:.4f}\")\n",
        "    print(\"Classification Report:\")\n",
        "    print(classification_report(y_true, y_pred, target_names=class_names))\n",
        "\n",
        "    plt.figure(figsize=(6,5))\n",
        "    sns.heatmap(cm, annot=True, fmt=\"d\", cmap=\"Blues\",\n",
        "                xticklabels=class_names, yticklabels=class_names)\n",
        "    plt.title(f\"{model_name} Confusion Matrix\")\n",
        "    plt.show()\n",
        "\n",
        "    return acc, pre, rec, f1"
      ]
    },
    {
      "cell_type": "code",
      "execution_count": 31,
      "id": "140d0771",
      "metadata": {
        "id": "140d0771"
      },
      "outputs": [],
      "source": [
        "def get_model(model_name, num_classes):\n",
        "    if model_name == \"mobilenet\":\n",
        "        model = models.mobilenet_v2(pretrained=False)\n",
        "        model.classifier[0] = nn.Dropout(p=0.5)\n",
        "        model.classifier[1] = nn.Linear(model.last_channel, num_classes)\n",
        "    elif model_name == \"vgg19\":\n",
        "        model = models.vgg19(pretrained=False)\n",
        "        model.classifier[6] = nn.Linear(4096, num_classes)\n",
        "    elif model_name == \"densenet\":\n",
        "        model = models.densenet121(pretrained=False)\n",
        "        model.classifier = nn.Linear(model.classifier.in_features, num_classes)\n",
        "    elif model_name == \"resnet\":\n",
        "        model = models.resnet50(pretrained=False)\n",
        "        model.fc = nn.Linear(model.fc.in_features, num_classes)\n",
        "    elif model_name == \"vit\":\n",
        "        model = models.vit_b_16(pretrained=False)\n",
        "        model.heads.head = nn.Linear(model.heads.head.in_features, num_classes)\n",
        "    else:\n",
        "        raise ValueError(\"Unknown model name\")\n",
        "    return model.to(device)"
      ]
    },
    {
      "cell_type": "markdown",
      "id": "52e7ea08",
      "metadata": {},
      "source": [
        "## **Train the Models**"
      ]
    },
    {
      "cell_type": "code",
      "execution_count": 23,
      "id": "25bef73b",
      "metadata": {
        "id": "25bef73b"
      },
      "outputs": [],
      "source": [
        "import warnings\n",
        "warnings.filterwarnings(\"ignore\")"
      ]
    },
    {
      "cell_type": "code",
      "execution_count": 24,
      "id": "9be380ba",
      "metadata": {
        "colab": {
          "base_uri": "https://localhost:8080/",
          "height": 890,
          "referenced_widgets": [
            "044367e42e714cb29c433b9f1a7f11ee",
            "523ead4e02e9481f806484ecb6b92eb2",
            "7a6f6eee0847450288c01f10c45f21c1",
            "6b775e05e8ad45b184abf128c40a2c64",
            "6ff779a5116049cdb30e2f2738e2c44a",
            "142cbaa2953041a9a117a026db1c204c",
            "e1b5630121ef4cf7a90b405b6231eb10",
            "c4193a202c9e4dc6873b0473d2b57117",
            "f04c7fa21d554bd18182d54e4b2e033d",
            "e19157729dda49ca9842c363b7320696",
            "c2e9a4bde26343059a4e3c445eaa92ee",
            "acbfc977d18c4bdc894064d4c7664845",
            "a123c0f0214240dd91fe719e809e8661",
            "87dd83da4b604765a46afd75f21a8266",
            "612a14912b8342c6b3b8c4b00d7a27e9",
            "9f13662a3c144d9aa88167c0e42f4bdd",
            "1bcce90d916b4389a2be18d4c6e4db2c",
            "b92694c0d7554b5a8a91bff5ccc76741",
            "fff430d7e62d49c3a1722c9cee8ef518",
            "64ff7a4e9f2a47c0b4571f9cd01147c4",
            "668294f967b444d19b3e76fd5e1c6903",
            "004c86fcc88c4961be522e5f10953809",
            "8da4a01df0e24891b59293d59510250c",
            "f005704117a14c1b96c8de7454946f38",
            "bc778103d21b4c10a752b50972b02b82",
            "e6f684e96bbc4450a39ffd5e9a1af1f4",
            "ef1c0c61769c4167b046f297d638fe4a",
            "ccd2f21dce9f4eccb84534ee6202b535",
            "eb870a36ec3a469088c4f72c85f8dcf0",
            "974041443f7b44be93ebd964de220a44",
            "c93d7450513f4b7e8135c59bd64e77d6",
            "6640b74bd9eb48878036dcadf13699a7",
            "35928b5f05aa444699365a2a9f14bb7b",
            "0b9c5d45a75244218f797d92e22f6328",
            "3511e0692bb34102b6f877aa4ba043bf",
            "0e6958341e704db2ae81d7af3fbd56c9",
            "7397888edc59452cbabfcb754c7bc867",
            "ce08190ba5534aa1b8b150e48f666823",
            "fd0f855cb5bb4c4cb7e9df8bb25a7083",
            "eee9f97853a346d59478a91bbcf0e11c",
            "ffabc938c4974b1792ed029bb6ffa8e5",
            "fddd2212f9bd48bd874743b9576815f5",
            "1d46dc06519a4b75aa6a0180c076de27",
            "276585e7c71b4b01801851714cec54b3",
            "7c458161ddb443348e57dfb64b9abc6e",
            "e9852cfcb7de4500a26ff71f1548752a",
            "4963b945c4804454985920c06b3779ce",
            "2771c0d52df943ae91ddd949797e340a",
            "88341cf222144a0bbfb49cb122cf5b81",
            "db43fdf4f8854666aef4197b850a1fef",
            "1a864089a6f44b23a765bbbe5b06d506",
            "7a42d8b2ee99475da7b024fef7b08b29",
            "2b2f496b6cb5467094164535a017ccb1",
            "8dbc479388e24459be23865712967fa6",
            "78e41c9e5c4b4e648072a05a254dd261",
            "9eec2c0088f849348e78e1b4aa44aa20",
            "2afca47c6ebb4c04b018fcebf2837330",
            "d00d6fde396043a2bd69ddcd2b349f14",
            "12d957e7aaa44dd6bb09f00bc75522af",
            "60b4b395c6a44a0890aeaecdfe4424cd",
            "b42a8a6340474536bbce6d673525b30e",
            "84ff6d693c4a4dfd937ac9cbf6316f90",
            "07e9deacc4ad45e4877d4087961f1b60",
            "30d3742181ec42a7aab68488d4d6e3ca",
            "aab9d939e7d745099af7d39f40b29112",
            "6a89131b7ace49d08998c368834ed585",
            "28f0621d4fa84652b5acdd81d5e6d678",
            "64f5c089921c489d88f7c4030e03ec17",
            "0e226e6d9e8d48be8082c6fc9d6513a1",
            "7acb671262b645d1b7be0409a22a84e7",
            "d54d9d0a23f44a9293f1e143e0ba4b75",
            "d375cb2198d141d5aee083a6857df7a2",
            "4a25e9f8b0814bd3a47f6f6318706709",
            "f0618c32eb3f439690a5d9fe523f870b",
            "ada4616bbb314b3389b59b2141b2ab80",
            "a62c1cc324e449fdbdd2b9b98c00e00a",
            "c82de99308684b398c5949e7e1f1b382",
            "9537a385872840d2bceba5fa817606fa",
            "6b57df8fbdda4107a8ecb4deb92c8215",
            "1c8508bd16d943779bf30121c3a89e92",
            "5ebd6dc2c0214ddf9924593bff468888",
            "05342798bdcb420eaed051dc3f570c93",
            "c23ab65280574de785d51678aa8b5ce7",
            "216e02db3b034e75b1519dd40be7856a",
            "25e37b2a02d942fc81ac75df532c27bc",
            "6f56e62ba55d4a56bd698f52f9649a59",
            "426bb1d6d4ee45c89c9fe1ee173e221b",
            "1f57a82b9b684d7290effff3c1746cee",
            "988a5bdf151e413f9173d46a6923ba0d",
            "7f393b49eff749528d3c8ddb3cb6d5a6",
            "00e2fce032994f15a10c3ee84d3517d3",
            "71fc107092de4b4bb30e009a2728efd0",
            "8342a01926fe4818bb29807abe6f9682",
            "1ae1fcd553954985993e7af665327977",
            "7352e648923b4feaa455cdcb9fc502d1",
            "6392c76a76c645d2ac3713fec359737a",
            "26e12fe66bed411996eec34c35b1d21e",
            "9c4ce8e0c51847419d301566d04666e3",
            "1e2b03ad792b4d3d9dab04080db45679",
            "6431020c546941068c306a8a011c75a1",
            "37aeacad91274491baa50a7e1a440234",
            "f6bef59d96994265a0c370cb30261ae5",
            "caebd3e4ae1047559eb5f68c550ed3ed",
            "eac4810bc82842a48e3504e18fc54dd9",
            "dfeb5ea0fd70418d83be51d11ff69106",
            "14fed32258244a8f8be9caecc3ee34ed",
            "ad7e4c5a5db24d54960a9a8f8de7bf1d",
            "15f34fc96ae84587ba5a285d35dbee73",
            "383fdeadb07048428131ff58958fb476",
            "d0f2c03893e549fabf3a161cc9eaf87c",
            "4b6130a6496f458287e4db90ca9bf913",
            "0f767712a9c84f749b8ad5d58adfefe1",
            "138fc1e2c0be43559ed06d237b73c98e",
            "01e3118d0c014aad9ec38c33ca4a0c73",
            "03591721526545c49fd8e2645d092a51",
            "e31135d71af74c3ea1cd0a991e5dc29c",
            "3314e1697aa742dc8a7b7191ab1da4d8",
            "24f701422230487c8c27644a2ec60a20",
            "239e4828f8214b37bd6cee6c1756f1f6",
            "61899f61700843cb8f69cf86cc0ff1fe",
            "2f06daae7e844aa6b816ceaf141cd082",
            "cda713d54fe64f2b949d6f07f195c8bb",
            "0e5f74f5db6d43079ab574e0a6a3ccfe",
            "bf6df3929ed2425cbe7d0f30697499e6",
            "7dabfe65b0f04d0285aa0d0a30fbbe54",
            "4c6778a0e7064990aec8580a5dafcb72",
            "c46f1266dae4446da66ba468ec5dd19e",
            "dc22ada2e8da4fad8e7806e3561b191f",
            "ece3d48063f14758aaba363c6e42f5d9",
            "d19e7c0958504200ad24ee22a16aa71e",
            "04c63a5546564f38a567858a5f7e511e",
            "87ff052c81e24bcc8deb046c245794b9",
            "2983b2df0913417f81504cc803514cac",
            "96693f35352c4a43b05efa937013ce87",
            "3bb9997a590841da9d0e4c409f32b5cd",
            "8aa2240130fe4935bba6521281fa2171",
            "d538727791bc4376be8f71fb20043152",
            "47c91e5f84c34b8a951b73c597be57a8",
            "865f99a5fef74ab18a4515623c40174d",
            "b846957ac22842e6b13820fe1b7b6566",
            "b8ffe59a249241609fb7137c0bea4354",
            "a8677b4cd94a452c8c86fb8804882c18",
            "4ba8807ef4104f148243cb8cc57a8f48",
            "5bf6e62396eb422aa7c1005bec73e82e",
            "be35c475867e4d179c9f1e785f812ab0",
            "d1372218aecb48eebc3a84b5d9458d7b",
            "638c4ed368ce4f6b8910da57483528d6",
            "eaa08867564b47aeb28c5c61f784655f",
            "5f11adbe3c98486db598b07548c3999c",
            "d1412881c6c0411980511e410be5bc7a",
            "4332d3ec467045b8af27f8137aff78e5",
            "0d793cbed85b41d9acbdec64a6ce7928",
            "1dd84b8d8e854f11854d583595244bbb",
            "4d1c6761598b42048dc19efccaa7607d",
            "ed844fcfb5f847d38a3d238a6a0e5a18",
            "afe402ef6f004cdfb3bd1a0d795e0cf2",
            "dd19295767b14833bd57a9fc420049b3",
            "04ff2a49989f45ea9066dcf209022ae4",
            "c23c01c90dfb4fce85d652498ad060ab",
            "2b29cfa9aa2b4930abc50b9f6a85387a",
            "f9039a8e61d443888d9c647f27b1db29",
            "f8ff9c341c3f4701a78fdf14f4b075a4",
            "b2a8120ce4c34ec4aa2ea90d43d4f85f",
            "20c3c6868ff247d0a196f051b1a8c593",
            "9b15a61ce40747af9e9fa668f489847e",
            "6230fb6543a847ca87e22531aa28947a",
            "e7846558dec5473596cdd6076296a809",
            "e5c0d3e52de14242ae7030e4b1fd2a93",
            "d5c6708129d24c5ba8b98d3e6ca08878",
            "44ab2ab966e34c85912d3e39f2cee42c",
            "82751215ae8f4e09bacd675c6be57044",
            "7c528d6f90604a2186f857eb893f60a9",
            "60bb162abe31487d8bebbdd96e82b17b",
            "650e62ce2a47401cb287303865a5c967",
            "48e45110b76e410ca7a4a66825c25e57",
            "0960965738504a0a8ddcfb74c3de1e56",
            "d616540d74bd4d0dad6549483faf90dc",
            "6121f565b4b344b59d18c7181277ab6e",
            "66685fcaf9674ff1bfde6b56af7b4475",
            "29eca0832eee42a58882d61ad4ab9d53",
            "b5e74c8f4078458fb459703fbdc28dfb",
            "9da6b2e3a3b743f4a16c01ec159dfc89",
            "12a729033b0149718c6f5a5b141b72f5",
            "dd1c89b4a6314ca19509c9ce1fce6a08",
            "4a73affd6347422db6b47038af47f115",
            "2ce7046ff57d41b582b24ec96fe6d6a4",
            "3d75a96547664175bd86cc50c7dd8835",
            "96e9d43c128f496fb54d16b305834305"
          ]
        },
        "id": "9be380ba",
        "outputId": "e7e3248e-d4b5-41b0-cc7e-ec5b849d69b7"
      },
      "outputs": [],
      "source": [
        "results = {\"Model\": [], \"Accuracy\": [], \"Precision\": [], \"Recall\": [], \"F1-Score\": []}"
      ]
    },
    {
      "cell_type": "markdown",
      "id": "33bf6a2c",
      "metadata": {},
      "source": [
        "### **Train Mobilenet**"
      ]
    },
    {
      "cell_type": "code",
      "execution_count": 26,
      "id": "44ff82bc",
      "metadata": {},
      "outputs": [
        {
          "name": "stdout",
          "output_type": "stream",
          "text": [
            "Training Mobilenet...\n"
          ]
        },
        {
          "data": {
            "application/vnd.jupyter.widget-view+json": {
              "model_id": "1ab52fa0c07c4a68a9c43463e8e6e2ee",
              "version_major": 2,
              "version_minor": 0
            },
            "text/plain": [
              "Training Progress:   0%|          | 0/50 [00:00<?, ?it/s]"
            ]
          },
          "metadata": {},
          "output_type": "display_data"
        },
        {
          "data": {
            "application/vnd.jupyter.widget-view+json": {
              "model_id": "ee4174698bf946f8a1edf376913d825a",
              "version_major": 2,
              "version_minor": 0
            },
            "text/plain": [
              "Epoch 1/50 Batches:   0%|          | 0/232 [00:00<?, ?it/s]"
            ]
          },
          "metadata": {},
          "output_type": "display_data"
        },
        {
          "name": "stdout",
          "output_type": "stream",
          "text": [
            "Epoch 1: Train Loss=0.6157, Train Acc=0.6850, Val Loss=0.5209, Val Acc=0.7446\n"
          ]
        },
        {
          "data": {
            "application/vnd.jupyter.widget-view+json": {
              "model_id": "21a316e3d87848c0bf4411ce83012cca",
              "version_major": 2,
              "version_minor": 0
            },
            "text/plain": [
              "Epoch 2/50 Batches:   0%|          | 0/232 [00:00<?, ?it/s]"
            ]
          },
          "metadata": {},
          "output_type": "display_data"
        },
        {
          "name": "stdout",
          "output_type": "stream",
          "text": [
            "Epoch 2: Train Loss=0.5300, Train Acc=0.7384, Val Loss=0.5410, Val Acc=0.7922\n"
          ]
        },
        {
          "data": {
            "application/vnd.jupyter.widget-view+json": {
              "model_id": "c9853f8c6ec144d7bc0166cdf9f852e6",
              "version_major": 2,
              "version_minor": 0
            },
            "text/plain": [
              "Epoch 3/50 Batches:   0%|          | 0/232 [00:00<?, ?it/s]"
            ]
          },
          "metadata": {},
          "output_type": "display_data"
        },
        {
          "name": "stdout",
          "output_type": "stream",
          "text": [
            "Epoch 3: Train Loss=0.4827, Train Acc=0.7832, Val Loss=0.4082, Val Acc=0.8355\n"
          ]
        },
        {
          "data": {
            "application/vnd.jupyter.widget-view+json": {
              "model_id": "8c9594a42acc490a8e3bc2abec9ff588",
              "version_major": 2,
              "version_minor": 0
            },
            "text/plain": [
              "Epoch 4/50 Batches:   0%|          | 0/232 [00:00<?, ?it/s]"
            ]
          },
          "metadata": {},
          "output_type": "display_data"
        },
        {
          "name": "stdout",
          "output_type": "stream",
          "text": [
            "Epoch 4: Train Loss=0.4235, Train Acc=0.8150, Val Loss=0.3809, Val Acc=0.8139\n"
          ]
        },
        {
          "data": {
            "application/vnd.jupyter.widget-view+json": {
              "model_id": "f96235c98af545ba8364e0f4ab689e46",
              "version_major": 2,
              "version_minor": 0
            },
            "text/plain": [
              "Epoch 5/50 Batches:   0%|          | 0/232 [00:00<?, ?it/s]"
            ]
          },
          "metadata": {},
          "output_type": "display_data"
        },
        {
          "name": "stdout",
          "output_type": "stream",
          "text": [
            "Epoch 5: Train Loss=0.3884, Train Acc=0.8382, Val Loss=0.2545, Val Acc=0.8831\n"
          ]
        },
        {
          "data": {
            "application/vnd.jupyter.widget-view+json": {
              "model_id": "816cd8e96470495788f1f9d45dcf2c48",
              "version_major": 2,
              "version_minor": 0
            },
            "text/plain": [
              "Epoch 6/50 Batches:   0%|          | 0/232 [00:00<?, ?it/s]"
            ]
          },
          "metadata": {},
          "output_type": "display_data"
        },
        {
          "name": "stdout",
          "output_type": "stream",
          "text": [
            "Epoch 6: Train Loss=0.3582, Train Acc=0.8511, Val Loss=0.2927, Val Acc=0.8831\n"
          ]
        },
        {
          "data": {
            "application/vnd.jupyter.widget-view+json": {
              "model_id": "7886a4e5474c4d159239be451b93eb3b",
              "version_major": 2,
              "version_minor": 0
            },
            "text/plain": [
              "Epoch 7/50 Batches:   0%|          | 0/232 [00:00<?, ?it/s]"
            ]
          },
          "metadata": {},
          "output_type": "display_data"
        },
        {
          "name": "stdout",
          "output_type": "stream",
          "text": [
            "Epoch 7: Train Loss=0.3270, Train Acc=0.8571, Val Loss=0.2502, Val Acc=0.8874\n"
          ]
        },
        {
          "data": {
            "application/vnd.jupyter.widget-view+json": {
              "model_id": "c48d80b5e5a54695a58c6ffde2f6a85e",
              "version_major": 2,
              "version_minor": 0
            },
            "text/plain": [
              "Epoch 8/50 Batches:   0%|          | 0/232 [00:00<?, ?it/s]"
            ]
          },
          "metadata": {},
          "output_type": "display_data"
        },
        {
          "name": "stdout",
          "output_type": "stream",
          "text": [
            "Epoch 8: Train Loss=0.3196, Train Acc=0.8749, Val Loss=0.2556, Val Acc=0.8831\n"
          ]
        },
        {
          "data": {
            "application/vnd.jupyter.widget-view+json": {
              "model_id": "4b31e85a7bc94ccaa5f3d0ed46dbe0bf",
              "version_major": 2,
              "version_minor": 0
            },
            "text/plain": [
              "Epoch 9/50 Batches:   0%|          | 0/232 [00:00<?, ?it/s]"
            ]
          },
          "metadata": {},
          "output_type": "display_data"
        },
        {
          "name": "stdout",
          "output_type": "stream",
          "text": [
            "Epoch 9: Train Loss=0.2968, Train Acc=0.8770, Val Loss=0.3181, Val Acc=0.8571\n"
          ]
        },
        {
          "data": {
            "application/vnd.jupyter.widget-view+json": {
              "model_id": "d4b8b6825321458fbeeffd51078df122",
              "version_major": 2,
              "version_minor": 0
            },
            "text/plain": [
              "Epoch 10/50 Batches:   0%|          | 0/232 [00:00<?, ?it/s]"
            ]
          },
          "metadata": {},
          "output_type": "display_data"
        },
        {
          "name": "stdout",
          "output_type": "stream",
          "text": [
            "Epoch 10: Train Loss=0.2950, Train Acc=0.8792, Val Loss=0.2159, Val Acc=0.9134\n"
          ]
        },
        {
          "data": {
            "application/vnd.jupyter.widget-view+json": {
              "model_id": "aa5b344d49f34e9297cab05bc2b3be99",
              "version_major": 2,
              "version_minor": 0
            },
            "text/plain": [
              "Epoch 11/50 Batches:   0%|          | 0/232 [00:00<?, ?it/s]"
            ]
          },
          "metadata": {},
          "output_type": "display_data"
        },
        {
          "name": "stdout",
          "output_type": "stream",
          "text": [
            "Epoch 11: Train Loss=0.2958, Train Acc=0.8808, Val Loss=0.2293, Val Acc=0.9091\n"
          ]
        },
        {
          "data": {
            "application/vnd.jupyter.widget-view+json": {
              "model_id": "19f82242dc5449338f65c8e870addfe1",
              "version_major": 2,
              "version_minor": 0
            },
            "text/plain": [
              "Epoch 12/50 Batches:   0%|          | 0/232 [00:00<?, ?it/s]"
            ]
          },
          "metadata": {},
          "output_type": "display_data"
        },
        {
          "name": "stdout",
          "output_type": "stream",
          "text": [
            "Epoch 12: Train Loss=0.2368, Train Acc=0.9099, Val Loss=0.2831, Val Acc=0.8874\n"
          ]
        },
        {
          "data": {
            "application/vnd.jupyter.widget-view+json": {
              "model_id": "854e8894952144bf9b5242df9d5a7e84",
              "version_major": 2,
              "version_minor": 0
            },
            "text/plain": [
              "Epoch 13/50 Batches:   0%|          | 0/232 [00:00<?, ?it/s]"
            ]
          },
          "metadata": {},
          "output_type": "display_data"
        },
        {
          "name": "stdout",
          "output_type": "stream",
          "text": [
            "Epoch 13: Train Loss=0.2617, Train Acc=0.9008, Val Loss=0.1499, Val Acc=0.9351\n"
          ]
        },
        {
          "data": {
            "application/vnd.jupyter.widget-view+json": {
              "model_id": "26a3ec0d34f04735a1910e888bc58d7c",
              "version_major": 2,
              "version_minor": 0
            },
            "text/plain": [
              "Epoch 14/50 Batches:   0%|          | 0/232 [00:00<?, ?it/s]"
            ]
          },
          "metadata": {},
          "output_type": "display_data"
        },
        {
          "name": "stdout",
          "output_type": "stream",
          "text": [
            "Epoch 14: Train Loss=0.2063, Train Acc=0.9202, Val Loss=0.1398, Val Acc=0.9524\n"
          ]
        },
        {
          "data": {
            "application/vnd.jupyter.widget-view+json": {
              "model_id": "669e7f3639104a5cabba5881408022da",
              "version_major": 2,
              "version_minor": 0
            },
            "text/plain": [
              "Epoch 15/50 Batches:   0%|          | 0/232 [00:00<?, ?it/s]"
            ]
          },
          "metadata": {},
          "output_type": "display_data"
        },
        {
          "name": "stdout",
          "output_type": "stream",
          "text": [
            "Epoch 15: Train Loss=0.2068, Train Acc=0.9180, Val Loss=0.1347, Val Acc=0.9524\n"
          ]
        },
        {
          "data": {
            "application/vnd.jupyter.widget-view+json": {
              "model_id": "23b9b96bee1646a8b050f3d48ba8e523",
              "version_major": 2,
              "version_minor": 0
            },
            "text/plain": [
              "Epoch 16/50 Batches:   0%|          | 0/232 [00:00<?, ?it/s]"
            ]
          },
          "metadata": {},
          "output_type": "display_data"
        },
        {
          "name": "stdout",
          "output_type": "stream",
          "text": [
            "Epoch 16: Train Loss=0.2499, Train Acc=0.9051, Val Loss=0.1914, Val Acc=0.8961\n"
          ]
        },
        {
          "data": {
            "application/vnd.jupyter.widget-view+json": {
              "model_id": "677412fb13a7457db11c761df8244f1c",
              "version_major": 2,
              "version_minor": 0
            },
            "text/plain": [
              "Epoch 17/50 Batches:   0%|          | 0/232 [00:00<?, ?it/s]"
            ]
          },
          "metadata": {},
          "output_type": "display_data"
        },
        {
          "name": "stdout",
          "output_type": "stream",
          "text": [
            "Epoch 17: Train Loss=0.2062, Train Acc=0.9218, Val Loss=0.2503, Val Acc=0.9048\n"
          ]
        },
        {
          "data": {
            "application/vnd.jupyter.widget-view+json": {
              "model_id": "c60d5d614ca942deb896a21ec0d54eab",
              "version_major": 2,
              "version_minor": 0
            },
            "text/plain": [
              "Epoch 18/50 Batches:   0%|          | 0/232 [00:00<?, ?it/s]"
            ]
          },
          "metadata": {},
          "output_type": "display_data"
        },
        {
          "name": "stdout",
          "output_type": "stream",
          "text": [
            "Epoch 18: Train Loss=0.2049, Train Acc=0.9218, Val Loss=0.1855, Val Acc=0.9091\n"
          ]
        },
        {
          "data": {
            "application/vnd.jupyter.widget-view+json": {
              "model_id": "de18080ea6c644a6b7f15c0d266bb6b6",
              "version_major": 2,
              "version_minor": 0
            },
            "text/plain": [
              "Epoch 19/50 Batches:   0%|          | 0/232 [00:00<?, ?it/s]"
            ]
          },
          "metadata": {},
          "output_type": "display_data"
        },
        {
          "name": "stdout",
          "output_type": "stream",
          "text": [
            "Epoch 19: Train Loss=0.2011, Train Acc=0.9245, Val Loss=0.0897, Val Acc=0.9784\n"
          ]
        },
        {
          "data": {
            "application/vnd.jupyter.widget-view+json": {
              "model_id": "08506e993dc743f4a6d33e4e1c5d9018",
              "version_major": 2,
              "version_minor": 0
            },
            "text/plain": [
              "Epoch 20/50 Batches:   0%|          | 0/232 [00:00<?, ?it/s]"
            ]
          },
          "metadata": {},
          "output_type": "display_data"
        },
        {
          "name": "stdout",
          "output_type": "stream",
          "text": [
            "Epoch 20: Train Loss=0.2207, Train Acc=0.9207, Val Loss=0.1008, Val Acc=0.9610\n"
          ]
        },
        {
          "data": {
            "application/vnd.jupyter.widget-view+json": {
              "model_id": "bbf9043f4dbc496ebf6d23800e067dfe",
              "version_major": 2,
              "version_minor": 0
            },
            "text/plain": [
              "Epoch 21/50 Batches:   0%|          | 0/232 [00:00<?, ?it/s]"
            ]
          },
          "metadata": {},
          "output_type": "display_data"
        },
        {
          "name": "stdout",
          "output_type": "stream",
          "text": [
            "Epoch 21: Train Loss=0.1935, Train Acc=0.9277, Val Loss=0.1653, Val Acc=0.9307\n"
          ]
        },
        {
          "data": {
            "application/vnd.jupyter.widget-view+json": {
              "model_id": "b34ced4f83fb4bfc8ac1daef7a2aa6e7",
              "version_major": 2,
              "version_minor": 0
            },
            "text/plain": [
              "Epoch 22/50 Batches:   0%|          | 0/232 [00:00<?, ?it/s]"
            ]
          },
          "metadata": {},
          "output_type": "display_data"
        },
        {
          "name": "stdout",
          "output_type": "stream",
          "text": [
            "Epoch 22: Train Loss=0.1940, Train Acc=0.9396, Val Loss=0.2134, Val Acc=0.8961\n"
          ]
        },
        {
          "data": {
            "application/vnd.jupyter.widget-view+json": {
              "model_id": "9d4fbe19f35047c790e951f493028f57",
              "version_major": 2,
              "version_minor": 0
            },
            "text/plain": [
              "Epoch 23/50 Batches:   0%|          | 0/232 [00:00<?, ?it/s]"
            ]
          },
          "metadata": {},
          "output_type": "display_data"
        },
        {
          "name": "stdout",
          "output_type": "stream",
          "text": [
            "Epoch 23: Train Loss=0.1824, Train Acc=0.9347, Val Loss=0.2119, Val Acc=0.9177\n"
          ]
        },
        {
          "data": {
            "application/vnd.jupyter.widget-view+json": {
              "model_id": "ce016045a5574a94aa73708907930070",
              "version_major": 2,
              "version_minor": 0
            },
            "text/plain": [
              "Epoch 24/50 Batches:   0%|          | 0/232 [00:00<?, ?it/s]"
            ]
          },
          "metadata": {},
          "output_type": "display_data"
        },
        {
          "name": "stdout",
          "output_type": "stream",
          "text": [
            "Epoch 24: Train Loss=0.1434, Train Acc=0.9531, Val Loss=0.0732, Val Acc=0.9913\n"
          ]
        },
        {
          "data": {
            "application/vnd.jupyter.widget-view+json": {
              "model_id": "bc78e2884de9426db93d5a23ece59b6d",
              "version_major": 2,
              "version_minor": 0
            },
            "text/plain": [
              "Epoch 25/50 Batches:   0%|          | 0/232 [00:00<?, ?it/s]"
            ]
          },
          "metadata": {},
          "output_type": "display_data"
        },
        {
          "name": "stdout",
          "output_type": "stream",
          "text": [
            "Epoch 25: Train Loss=0.0846, Train Acc=0.9725, Val Loss=0.0435, Val Acc=0.9870\n"
          ]
        },
        {
          "data": {
            "application/vnd.jupyter.widget-view+json": {
              "model_id": "c47f491a39a54cf49798f620f492e266",
              "version_major": 2,
              "version_minor": 0
            },
            "text/plain": [
              "Epoch 26/50 Batches:   0%|          | 0/232 [00:00<?, ?it/s]"
            ]
          },
          "metadata": {},
          "output_type": "display_data"
        },
        {
          "name": "stdout",
          "output_type": "stream",
          "text": [
            "Epoch 26: Train Loss=0.0800, Train Acc=0.9822, Val Loss=0.0515, Val Acc=0.9784\n"
          ]
        },
        {
          "data": {
            "application/vnd.jupyter.widget-view+json": {
              "model_id": "1a13dd0f27fa47db9403ba94428761a4",
              "version_major": 2,
              "version_minor": 0
            },
            "text/plain": [
              "Epoch 27/50 Batches:   0%|          | 0/232 [00:00<?, ?it/s]"
            ]
          },
          "metadata": {},
          "output_type": "display_data"
        },
        {
          "name": "stdout",
          "output_type": "stream",
          "text": [
            "Epoch 27: Train Loss=0.0723, Train Acc=0.9773, Val Loss=0.0445, Val Acc=0.9957\n"
          ]
        },
        {
          "data": {
            "application/vnd.jupyter.widget-view+json": {
              "model_id": "8ab72614df7f44ab9bfdfb9c1450248d",
              "version_major": 2,
              "version_minor": 0
            },
            "text/plain": [
              "Epoch 28/50 Batches:   0%|          | 0/232 [00:00<?, ?it/s]"
            ]
          },
          "metadata": {},
          "output_type": "display_data"
        },
        {
          "name": "stdout",
          "output_type": "stream",
          "text": [
            "Epoch 28: Train Loss=0.0704, Train Acc=0.9811, Val Loss=0.0385, Val Acc=0.9913\n"
          ]
        },
        {
          "data": {
            "application/vnd.jupyter.widget-view+json": {
              "model_id": "79b350c50d6547f18a539a191170af52",
              "version_major": 2,
              "version_minor": 0
            },
            "text/plain": [
              "Epoch 29/50 Batches:   0%|          | 0/232 [00:00<?, ?it/s]"
            ]
          },
          "metadata": {},
          "output_type": "display_data"
        },
        {
          "name": "stdout",
          "output_type": "stream",
          "text": [
            "Epoch 29: Train Loss=0.0486, Train Acc=0.9876, Val Loss=0.0314, Val Acc=0.9913\n"
          ]
        },
        {
          "data": {
            "application/vnd.jupyter.widget-view+json": {
              "model_id": "296c40eb7c174f1788dc3b6c93ad9b0f",
              "version_major": 2,
              "version_minor": 0
            },
            "text/plain": [
              "Epoch 30/50 Batches:   0%|          | 0/232 [00:00<?, ?it/s]"
            ]
          },
          "metadata": {},
          "output_type": "display_data"
        },
        {
          "name": "stdout",
          "output_type": "stream",
          "text": [
            "Epoch 30: Train Loss=0.0588, Train Acc=0.9838, Val Loss=0.0305, Val Acc=0.9870\n"
          ]
        },
        {
          "data": {
            "application/vnd.jupyter.widget-view+json": {
              "model_id": "b02e539a92a846fbb7e0b56213b08850",
              "version_major": 2,
              "version_minor": 0
            },
            "text/plain": [
              "Epoch 31/50 Batches:   0%|          | 0/232 [00:00<?, ?it/s]"
            ]
          },
          "metadata": {},
          "output_type": "display_data"
        },
        {
          "name": "stdout",
          "output_type": "stream",
          "text": [
            "Epoch 31: Train Loss=0.0566, Train Acc=0.9827, Val Loss=0.0329, Val Acc=0.9913\n"
          ]
        },
        {
          "data": {
            "application/vnd.jupyter.widget-view+json": {
              "model_id": "e159ab0a14a646f7ab384e1e1d2aa8b3",
              "version_major": 2,
              "version_minor": 0
            },
            "text/plain": [
              "Epoch 32/50 Batches:   0%|          | 0/232 [00:00<?, ?it/s]"
            ]
          },
          "metadata": {},
          "output_type": "display_data"
        },
        {
          "name": "stdout",
          "output_type": "stream",
          "text": [
            "Epoch 32: Train Loss=0.0494, Train Acc=0.9849, Val Loss=0.0100, Val Acc=1.0000\n"
          ]
        },
        {
          "data": {
            "application/vnd.jupyter.widget-view+json": {
              "model_id": "f363cef53d754704be71c2f7372e791e",
              "version_major": 2,
              "version_minor": 0
            },
            "text/plain": [
              "Epoch 33/50 Batches:   0%|          | 0/232 [00:00<?, ?it/s]"
            ]
          },
          "metadata": {},
          "output_type": "display_data"
        },
        {
          "name": "stdout",
          "output_type": "stream",
          "text": [
            "Epoch 33: Train Loss=0.0351, Train Acc=0.9908, Val Loss=0.0193, Val Acc=0.9957\n"
          ]
        },
        {
          "data": {
            "application/vnd.jupyter.widget-view+json": {
              "model_id": "92fae2c3eb7b471da7acc69cbd8a3bad",
              "version_major": 2,
              "version_minor": 0
            },
            "text/plain": [
              "Epoch 34/50 Batches:   0%|          | 0/232 [00:00<?, ?it/s]"
            ]
          },
          "metadata": {},
          "output_type": "display_data"
        },
        {
          "name": "stdout",
          "output_type": "stream",
          "text": [
            "Epoch 34: Train Loss=0.0316, Train Acc=0.9898, Val Loss=0.0096, Val Acc=1.0000\n"
          ]
        },
        {
          "data": {
            "application/vnd.jupyter.widget-view+json": {
              "model_id": "d0e52c23b4b04106a02b0efd1736927c",
              "version_major": 2,
              "version_minor": 0
            },
            "text/plain": [
              "Epoch 35/50 Batches:   0%|          | 0/232 [00:00<?, ?it/s]"
            ]
          },
          "metadata": {},
          "output_type": "display_data"
        },
        {
          "name": "stdout",
          "output_type": "stream",
          "text": [
            "Epoch 35: Train Loss=0.0341, Train Acc=0.9919, Val Loss=0.0176, Val Acc=0.9957\n"
          ]
        },
        {
          "data": {
            "application/vnd.jupyter.widget-view+json": {
              "model_id": "767458be5bba4a8bae3704d66da43e11",
              "version_major": 2,
              "version_minor": 0
            },
            "text/plain": [
              "Epoch 36/50 Batches:   0%|          | 0/232 [00:00<?, ?it/s]"
            ]
          },
          "metadata": {},
          "output_type": "display_data"
        },
        {
          "name": "stdout",
          "output_type": "stream",
          "text": [
            "Epoch 36: Train Loss=0.0323, Train Acc=0.9919, Val Loss=0.0252, Val Acc=0.9913\n"
          ]
        },
        {
          "data": {
            "application/vnd.jupyter.widget-view+json": {
              "model_id": "72a7b0693dd148e4bc2245b74743f247",
              "version_major": 2,
              "version_minor": 0
            },
            "text/plain": [
              "Epoch 37/50 Batches:   0%|          | 0/232 [00:00<?, ?it/s]"
            ]
          },
          "metadata": {},
          "output_type": "display_data"
        },
        {
          "name": "stdout",
          "output_type": "stream",
          "text": [
            "Epoch 37: Train Loss=0.0435, Train Acc=0.9865, Val Loss=0.0183, Val Acc=0.9957\n"
          ]
        },
        {
          "data": {
            "application/vnd.jupyter.widget-view+json": {
              "model_id": "6c0e6c8f6f404ad9981322c011c93362",
              "version_major": 2,
              "version_minor": 0
            },
            "text/plain": [
              "Epoch 38/50 Batches:   0%|          | 0/232 [00:00<?, ?it/s]"
            ]
          },
          "metadata": {},
          "output_type": "display_data"
        },
        {
          "name": "stdout",
          "output_type": "stream",
          "text": [
            "Epoch 38: Train Loss=0.0222, Train Acc=0.9946, Val Loss=0.0107, Val Acc=1.0000\n"
          ]
        },
        {
          "data": {
            "application/vnd.jupyter.widget-view+json": {
              "model_id": "03e9725b486649169a1ef12df9aec29c",
              "version_major": 2,
              "version_minor": 0
            },
            "text/plain": [
              "Epoch 39/50 Batches:   0%|          | 0/232 [00:00<?, ?it/s]"
            ]
          },
          "metadata": {},
          "output_type": "display_data"
        },
        {
          "name": "stdout",
          "output_type": "stream",
          "text": [
            "Epoch 39: Train Loss=0.0256, Train Acc=0.9914, Val Loss=0.0299, Val Acc=0.9870\n"
          ]
        },
        {
          "data": {
            "application/vnd.jupyter.widget-view+json": {
              "model_id": "644e5bc034ae4d399042dbc5f8731a0c",
              "version_major": 2,
              "version_minor": 0
            },
            "text/plain": [
              "Epoch 40/50 Batches:   0%|          | 0/232 [00:00<?, ?it/s]"
            ]
          },
          "metadata": {},
          "output_type": "display_data"
        },
        {
          "name": "stdout",
          "output_type": "stream",
          "text": [
            "Epoch 40: Train Loss=0.0209, Train Acc=0.9919, Val Loss=0.0085, Val Acc=1.0000\n"
          ]
        },
        {
          "data": {
            "application/vnd.jupyter.widget-view+json": {
              "model_id": "a83b05fdf53242cfae53531f9ce1f073",
              "version_major": 2,
              "version_minor": 0
            },
            "text/plain": [
              "Epoch 41/50 Batches:   0%|          | 0/232 [00:00<?, ?it/s]"
            ]
          },
          "metadata": {},
          "output_type": "display_data"
        },
        {
          "name": "stdout",
          "output_type": "stream",
          "text": [
            "Epoch 41: Train Loss=0.0270, Train Acc=0.9924, Val Loss=0.0273, Val Acc=0.9913\n"
          ]
        },
        {
          "data": {
            "application/vnd.jupyter.widget-view+json": {
              "model_id": "7ed8b05a49324b10a03f16ee62869812",
              "version_major": 2,
              "version_minor": 0
            },
            "text/plain": [
              "Epoch 42/50 Batches:   0%|          | 0/232 [00:00<?, ?it/s]"
            ]
          },
          "metadata": {},
          "output_type": "display_data"
        },
        {
          "name": "stdout",
          "output_type": "stream",
          "text": [
            "Epoch 42: Train Loss=0.0278, Train Acc=0.9908, Val Loss=0.0048, Val Acc=1.0000\n"
          ]
        },
        {
          "data": {
            "application/vnd.jupyter.widget-view+json": {
              "model_id": "c9635085ec3c43a682b9146f3db38642",
              "version_major": 2,
              "version_minor": 0
            },
            "text/plain": [
              "Epoch 43/50 Batches:   0%|          | 0/232 [00:00<?, ?it/s]"
            ]
          },
          "metadata": {},
          "output_type": "display_data"
        },
        {
          "name": "stdout",
          "output_type": "stream",
          "text": [
            "Epoch 43: Train Loss=0.0187, Train Acc=0.9968, Val Loss=0.0072, Val Acc=1.0000\n"
          ]
        },
        {
          "data": {
            "application/vnd.jupyter.widget-view+json": {
              "model_id": "2f154875fff7465a9d1d43077d9f7638",
              "version_major": 2,
              "version_minor": 0
            },
            "text/plain": [
              "Epoch 44/50 Batches:   0%|          | 0/232 [00:00<?, ?it/s]"
            ]
          },
          "metadata": {},
          "output_type": "display_data"
        },
        {
          "name": "stdout",
          "output_type": "stream",
          "text": [
            "Epoch 44: Train Loss=0.0190, Train Acc=0.9973, Val Loss=0.0238, Val Acc=0.9913\n"
          ]
        },
        {
          "data": {
            "application/vnd.jupyter.widget-view+json": {
              "model_id": "f62cc631606e42949744b08214cf9997",
              "version_major": 2,
              "version_minor": 0
            },
            "text/plain": [
              "Epoch 45/50 Batches:   0%|          | 0/232 [00:00<?, ?it/s]"
            ]
          },
          "metadata": {},
          "output_type": "display_data"
        },
        {
          "name": "stdout",
          "output_type": "stream",
          "text": [
            "Epoch 45: Train Loss=0.0142, Train Acc=0.9968, Val Loss=0.0239, Val Acc=0.9913\n"
          ]
        },
        {
          "data": {
            "application/vnd.jupyter.widget-view+json": {
              "model_id": "60000ce5b4504ebbbd599a5df3b9c8da",
              "version_major": 2,
              "version_minor": 0
            },
            "text/plain": [
              "Epoch 46/50 Batches:   0%|          | 0/232 [00:00<?, ?it/s]"
            ]
          },
          "metadata": {},
          "output_type": "display_data"
        },
        {
          "name": "stdout",
          "output_type": "stream",
          "text": [
            "Epoch 46: Train Loss=0.0131, Train Acc=0.9973, Val Loss=0.0079, Val Acc=1.0000\n"
          ]
        },
        {
          "data": {
            "application/vnd.jupyter.widget-view+json": {
              "model_id": "23a8b273fc36418da9412af47a84eccf",
              "version_major": 2,
              "version_minor": 0
            },
            "text/plain": [
              "Epoch 47/50 Batches:   0%|          | 0/232 [00:00<?, ?it/s]"
            ]
          },
          "metadata": {},
          "output_type": "display_data"
        },
        {
          "name": "stdout",
          "output_type": "stream",
          "text": [
            "Epoch 47: Train Loss=0.0215, Train Acc=0.9935, Val Loss=0.0312, Val Acc=0.9870\n"
          ]
        },
        {
          "data": {
            "application/vnd.jupyter.widget-view+json": {
              "model_id": "4b60642dddb04ffeb04a2cd3f8208b9e",
              "version_major": 2,
              "version_minor": 0
            },
            "text/plain": [
              "Epoch 48/50 Batches:   0%|          | 0/232 [00:00<?, ?it/s]"
            ]
          },
          "metadata": {},
          "output_type": "display_data"
        },
        {
          "name": "stdout",
          "output_type": "stream",
          "text": [
            "Epoch 48: Train Loss=0.0155, Train Acc=0.9957, Val Loss=0.0100, Val Acc=0.9957\n"
          ]
        },
        {
          "data": {
            "application/vnd.jupyter.widget-view+json": {
              "model_id": "43f8a3b303b74e52aaf92f8c4c90b7ec",
              "version_major": 2,
              "version_minor": 0
            },
            "text/plain": [
              "Epoch 49/50 Batches:   0%|          | 0/232 [00:00<?, ?it/s]"
            ]
          },
          "metadata": {},
          "output_type": "display_data"
        },
        {
          "name": "stdout",
          "output_type": "stream",
          "text": [
            "Epoch 49: Train Loss=0.0198, Train Acc=0.9957, Val Loss=0.0201, Val Acc=0.9913\n"
          ]
        },
        {
          "data": {
            "application/vnd.jupyter.widget-view+json": {
              "model_id": "b6212db6b3da4e20a1ffb9967381ef27",
              "version_major": 2,
              "version_minor": 0
            },
            "text/plain": [
              "Epoch 50/50 Batches:   0%|          | 0/232 [00:00<?, ?it/s]"
            ]
          },
          "metadata": {},
          "output_type": "display_data"
        },
        {
          "name": "stdout",
          "output_type": "stream",
          "text": [
            "Epoch 50: Train Loss=0.0281, Train Acc=0.9941, Val Loss=0.0079, Val Acc=1.0000\n",
            "Model Training Completed.\n",
            "Training History:\n"
          ]
        },
        {
          "data": {
            "image/png": "[encoded data removed]",
            "text/plain": [
              "<Figure size 1200x500 with 2 Axes>"
            ]
          },
          "metadata": {},
          "output_type": "display_data"
        }
      ],
      "source": [
        "print(\"Training Mobilenet...\")\n",
        "mobilenet_model = get_model(\"mobilenet\", num_classes)\n",
        "criterion = nn.CrossEntropyLoss()\n",
        "optimizer = optim.Adam(mobilenet_model.parameters(), lr=0.001, weight_decay=1e-4)\n",
        "scheduler = optim.lr_scheduler.ReduceLROnPlateau(optimizer, mode='min', factor=0.1, patience=3)\n",
        "writer = SummaryWriter(log_dir=f\"runs/mobilenet\")\n",
        "mobilenet_model, mobilenet_history = train_model(\n",
        "    mobilenet_model, criterion, optimizer, scheduler,\n",
        "    train_loader, val_loader, writer, num_epochs=50, model_name=\"mobilenet\"\n",
        ")\n",
        "print(\"Model Training Completed.\")\n",
        "print(\"Training History:\")\n",
        "plot_curves(mobilenet_history, \"Mobilenet\")"
      ]
    },
    {
      "cell_type": "code",
      "execution_count": 27,
      "id": "f8f4a24f",
      "metadata": {},
      "outputs": [
        {
          "name": "stdout",
          "output_type": "stream",
          "text": [
            "Evaluating Mobilenet on Test Set:\n",
            "Mobilenet Test Accuracy: 0.9957\n",
            "Mobilenet Test Precision: 0.9960\n",
            "Mobilenet Test Recall: 0.9955\n",
            "Mobilenet Test F1-Score: 0.9957\n",
            "Classification Report:\n",
            "              precision    recall  f1-score   support\n",
            "\n",
            "          no       1.00      0.99      1.00       110\n",
            "         yes       0.99      1.00      1.00       123\n",
            "\n",
            "    accuracy                           1.00       233\n",
            "   macro avg       1.00      1.00      1.00       233\n",
            "weighted avg       1.00      1.00      1.00       233\n",
            "\n"
          ]
        },
        {
          "data": {
            "image/png": "[encoded data removed]",
            "text/plain": [
              "<Figure size 600x500 with 2 Axes>"
            ]
          },
          "metadata": {},
          "output_type": "display_data"
        }
      ],
      "source": [
        "# Evaluating Mobilenet\n",
        "print(\"Evaluating Mobilenet on Test Set:\")\n",
        "accuracy, precision, recall, f1 = evaluate_model(mobilenet_model, test_loader, \"Mobilenet\")\n",
        "results[\"Model\"].append(\"Mobilenet\")\n",
        "results[\"Accuracy\"].append(accuracy)\n",
        "results[\"Precision\"].append(precision)\n",
        "results[\"Recall\"].append(recall)\n",
        "results[\"F1-Score\"].append(f1)"
      ]
    },
    {
      "cell_type": "code",
      "execution_count": 28,
      "id": "807a3c72",
      "metadata": {},
      "outputs": [],
      "source": [
        "# Save the trained model\n",
        "torch.save(mobilenet_model.state_dict(), \"saved_models/mobilenet_model.pth\")"
      ]
    },
    {
      "cell_type": "code",
      "execution_count": 29,
      "id": "5220a411",
      "metadata": {},
      "outputs": [],
      "source": [
        "# Clear GPU memory\n",
        "torch.cuda.empty_cache()"
      ]
    },
    {
      "cell_type": "markdown",
      "id": "350f4a8b",
      "metadata": {},
      "source": [
        "### **Train VGG19**"
      ]
    },
    {
      "cell_type": "code",
      "execution_count": 32,
      "id": "0ef0f97b",
      "metadata": {},
      "outputs": [
        {
          "name": "stdout",
          "output_type": "stream",
          "text": [
            "Training VGG19...\n"
          ]
        },
        {
          "data": {
            "application/vnd.jupyter.widget-view+json": {
              "model_id": "892bb8cdcb664053a6e9cf1c20c30082",
              "version_major": 2,
              "version_minor": 0
            },
            "text/plain": [
              "Training Progress:   0%|          | 0/50 [00:00<?, ?it/s]"
            ]
          },
          "metadata": {},
          "output_type": "display_data"
        },
        {
          "data": {
            "application/vnd.jupyter.widget-view+json": {
              "model_id": "afa5504c44704c4685d9f77cfc350f70",
              "version_major": 2,
              "version_minor": 0
            },
            "text/plain": [
              "Epoch 1/50 Batches:   0%|          | 0/232 [00:00<?, ?it/s]"
            ]
          },
          "metadata": {},
          "output_type": "display_data"
        },
        {
          "name": "stdout",
          "output_type": "stream",
          "text": [
            "Epoch 1: Train Loss=0.1554, Train Acc=0.9380, Val Loss=0.1943, Val Acc=0.9221\n"
          ]
        },
        {
          "data": {
            "application/vnd.jupyter.widget-view+json": {
              "model_id": "1ab6bbb63de7490d80421834989b407d",
              "version_major": 2,
              "version_minor": 0
            },
            "text/plain": [
              "Epoch 2/50 Batches:   0%|          | 0/232 [00:00<?, ?it/s]"
            ]
          },
          "metadata": {},
          "output_type": "display_data"
        },
        {
          "name": "stdout",
          "output_type": "stream",
          "text": [
            "Epoch 2: Train Loss=0.1529, Train Acc=0.9471, Val Loss=0.1310, Val Acc=0.9740\n"
          ]
        },
        {
          "data": {
            "application/vnd.jupyter.widget-view+json": {
              "model_id": "b9bbe9e321d1497a9d6db0511050be8e",
              "version_major": 2,
              "version_minor": 0
            },
            "text/plain": [
              "Epoch 3/50 Batches:   0%|          | 0/232 [00:00<?, ?it/s]"
            ]
          },
          "metadata": {},
          "output_type": "display_data"
        },
        {
          "name": "stdout",
          "output_type": "stream",
          "text": [
            "Epoch 3: Train Loss=0.1243, Train Acc=0.9595, Val Loss=0.0627, Val Acc=0.9784\n"
          ]
        },
        {
          "data": {
            "application/vnd.jupyter.widget-view+json": {
              "model_id": "d2d2d23df35a440bbb14f1c87d0c29c7",
              "version_major": 2,
              "version_minor": 0
            },
            "text/plain": [
              "Epoch 4/50 Batches:   0%|          | 0/232 [00:00<?, ?it/s]"
            ]
          },
          "metadata": {},
          "output_type": "display_data"
        },
        {
          "name": "stdout",
          "output_type": "stream",
          "text": [
            "Epoch 4: Train Loss=0.1597, Train Acc=0.9466, Val Loss=0.0770, Val Acc=0.9697\n"
          ]
        },
        {
          "data": {
            "application/vnd.jupyter.widget-view+json": {
              "model_id": "54b6fb24d8ce426493531d8a2a2c0cec",
              "version_major": 2,
              "version_minor": 0
            },
            "text/plain": [
              "Epoch 5/50 Batches:   0%|          | 0/232 [00:00<?, ?it/s]"
            ]
          },
          "metadata": {},
          "output_type": "display_data"
        },
        {
          "name": "stdout",
          "output_type": "stream",
          "text": [
            "Epoch 5: Train Loss=0.1517, Train Acc=0.9477, Val Loss=0.2055, Val Acc=0.9177\n"
          ]
        },
        {
          "data": {
            "application/vnd.jupyter.widget-view+json": {
              "model_id": "a2dc22146f99482198bd5c737229daf6",
              "version_major": 2,
              "version_minor": 0
            },
            "text/plain": [
              "Epoch 6/50 Batches:   0%|          | 0/232 [00:00<?, ?it/s]"
            ]
          },
          "metadata": {},
          "output_type": "display_data"
        },
        {
          "name": "stdout",
          "output_type": "stream",
          "text": [
            "Epoch 6: Train Loss=0.1189, Train Acc=0.9536, Val Loss=0.1526, Val Acc=0.9307\n"
          ]
        },
        {
          "data": {
            "application/vnd.jupyter.widget-view+json": {
              "model_id": "3b9cde70fc1d4f049ff62bd6ecebafda",
              "version_major": 2,
              "version_minor": 0
            },
            "text/plain": [
              "Epoch 7/50 Batches:   0%|          | 0/232 [00:00<?, ?it/s]"
            ]
          },
          "metadata": {},
          "output_type": "display_data"
        },
        {
          "name": "stdout",
          "output_type": "stream",
          "text": [
            "Epoch 7: Train Loss=0.1044, Train Acc=0.9617, Val Loss=0.0765, Val Acc=0.9784\n"
          ]
        },
        {
          "data": {
            "application/vnd.jupyter.widget-view+json": {
              "model_id": "ae4c11351d904efd885af2ed05e10259",
              "version_major": 2,
              "version_minor": 0
            },
            "text/plain": [
              "Epoch 8/50 Batches:   0%|          | 0/232 [00:00<?, ?it/s]"
            ]
          },
          "metadata": {},
          "output_type": "display_data"
        },
        {
          "name": "stdout",
          "output_type": "stream",
          "text": [
            "Epoch 8: Train Loss=0.0542, Train Acc=0.9833, Val Loss=0.0376, Val Acc=0.9913\n"
          ]
        },
        {
          "data": {
            "application/vnd.jupyter.widget-view+json": {
              "model_id": "8404837e270642aab7fce14966f4263b",
              "version_major": 2,
              "version_minor": 0
            },
            "text/plain": [
              "Epoch 9/50 Batches:   0%|          | 0/232 [00:00<?, ?it/s]"
            ]
          },
          "metadata": {},
          "output_type": "display_data"
        },
        {
          "name": "stdout",
          "output_type": "stream",
          "text": [
            "Epoch 9: Train Loss=0.0501, Train Acc=0.9865, Val Loss=0.0253, Val Acc=0.9913\n"
          ]
        },
        {
          "data": {
            "application/vnd.jupyter.widget-view+json": {
              "model_id": "db258edaf44843d79ab5e9f92342ffd7",
              "version_major": 2,
              "version_minor": 0
            },
            "text/plain": [
              "Epoch 10/50 Batches:   0%|          | 0/232 [00:00<?, ?it/s]"
            ]
          },
          "metadata": {},
          "output_type": "display_data"
        },
        {
          "name": "stdout",
          "output_type": "stream",
          "text": [
            "Epoch 10: Train Loss=0.0308, Train Acc=0.9924, Val Loss=0.0233, Val Acc=0.9957\n"
          ]
        },
        {
          "data": {
            "application/vnd.jupyter.widget-view+json": {
              "model_id": "e24172adc65c4f4a8214fa06aa739319",
              "version_major": 2,
              "version_minor": 0
            },
            "text/plain": [
              "Epoch 11/50 Batches:   0%|          | 0/232 [00:00<?, ?it/s]"
            ]
          },
          "metadata": {},
          "output_type": "display_data"
        },
        {
          "name": "stdout",
          "output_type": "stream",
          "text": [
            "Epoch 11: Train Loss=0.0324, Train Acc=0.9876, Val Loss=0.0154, Val Acc=0.9957\n"
          ]
        },
        {
          "data": {
            "application/vnd.jupyter.widget-view+json": {
              "model_id": "1af6c80ef8a94453a137817efb0c895f",
              "version_major": 2,
              "version_minor": 0
            },
            "text/plain": [
              "Epoch 12/50 Batches:   0%|          | 0/232 [00:00<?, ?it/s]"
            ]
          },
          "metadata": {},
          "output_type": "display_data"
        },
        {
          "name": "stdout",
          "output_type": "stream",
          "text": [
            "Epoch 12: Train Loss=0.0195, Train Acc=0.9962, Val Loss=0.0115, Val Acc=0.9957\n"
          ]
        },
        {
          "data": {
            "application/vnd.jupyter.widget-view+json": {
              "model_id": "0ecf1187f18c4ef1acbd4e6fe97204a6",
              "version_major": 2,
              "version_minor": 0
            },
            "text/plain": [
              "Epoch 13/50 Batches:   0%|          | 0/232 [00:00<?, ?it/s]"
            ]
          },
          "metadata": {},
          "output_type": "display_data"
        },
        {
          "name": "stdout",
          "output_type": "stream",
          "text": [
            "Epoch 13: Train Loss=0.0181, Train Acc=0.9951, Val Loss=0.0086, Val Acc=1.0000\n"
          ]
        },
        {
          "data": {
            "application/vnd.jupyter.widget-view+json": {
              "model_id": "9ef662cd111a4c958b42fea78f5b4b77",
              "version_major": 2,
              "version_minor": 0
            },
            "text/plain": [
              "Epoch 14/50 Batches:   0%|          | 0/232 [00:00<?, ?it/s]"
            ]
          },
          "metadata": {},
          "output_type": "display_data"
        },
        {
          "name": "stdout",
          "output_type": "stream",
          "text": [
            "Epoch 14: Train Loss=0.0149, Train Acc=0.9962, Val Loss=0.0246, Val Acc=0.9827\n"
          ]
        },
        {
          "data": {
            "application/vnd.jupyter.widget-view+json": {
              "model_id": "14938a622b9c4838a21782dafb059048",
              "version_major": 2,
              "version_minor": 0
            },
            "text/plain": [
              "Epoch 15/50 Batches:   0%|          | 0/232 [00:00<?, ?it/s]"
            ]
          },
          "metadata": {},
          "output_type": "display_data"
        },
        {
          "name": "stdout",
          "output_type": "stream",
          "text": [
            "Epoch 15: Train Loss=0.0266, Train Acc=0.9898, Val Loss=0.0107, Val Acc=1.0000\n"
          ]
        },
        {
          "data": {
            "application/vnd.jupyter.widget-view+json": {
              "model_id": "9e828b50b0724771b1e89c2726f4ff83",
              "version_major": 2,
              "version_minor": 0
            },
            "text/plain": [
              "Epoch 16/50 Batches:   0%|          | 0/232 [00:00<?, ?it/s]"
            ]
          },
          "metadata": {},
          "output_type": "display_data"
        },
        {
          "name": "stdout",
          "output_type": "stream",
          "text": [
            "Epoch 16: Train Loss=0.0222, Train Acc=0.9935, Val Loss=0.0091, Val Acc=1.0000\n"
          ]
        },
        {
          "data": {
            "application/vnd.jupyter.widget-view+json": {
              "model_id": "a60de16325ed4286bc30ef9c588e1461",
              "version_major": 2,
              "version_minor": 0
            },
            "text/plain": [
              "Epoch 17/50 Batches:   0%|          | 0/232 [00:00<?, ?it/s]"
            ]
          },
          "metadata": {},
          "output_type": "display_data"
        },
        {
          "name": "stdout",
          "output_type": "stream",
          "text": [
            "Epoch 17: Train Loss=0.0268, Train Acc=0.9951, Val Loss=0.0158, Val Acc=1.0000\n"
          ]
        },
        {
          "data": {
            "application/vnd.jupyter.widget-view+json": {
              "model_id": "7b6e1faa00a044ee994f77679760a377",
              "version_major": 2,
              "version_minor": 0
            },
            "text/plain": [
              "Epoch 18/50 Batches:   0%|          | 0/232 [00:00<?, ?it/s]"
            ]
          },
          "metadata": {},
          "output_type": "display_data"
        },
        {
          "name": "stdout",
          "output_type": "stream",
          "text": [
            "Epoch 18: Train Loss=0.0122, Train Acc=0.9968, Val Loss=0.0069, Val Acc=1.0000\n"
          ]
        },
        {
          "data": {
            "application/vnd.jupyter.widget-view+json": {
              "model_id": "f9ad94f1d08042adb8db208843814c89",
              "version_major": 2,
              "version_minor": 0
            },
            "text/plain": [
              "Epoch 19/50 Batches:   0%|          | 0/232 [00:00<?, ?it/s]"
            ]
          },
          "metadata": {},
          "output_type": "display_data"
        },
        {
          "name": "stdout",
          "output_type": "stream",
          "text": [
            "Epoch 19: Train Loss=0.0159, Train Acc=0.9941, Val Loss=0.0040, Val Acc=1.0000\n"
          ]
        },
        {
          "data": {
            "application/vnd.jupyter.widget-view+json": {
              "model_id": "9830eb76cd44400bb18b3ca0c854098d",
              "version_major": 2,
              "version_minor": 0
            },
            "text/plain": [
              "Epoch 20/50 Batches:   0%|          | 0/232 [00:00<?, ?it/s]"
            ]
          },
          "metadata": {},
          "output_type": "display_data"
        },
        {
          "name": "stdout",
          "output_type": "stream",
          "text": [
            "Epoch 20: Train Loss=0.0110, Train Acc=0.9978, Val Loss=0.0057, Val Acc=1.0000\n"
          ]
        },
        {
          "data": {
            "application/vnd.jupyter.widget-view+json": {
              "model_id": "7f05dafa1fc14279acc0ee739650db8d",
              "version_major": 2,
              "version_minor": 0
            },
            "text/plain": [
              "Epoch 21/50 Batches:   0%|          | 0/232 [00:00<?, ?it/s]"
            ]
          },
          "metadata": {},
          "output_type": "display_data"
        },
        {
          "name": "stdout",
          "output_type": "stream",
          "text": [
            "Epoch 21: Train Loss=0.0181, Train Acc=0.9968, Val Loss=0.0131, Val Acc=0.9957\n"
          ]
        },
        {
          "data": {
            "application/vnd.jupyter.widget-view+json": {
              "model_id": "09a8cadec6654e31b591c3b159ad574b",
              "version_major": 2,
              "version_minor": 0
            },
            "text/plain": [
              "Epoch 22/50 Batches:   0%|          | 0/232 [00:00<?, ?it/s]"
            ]
          },
          "metadata": {},
          "output_type": "display_data"
        },
        {
          "name": "stdout",
          "output_type": "stream",
          "text": [
            "Epoch 22: Train Loss=0.0095, Train Acc=0.9989, Val Loss=0.0089, Val Acc=1.0000\n"
          ]
        },
        {
          "data": {
            "application/vnd.jupyter.widget-view+json": {
              "model_id": "e1a4f2cd05f04f89baecbe7ec5bb65c8",
              "version_major": 2,
              "version_minor": 0
            },
            "text/plain": [
              "Epoch 23/50 Batches:   0%|          | 0/232 [00:00<?, ?it/s]"
            ]
          },
          "metadata": {},
          "output_type": "display_data"
        },
        {
          "name": "stdout",
          "output_type": "stream",
          "text": [
            "Epoch 23: Train Loss=0.0104, Train Acc=0.9978, Val Loss=0.0071, Val Acc=1.0000\n"
          ]
        },
        {
          "data": {
            "application/vnd.jupyter.widget-view+json": {
              "model_id": "0bd5b5d8f2034ab1bac8fb13e344ab5d",
              "version_major": 2,
              "version_minor": 0
            },
            "text/plain": [
              "Epoch 24/50 Batches:   0%|          | 0/232 [00:00<?, ?it/s]"
            ]
          },
          "metadata": {},
          "output_type": "display_data"
        },
        {
          "name": "stdout",
          "output_type": "stream",
          "text": [
            "Epoch 24: Train Loss=0.0145, Train Acc=0.9957, Val Loss=0.0096, Val Acc=1.0000\n"
          ]
        },
        {
          "data": {
            "application/vnd.jupyter.widget-view+json": {
              "model_id": "65fa79b428bb418abb0938d34eb06588",
              "version_major": 2,
              "version_minor": 0
            },
            "text/plain": [
              "Epoch 25/50 Batches:   0%|          | 0/232 [00:00<?, ?it/s]"
            ]
          },
          "metadata": {},
          "output_type": "display_data"
        },
        {
          "name": "stdout",
          "output_type": "stream",
          "text": [
            "Epoch 25: Train Loss=0.0196, Train Acc=0.9968, Val Loss=0.0064, Val Acc=1.0000\n"
          ]
        },
        {
          "data": {
            "application/vnd.jupyter.widget-view+json": {
              "model_id": "9d905830603947efa0f7a1fb90028265",
              "version_major": 2,
              "version_minor": 0
            },
            "text/plain": [
              "Epoch 26/50 Batches:   0%|          | 0/232 [00:00<?, ?it/s]"
            ]
          },
          "metadata": {},
          "output_type": "display_data"
        },
        {
          "name": "stdout",
          "output_type": "stream",
          "text": [
            "Epoch 26: Train Loss=0.0185, Train Acc=0.9946, Val Loss=0.0116, Val Acc=0.9957\n"
          ]
        },
        {
          "data": {
            "application/vnd.jupyter.widget-view+json": {
              "model_id": "2ae89b74b5a34178b759fbe057ef4875",
              "version_major": 2,
              "version_minor": 0
            },
            "text/plain": [
              "Epoch 27/50 Batches:   0%|          | 0/232 [00:00<?, ?it/s]"
            ]
          },
          "metadata": {},
          "output_type": "display_data"
        },
        {
          "name": "stdout",
          "output_type": "stream",
          "text": [
            "Epoch 27: Train Loss=0.0192, Train Acc=0.9957, Val Loss=0.0064, Val Acc=1.0000\n"
          ]
        },
        {
          "data": {
            "application/vnd.jupyter.widget-view+json": {
              "model_id": "11358afb74f34089ac929e6d7ba72802",
              "version_major": 2,
              "version_minor": 0
            },
            "text/plain": [
              "Epoch 28/50 Batches:   0%|          | 0/232 [00:00<?, ?it/s]"
            ]
          },
          "metadata": {},
          "output_type": "display_data"
        },
        {
          "name": "stdout",
          "output_type": "stream",
          "text": [
            "Epoch 28: Train Loss=0.0116, Train Acc=0.9978, Val Loss=0.0057, Val Acc=1.0000\n"
          ]
        },
        {
          "data": {
            "application/vnd.jupyter.widget-view+json": {
              "model_id": "ac99f098df714d98b8f67f6cac25e2d1",
              "version_major": 2,
              "version_minor": 0
            },
            "text/plain": [
              "Epoch 29/50 Batches:   0%|          | 0/232 [00:00<?, ?it/s]"
            ]
          },
          "metadata": {},
          "output_type": "display_data"
        },
        {
          "name": "stdout",
          "output_type": "stream",
          "text": [
            "Epoch 29: Train Loss=0.0186, Train Acc=0.9941, Val Loss=0.0089, Val Acc=0.9957\n"
          ]
        },
        {
          "data": {
            "application/vnd.jupyter.widget-view+json": {
              "model_id": "72e64d3436f541d2a047832c75cb16c3",
              "version_major": 2,
              "version_minor": 0
            },
            "text/plain": [
              "Epoch 30/50 Batches:   0%|          | 0/232 [00:00<?, ?it/s]"
            ]
          },
          "metadata": {},
          "output_type": "display_data"
        },
        {
          "name": "stdout",
          "output_type": "stream",
          "text": [
            "Epoch 30: Train Loss=0.0304, Train Acc=0.9930, Val Loss=0.0117, Val Acc=1.0000\n"
          ]
        },
        {
          "data": {
            "application/vnd.jupyter.widget-view+json": {
              "model_id": "c373d74a6d8d4951bb559ca1fd74c8a2",
              "version_major": 2,
              "version_minor": 0
            },
            "text/plain": [
              "Epoch 31/50 Batches:   0%|          | 0/232 [00:00<?, ?it/s]"
            ]
          },
          "metadata": {},
          "output_type": "display_data"
        },
        {
          "name": "stdout",
          "output_type": "stream",
          "text": [
            "Epoch 31: Train Loss=0.0125, Train Acc=0.9968, Val Loss=0.0071, Val Acc=1.0000\n"
          ]
        },
        {
          "data": {
            "application/vnd.jupyter.widget-view+json": {
              "model_id": "278c73ad56384b70915a0976ad217954",
              "version_major": 2,
              "version_minor": 0
            },
            "text/plain": [
              "Epoch 32/50 Batches:   0%|          | 0/232 [00:00<?, ?it/s]"
            ]
          },
          "metadata": {},
          "output_type": "display_data"
        },
        {
          "name": "stdout",
          "output_type": "stream",
          "text": [
            "Epoch 32: Train Loss=0.0190, Train Acc=0.9957, Val Loss=0.0078, Val Acc=1.0000\n"
          ]
        },
        {
          "data": {
            "application/vnd.jupyter.widget-view+json": {
              "model_id": "6f73d6193a1c4ffe8cbf7d1eb3b3d0db",
              "version_major": 2,
              "version_minor": 0
            },
            "text/plain": [
              "Epoch 33/50 Batches:   0%|          | 0/232 [00:00<?, ?it/s]"
            ]
          },
          "metadata": {},
          "output_type": "display_data"
        },
        {
          "name": "stdout",
          "output_type": "stream",
          "text": [
            "Epoch 33: Train Loss=0.0150, Train Acc=0.9973, Val Loss=0.0077, Val Acc=1.0000\n"
          ]
        },
        {
          "data": {
            "application/vnd.jupyter.widget-view+json": {
              "model_id": "3cb2a6ee440c4de8afbbb860e00f4e5a",
              "version_major": 2,
              "version_minor": 0
            },
            "text/plain": [
              "Epoch 34/50 Batches:   0%|          | 0/232 [00:00<?, ?it/s]"
            ]
          },
          "metadata": {},
          "output_type": "display_data"
        },
        {
          "name": "stdout",
          "output_type": "stream",
          "text": [
            "Epoch 34: Train Loss=0.0089, Train Acc=0.9978, Val Loss=0.0122, Val Acc=1.0000\n"
          ]
        },
        {
          "data": {
            "application/vnd.jupyter.widget-view+json": {
              "model_id": "6fb87871c7014063aeab1f30342a4c6e",
              "version_major": 2,
              "version_minor": 0
            },
            "text/plain": [
              "Epoch 35/50 Batches:   0%|          | 0/232 [00:00<?, ?it/s]"
            ]
          },
          "metadata": {},
          "output_type": "display_data"
        },
        {
          "name": "stdout",
          "output_type": "stream",
          "text": [
            "Epoch 35: Train Loss=0.0251, Train Acc=0.9941, Val Loss=0.0047, Val Acc=1.0000\n"
          ]
        },
        {
          "data": {
            "application/vnd.jupyter.widget-view+json": {
              "model_id": "5e0ef4bbf6e845b3b40e2edba1244a9d",
              "version_major": 2,
              "version_minor": 0
            },
            "text/plain": [
              "Epoch 36/50 Batches:   0%|          | 0/232 [00:00<?, ?it/s]"
            ]
          },
          "metadata": {},
          "output_type": "display_data"
        },
        {
          "name": "stdout",
          "output_type": "stream",
          "text": [
            "Epoch 36: Train Loss=0.0119, Train Acc=0.9962, Val Loss=0.0101, Val Acc=1.0000\n"
          ]
        },
        {
          "data": {
            "application/vnd.jupyter.widget-view+json": {
              "model_id": "1e4656b6d95c412b96a5297d54222e2b",
              "version_major": 2,
              "version_minor": 0
            },
            "text/plain": [
              "Epoch 37/50 Batches:   0%|          | 0/232 [00:00<?, ?it/s]"
            ]
          },
          "metadata": {},
          "output_type": "display_data"
        },
        {
          "name": "stdout",
          "output_type": "stream",
          "text": [
            "Epoch 37: Train Loss=0.0157, Train Acc=0.9946, Val Loss=0.0187, Val Acc=0.9957\n"
          ]
        },
        {
          "data": {
            "application/vnd.jupyter.widget-view+json": {
              "model_id": "96ea4cc9f2114624b6d746700fb99b5e",
              "version_major": 2,
              "version_minor": 0
            },
            "text/plain": [
              "Epoch 38/50 Batches:   0%|          | 0/232 [00:00<?, ?it/s]"
            ]
          },
          "metadata": {},
          "output_type": "display_data"
        },
        {
          "name": "stdout",
          "output_type": "stream",
          "text": [
            "Epoch 38: Train Loss=0.0093, Train Acc=0.9978, Val Loss=0.0045, Val Acc=1.0000\n"
          ]
        },
        {
          "data": {
            "application/vnd.jupyter.widget-view+json": {
              "model_id": "419340d9c71a41c5b5daf15da9c05803",
              "version_major": 2,
              "version_minor": 0
            },
            "text/plain": [
              "Epoch 39/50 Batches:   0%|          | 0/232 [00:00<?, ?it/s]"
            ]
          },
          "metadata": {},
          "output_type": "display_data"
        },
        {
          "name": "stdout",
          "output_type": "stream",
          "text": [
            "Epoch 39: Train Loss=0.0175, Train Acc=0.9951, Val Loss=0.0096, Val Acc=1.0000\n"
          ]
        },
        {
          "data": {
            "application/vnd.jupyter.widget-view+json": {
              "model_id": "c54279fa81ec4ebf957afe926446eb77",
              "version_major": 2,
              "version_minor": 0
            },
            "text/plain": [
              "Epoch 40/50 Batches:   0%|          | 0/232 [00:00<?, ?it/s]"
            ]
          },
          "metadata": {},
          "output_type": "display_data"
        },
        {
          "name": "stdout",
          "output_type": "stream",
          "text": [
            "Epoch 40: Train Loss=0.0203, Train Acc=0.9957, Val Loss=0.0129, Val Acc=0.9957\n"
          ]
        },
        {
          "data": {
            "application/vnd.jupyter.widget-view+json": {
              "model_id": "a83f85e58f5946b0a1e1d206728e1b01",
              "version_major": 2,
              "version_minor": 0
            },
            "text/plain": [
              "Epoch 41/50 Batches:   0%|          | 0/232 [00:00<?, ?it/s]"
            ]
          },
          "metadata": {},
          "output_type": "display_data"
        },
        {
          "name": "stdout",
          "output_type": "stream",
          "text": [
            "Epoch 41: Train Loss=0.0147, Train Acc=0.9957, Val Loss=0.0064, Val Acc=1.0000\n"
          ]
        },
        {
          "data": {
            "application/vnd.jupyter.widget-view+json": {
              "model_id": "fbb542aeaec84b81b42f6dd19212d81c",
              "version_major": 2,
              "version_minor": 0
            },
            "text/plain": [
              "Epoch 42/50 Batches:   0%|          | 0/232 [00:00<?, ?it/s]"
            ]
          },
          "metadata": {},
          "output_type": "display_data"
        },
        {
          "name": "stdout",
          "output_type": "stream",
          "text": [
            "Epoch 42: Train Loss=0.0129, Train Acc=0.9968, Val Loss=0.0102, Val Acc=1.0000\n"
          ]
        },
        {
          "data": {
            "application/vnd.jupyter.widget-view+json": {
              "model_id": "1c35d530350c4c78a5b959868a695593",
              "version_major": 2,
              "version_minor": 0
            },
            "text/plain": [
              "Epoch 43/50 Batches:   0%|          | 0/232 [00:00<?, ?it/s]"
            ]
          },
          "metadata": {},
          "output_type": "display_data"
        },
        {
          "name": "stdout",
          "output_type": "stream",
          "text": [
            "Epoch 43: Train Loss=0.0104, Train Acc=0.9978, Val Loss=0.0135, Val Acc=0.9957\n"
          ]
        },
        {
          "data": {
            "application/vnd.jupyter.widget-view+json": {
              "model_id": "b514ebafc81647a4b5202e47d121be58",
              "version_major": 2,
              "version_minor": 0
            },
            "text/plain": [
              "Epoch 44/50 Batches:   0%|          | 0/232 [00:00<?, ?it/s]"
            ]
          },
          "metadata": {},
          "output_type": "display_data"
        },
        {
          "name": "stdout",
          "output_type": "stream",
          "text": [
            "Epoch 44: Train Loss=0.0227, Train Acc=0.9935, Val Loss=0.0048, Val Acc=1.0000\n"
          ]
        },
        {
          "data": {
            "application/vnd.jupyter.widget-view+json": {
              "model_id": "0d39c18b55054eee8e29b908b4cd27cd",
              "version_major": 2,
              "version_minor": 0
            },
            "text/plain": [
              "Epoch 45/50 Batches:   0%|          | 0/232 [00:00<?, ?it/s]"
            ]
          },
          "metadata": {},
          "output_type": "display_data"
        },
        {
          "name": "stdout",
          "output_type": "stream",
          "text": [
            "Epoch 45: Train Loss=0.0133, Train Acc=0.9962, Val Loss=0.0066, Val Acc=1.0000\n"
          ]
        },
        {
          "data": {
            "application/vnd.jupyter.widget-view+json": {
              "model_id": "19e543871e10447f97f2bd4d83242d45",
              "version_major": 2,
              "version_minor": 0
            },
            "text/plain": [
              "Epoch 46/50 Batches:   0%|          | 0/232 [00:00<?, ?it/s]"
            ]
          },
          "metadata": {},
          "output_type": "display_data"
        },
        {
          "name": "stdout",
          "output_type": "stream",
          "text": [
            "Epoch 46: Train Loss=0.0110, Train Acc=0.9984, Val Loss=0.0076, Val Acc=1.0000\n"
          ]
        },
        {
          "data": {
            "application/vnd.jupyter.widget-view+json": {
              "model_id": "2a1057ae44ae474aa1fefd69020f6c52",
              "version_major": 2,
              "version_minor": 0
            },
            "text/plain": [
              "Epoch 47/50 Batches:   0%|          | 0/232 [00:00<?, ?it/s]"
            ]
          },
          "metadata": {},
          "output_type": "display_data"
        },
        {
          "name": "stdout",
          "output_type": "stream",
          "text": [
            "Epoch 47: Train Loss=0.0167, Train Acc=0.9973, Val Loss=0.0113, Val Acc=0.9957\n"
          ]
        },
        {
          "data": {
            "application/vnd.jupyter.widget-view+json": {
              "model_id": "858ec8d321ee44a6baf6ef188787d113",
              "version_major": 2,
              "version_minor": 0
            },
            "text/plain": [
              "Epoch 48/50 Batches:   0%|          | 0/232 [00:00<?, ?it/s]"
            ]
          },
          "metadata": {},
          "output_type": "display_data"
        },
        {
          "name": "stdout",
          "output_type": "stream",
          "text": [
            "Epoch 48: Train Loss=0.0178, Train Acc=0.9951, Val Loss=0.0074, Val Acc=1.0000\n"
          ]
        },
        {
          "data": {
            "application/vnd.jupyter.widget-view+json": {
              "model_id": "2eb35d6232e843ef9561bc7607dbe3e5",
              "version_major": 2,
              "version_minor": 0
            },
            "text/plain": [
              "Epoch 49/50 Batches:   0%|          | 0/232 [00:00<?, ?it/s]"
            ]
          },
          "metadata": {},
          "output_type": "display_data"
        },
        {
          "name": "stdout",
          "output_type": "stream",
          "text": [
            "Epoch 49: Train Loss=0.0131, Train Acc=0.9957, Val Loss=0.0127, Val Acc=1.0000\n"
          ]
        },
        {
          "data": {
            "application/vnd.jupyter.widget-view+json": {
              "model_id": "d4878e3afda14dbdb6cd2f44dd3a07fb",
              "version_major": 2,
              "version_minor": 0
            },
            "text/plain": [
              "Epoch 50/50 Batches:   0%|          | 0/232 [00:00<?, ?it/s]"
            ]
          },
          "metadata": {},
          "output_type": "display_data"
        },
        {
          "name": "stdout",
          "output_type": "stream",
          "text": [
            "Epoch 50: Train Loss=0.0218, Train Acc=0.9941, Val Loss=0.0087, Val Acc=1.0000\n",
            "Model Training Completed.\n",
            "Training History:\n"
          ]
        },
        {
          "data": {
            "image/png": "[encoded data removed]",
            "text/plain": [
              "<Figure size 1200x500 with 2 Axes>"
            ]
          },
          "metadata": {},
          "output_type": "display_data"
        }
      ],
      "source": [
        "print(\"Training VGG19...\")\n",
        "vgg19_model = get_model(\"vgg19\", num_classes)\n",
        "criterion = nn.CrossEntropyLoss()\n",
        "optimizer = optim.Adam(mobilenet_model.parameters(), lr=0.001, weight_decay=1e-4)\n",
        "scheduler = optim.lr_scheduler.ReduceLROnPlateau(optimizer, mode='min', factor=0.1, patience=3)\n",
        "writer = SummaryWriter(log_dir=f\"runs/vgg19\")\n",
        "mobilenet_model, mobilenet_history = train_model(\n",
        "    mobilenet_model, criterion, optimizer, scheduler,\n",
        "    train_loader, val_loader, writer, num_epochs=50, model_name=\"vgg19\"\n",
        ")\n",
        "print(\"Model Training Completed.\")\n",
        "print(\"Training History:\")\n",
        "plot_curves(mobilenet_history, \"VGG19\")"
      ]
    },
    {
      "cell_type": "code",
      "execution_count": 33,
      "id": "3f03705f",
      "metadata": {},
      "outputs": [
        {
          "name": "stdout",
          "output_type": "stream",
          "text": [
            "Evaluating VGG19 on Test Set:\n",
            "VGG19 Test Accuracy: 0.9957\n",
            "VGG19 Test Precision: 0.9955\n",
            "VGG19 Test Recall: 0.9959\n",
            "VGG19 Test F1-Score: 0.9957\n",
            "Classification Report:\n",
            "              precision    recall  f1-score   support\n",
            "\n",
            "          no       0.99      1.00      1.00       110\n",
            "         yes       1.00      0.99      1.00       123\n",
            "\n",
            "    accuracy                           1.00       233\n",
            "   macro avg       1.00      1.00      1.00       233\n",
            "weighted avg       1.00      1.00      1.00       233\n",
            "\n"
          ]
        },
        {
          "data": {
            "image/png": "[encoded data removed]",
            "text/plain": [
              "<Figure size 600x500 with 2 Axes>"
            ]
          },
          "metadata": {},
          "output_type": "display_data"
        }
      ],
      "source": [
        "# Evaluating VGG19\n",
        "print(\"Evaluating VGG19 on Test Set:\")\n",
        "accuracy, precision, recall, f1 = evaluate_model(mobilenet_model, test_loader, \"VGG19\")\n",
        "results[\"Model\"].append(\"VGG19\")\n",
        "results[\"Accuracy\"].append(accuracy)\n",
        "results[\"Precision\"].append(precision)\n",
        "results[\"Recall\"].append(recall)\n",
        "results[\"F1-Score\"].append(f1)"
      ]
    },
    {
      "cell_type": "code",
      "execution_count": 34,
      "id": "db35747e",
      "metadata": {},
      "outputs": [],
      "source": [
        "# Save the trained model\n",
        "torch.save(mobilenet_model.state_dict(), \"saved_models/vgg19_model.pth\")"
      ]
    },
    {
      "cell_type": "code",
      "execution_count": 35,
      "id": "b13da6f7",
      "metadata": {},
      "outputs": [],
      "source": [
        "# Clear GPU memory\n",
        "torch.cuda.empty_cache()"
      ]
    },
    {
      "cell_type": "markdown",
      "id": "5c9900b2",
      "metadata": {},
      "source": [
        "### **Train Densenet**"
      ]
    },
    {
      "cell_type": "code",
      "execution_count": 36,
      "id": "f2174233",
      "metadata": {},
      "outputs": [
        {
          "name": "stdout",
          "output_type": "stream",
          "text": [
            "Training Densenet...\n"
          ]
        },
        {
          "data": {
            "application/vnd.jupyter.widget-view+json": {
              "model_id": "6296bfa6fbcb4089ae5822a68f5a0d54",
              "version_major": 2,
              "version_minor": 0
            },
            "text/plain": [
              "Training Progress:   0%|          | 0/50 [00:00<?, ?it/s]"
            ]
          },
          "metadata": {},
          "output_type": "display_data"
        },
        {
          "data": {
            "application/vnd.jupyter.widget-view+json": {
              "model_id": "fa4375e9c89141d2b543c8015124cdee",
              "version_major": 2,
              "version_minor": 0
            },
            "text/plain": [
              "Epoch 1/50 Batches:   0%|          | 0/232 [00:00<?, ?it/s]"
            ]
          },
          "metadata": {},
          "output_type": "display_data"
        },
        {
          "name": "stdout",
          "output_type": "stream",
          "text": [
            "Epoch 1: Train Loss=0.5553, Train Acc=0.7287, Val Loss=0.5499, Val Acc=0.7056\n"
          ]
        },
        {
          "data": {
            "application/vnd.jupyter.widget-view+json": {
              "model_id": "aba940d5371c44eb99d768c20d87345f",
              "version_major": 2,
              "version_minor": 0
            },
            "text/plain": [
              "Epoch 2/50 Batches:   0%|          | 0/232 [00:00<?, ?it/s]"
            ]
          },
          "metadata": {},
          "output_type": "display_data"
        },
        {
          "name": "stdout",
          "output_type": "stream",
          "text": [
            "Epoch 2: Train Loss=0.5103, Train Acc=0.7551, Val Loss=0.4053, Val Acc=0.7965\n"
          ]
        },
        {
          "data": {
            "application/vnd.jupyter.widget-view+json": {
              "model_id": "aa3898b2c34d4a9580de9fdda0bf8bad",
              "version_major": 2,
              "version_minor": 0
            },
            "text/plain": [
              "Epoch 3/50 Batches:   0%|          | 0/232 [00:00<?, ?it/s]"
            ]
          },
          "metadata": {},
          "output_type": "display_data"
        },
        {
          "name": "stdout",
          "output_type": "stream",
          "text": [
            "Epoch 3: Train Loss=0.4472, Train Acc=0.8042, Val Loss=0.4253, Val Acc=0.8009\n"
          ]
        },
        {
          "data": {
            "application/vnd.jupyter.widget-view+json": {
              "model_id": "336789541d4b449089bf89fe45043dae",
              "version_major": 2,
              "version_minor": 0
            },
            "text/plain": [
              "Epoch 4/50 Batches:   0%|          | 0/232 [00:00<?, ?it/s]"
            ]
          },
          "metadata": {},
          "output_type": "display_data"
        },
        {
          "name": "stdout",
          "output_type": "stream",
          "text": [
            "Epoch 4: Train Loss=0.4521, Train Acc=0.8042, Val Loss=0.4456, Val Acc=0.8009\n"
          ]
        },
        {
          "data": {
            "application/vnd.jupyter.widget-view+json": {
              "model_id": "b776537126594021816c6f2d7d096da1",
              "version_major": 2,
              "version_minor": 0
            },
            "text/plain": [
              "Epoch 5/50 Batches:   0%|          | 0/232 [00:00<?, ?it/s]"
            ]
          },
          "metadata": {},
          "output_type": "display_data"
        },
        {
          "name": "stdout",
          "output_type": "stream",
          "text": [
            "Epoch 5: Train Loss=0.4192, Train Acc=0.8166, Val Loss=0.5227, Val Acc=0.7576\n"
          ]
        },
        {
          "data": {
            "application/vnd.jupyter.widget-view+json": {
              "model_id": "7296f6449a1a4292b66550ef2439e780",
              "version_major": 2,
              "version_minor": 0
            },
            "text/plain": [
              "Epoch 6/50 Batches:   0%|          | 0/232 [00:00<?, ?it/s]"
            ]
          },
          "metadata": {},
          "output_type": "display_data"
        },
        {
          "name": "stdout",
          "output_type": "stream",
          "text": [
            "Epoch 6: Train Loss=0.3679, Train Acc=0.8452, Val Loss=0.3859, Val Acc=0.8268\n"
          ]
        },
        {
          "data": {
            "application/vnd.jupyter.widget-view+json": {
              "model_id": "2613484bd6b543479ab97e3d82a64261",
              "version_major": 2,
              "version_minor": 0
            },
            "text/plain": [
              "Epoch 7/50 Batches:   0%|          | 0/232 [00:00<?, ?it/s]"
            ]
          },
          "metadata": {},
          "output_type": "display_data"
        },
        {
          "name": "stdout",
          "output_type": "stream",
          "text": [
            "Epoch 7: Train Loss=0.3761, Train Acc=0.8403, Val Loss=0.2851, Val Acc=0.8615\n"
          ]
        },
        {
          "data": {
            "application/vnd.jupyter.widget-view+json": {
              "model_id": "b04d6c23bcf245a4b9a3c2f5082ddd14",
              "version_major": 2,
              "version_minor": 0
            },
            "text/plain": [
              "Epoch 8/50 Batches:   0%|          | 0/232 [00:00<?, ?it/s]"
            ]
          },
          "metadata": {},
          "output_type": "display_data"
        },
        {
          "name": "stdout",
          "output_type": "stream",
          "text": [
            "Epoch 8: Train Loss=0.3769, Train Acc=0.8441, Val Loss=0.4082, Val Acc=0.8095\n"
          ]
        },
        {
          "data": {
            "application/vnd.jupyter.widget-view+json": {
              "model_id": "bb95edc950b2459489c1bac3b3728811",
              "version_major": 2,
              "version_minor": 0
            },
            "text/plain": [
              "Epoch 9/50 Batches:   0%|          | 0/232 [00:00<?, ?it/s]"
            ]
          },
          "metadata": {},
          "output_type": "display_data"
        },
        {
          "name": "stdout",
          "output_type": "stream",
          "text": [
            "Epoch 9: Train Loss=0.3394, Train Acc=0.8614, Val Loss=0.2606, Val Acc=0.8658\n"
          ]
        },
        {
          "data": {
            "application/vnd.jupyter.widget-view+json": {
              "model_id": "96b32978d5ff49dbbc7797267f8c22f3",
              "version_major": 2,
              "version_minor": 0
            },
            "text/plain": [
              "Epoch 10/50 Batches:   0%|          | 0/232 [00:00<?, ?it/s]"
            ]
          },
          "metadata": {},
          "output_type": "display_data"
        },
        {
          "name": "stdout",
          "output_type": "stream",
          "text": [
            "Epoch 10: Train Loss=0.3469, Train Acc=0.8430, Val Loss=0.3015, Val Acc=0.8788\n"
          ]
        },
        {
          "data": {
            "application/vnd.jupyter.widget-view+json": {
              "model_id": "d6cf88809f5d422694b4c351b7202622",
              "version_major": 2,
              "version_minor": 0
            },
            "text/plain": [
              "Epoch 11/50 Batches:   0%|          | 0/232 [00:00<?, ?it/s]"
            ]
          },
          "metadata": {},
          "output_type": "display_data"
        },
        {
          "name": "stdout",
          "output_type": "stream",
          "text": [
            "Epoch 11: Train Loss=0.3203, Train Acc=0.8738, Val Loss=0.2294, Val Acc=0.9134\n"
          ]
        },
        {
          "data": {
            "application/vnd.jupyter.widget-view+json": {
              "model_id": "1c6620581a4b442281e8cdf93a4c1e35",
              "version_major": 2,
              "version_minor": 0
            },
            "text/plain": [
              "Epoch 12/50 Batches:   0%|          | 0/232 [00:00<?, ?it/s]"
            ]
          },
          "metadata": {},
          "output_type": "display_data"
        },
        {
          "name": "stdout",
          "output_type": "stream",
          "text": [
            "Epoch 12: Train Loss=0.2815, Train Acc=0.8803, Val Loss=0.3301, Val Acc=0.8312\n"
          ]
        },
        {
          "data": {
            "application/vnd.jupyter.widget-view+json": {
              "model_id": "a8dc8f56535342d4a6e066035f730358",
              "version_major": 2,
              "version_minor": 0
            },
            "text/plain": [
              "Epoch 13/50 Batches:   0%|          | 0/232 [00:00<?, ?it/s]"
            ]
          },
          "metadata": {},
          "output_type": "display_data"
        },
        {
          "name": "stdout",
          "output_type": "stream",
          "text": [
            "Epoch 13: Train Loss=0.3008, Train Acc=0.8749, Val Loss=0.1862, Val Acc=0.9481\n"
          ]
        },
        {
          "data": {
            "application/vnd.jupyter.widget-view+json": {
              "model_id": "0674600bb2904f699dec2a75dfd128af",
              "version_major": 2,
              "version_minor": 0
            },
            "text/plain": [
              "Epoch 14/50 Batches:   0%|          | 0/232 [00:00<?, ?it/s]"
            ]
          },
          "metadata": {},
          "output_type": "display_data"
        },
        {
          "name": "stdout",
          "output_type": "stream",
          "text": [
            "Epoch 14: Train Loss=0.2303, Train Acc=0.9067, Val Loss=0.3319, Val Acc=0.8615\n"
          ]
        },
        {
          "data": {
            "application/vnd.jupyter.widget-view+json": {
              "model_id": "45bec6941cd5453a971910d31f1d60bd",
              "version_major": 2,
              "version_minor": 0
            },
            "text/plain": [
              "Epoch 15/50 Batches:   0%|          | 0/232 [00:00<?, ?it/s]"
            ]
          },
          "metadata": {},
          "output_type": "display_data"
        },
        {
          "name": "stdout",
          "output_type": "stream",
          "text": [
            "Epoch 15: Train Loss=0.2744, Train Acc=0.8910, Val Loss=0.2475, Val Acc=0.9048\n"
          ]
        },
        {
          "data": {
            "application/vnd.jupyter.widget-view+json": {
              "model_id": "fdd3b53368394022b55293c85433b865",
              "version_major": 2,
              "version_minor": 0
            },
            "text/plain": [
              "Epoch 16/50 Batches:   0%|          | 0/232 [00:00<?, ?it/s]"
            ]
          },
          "metadata": {},
          "output_type": "display_data"
        },
        {
          "name": "stdout",
          "output_type": "stream",
          "text": [
            "Epoch 16: Train Loss=0.2777, Train Acc=0.8916, Val Loss=0.2489, Val Acc=0.9004\n"
          ]
        },
        {
          "data": {
            "application/vnd.jupyter.widget-view+json": {
              "model_id": "1e430e6a00b54b2285c0b7684c8210c7",
              "version_major": 2,
              "version_minor": 0
            },
            "text/plain": [
              "Epoch 17/50 Batches:   0%|          | 0/232 [00:00<?, ?it/s]"
            ]
          },
          "metadata": {},
          "output_type": "display_data"
        },
        {
          "name": "stdout",
          "output_type": "stream",
          "text": [
            "Epoch 17: Train Loss=0.2684, Train Acc=0.8959, Val Loss=0.1493, Val Acc=0.9567\n"
          ]
        },
        {
          "data": {
            "application/vnd.jupyter.widget-view+json": {
              "model_id": "fd7fa068dd324f38a99952c68aa4d215",
              "version_major": 2,
              "version_minor": 0
            },
            "text/plain": [
              "Epoch 18/50 Batches:   0%|          | 0/232 [00:00<?, ?it/s]"
            ]
          },
          "metadata": {},
          "output_type": "display_data"
        },
        {
          "name": "stdout",
          "output_type": "stream",
          "text": [
            "Epoch 18: Train Loss=0.2313, Train Acc=0.9051, Val Loss=0.2223, Val Acc=0.8918\n"
          ]
        },
        {
          "data": {
            "application/vnd.jupyter.widget-view+json": {
              "model_id": "f6d4bf208f0d454d9b3bc7e1de650f9b",
              "version_major": 2,
              "version_minor": 0
            },
            "text/plain": [
              "Epoch 19/50 Batches:   0%|          | 0/232 [00:00<?, ?it/s]"
            ]
          },
          "metadata": {},
          "output_type": "display_data"
        },
        {
          "name": "stdout",
          "output_type": "stream",
          "text": [
            "Epoch 19: Train Loss=0.2103, Train Acc=0.9121, Val Loss=0.1848, Val Acc=0.9134\n"
          ]
        },
        {
          "data": {
            "application/vnd.jupyter.widget-view+json": {
              "model_id": "f8dc3bba4199433c9fe795d581a43aa6",
              "version_major": 2,
              "version_minor": 0
            },
            "text/plain": [
              "Epoch 20/50 Batches:   0%|          | 0/232 [00:00<?, ?it/s]"
            ]
          },
          "metadata": {},
          "output_type": "display_data"
        },
        {
          "name": "stdout",
          "output_type": "stream",
          "text": [
            "Epoch 20: Train Loss=0.2399, Train Acc=0.9051, Val Loss=0.1940, Val Acc=0.9134\n"
          ]
        },
        {
          "data": {
            "application/vnd.jupyter.widget-view+json": {
              "model_id": "78e5fd75a1294910b1da56986770a23e",
              "version_major": 2,
              "version_minor": 0
            },
            "text/plain": [
              "Epoch 21/50 Batches:   0%|          | 0/232 [00:00<?, ?it/s]"
            ]
          },
          "metadata": {},
          "output_type": "display_data"
        },
        {
          "name": "stdout",
          "output_type": "stream",
          "text": [
            "Epoch 21: Train Loss=0.2182, Train Acc=0.9169, Val Loss=0.2022, Val Acc=0.9177\n"
          ]
        },
        {
          "data": {
            "application/vnd.jupyter.widget-view+json": {
              "model_id": "a1faf4cfa562427ea0849464f576a0e6",
              "version_major": 2,
              "version_minor": 0
            },
            "text/plain": [
              "Epoch 22/50 Batches:   0%|          | 0/232 [00:00<?, ?it/s]"
            ]
          },
          "metadata": {},
          "output_type": "display_data"
        },
        {
          "name": "stdout",
          "output_type": "stream",
          "text": [
            "Epoch 22: Train Loss=0.1802, Train Acc=0.9245, Val Loss=0.1372, Val Acc=0.9437\n"
          ]
        },
        {
          "data": {
            "application/vnd.jupyter.widget-view+json": {
              "model_id": "f72a682f4008481e839b7bece5acf15b",
              "version_major": 2,
              "version_minor": 0
            },
            "text/plain": [
              "Epoch 23/50 Batches:   0%|          | 0/232 [00:00<?, ?it/s]"
            ]
          },
          "metadata": {},
          "output_type": "display_data"
        },
        {
          "name": "stdout",
          "output_type": "stream",
          "text": [
            "Epoch 23: Train Loss=0.1487, Train Acc=0.9450, Val Loss=0.1373, Val Acc=0.9567\n"
          ]
        },
        {
          "data": {
            "application/vnd.jupyter.widget-view+json": {
              "model_id": "b1d10db24e6944f183f499c753936b4f",
              "version_major": 2,
              "version_minor": 0
            },
            "text/plain": [
              "Epoch 24/50 Batches:   0%|          | 0/232 [00:00<?, ?it/s]"
            ]
          },
          "metadata": {},
          "output_type": "display_data"
        },
        {
          "name": "stdout",
          "output_type": "stream",
          "text": [
            "Epoch 24: Train Loss=0.1497, Train Acc=0.9482, Val Loss=0.1324, Val Acc=0.9567\n"
          ]
        },
        {
          "data": {
            "application/vnd.jupyter.widget-view+json": {
              "model_id": "5790d490f86943c2b490faaf6eb3905a",
              "version_major": 2,
              "version_minor": 0
            },
            "text/plain": [
              "Epoch 25/50 Batches:   0%|          | 0/232 [00:00<?, ?it/s]"
            ]
          },
          "metadata": {},
          "output_type": "display_data"
        },
        {
          "name": "stdout",
          "output_type": "stream",
          "text": [
            "Epoch 25: Train Loss=0.1473, Train Acc=0.9471, Val Loss=0.1300, Val Acc=0.9437\n"
          ]
        },
        {
          "data": {
            "application/vnd.jupyter.widget-view+json": {
              "model_id": "9eec7b156e4244ee8df12b3112df8921",
              "version_major": 2,
              "version_minor": 0
            },
            "text/plain": [
              "Epoch 26/50 Batches:   0%|          | 0/232 [00:00<?, ?it/s]"
            ]
          },
          "metadata": {},
          "output_type": "display_data"
        },
        {
          "name": "stdout",
          "output_type": "stream",
          "text": [
            "Epoch 26: Train Loss=0.1062, Train Acc=0.9687, Val Loss=0.1153, Val Acc=0.9437\n"
          ]
        },
        {
          "data": {
            "application/vnd.jupyter.widget-view+json": {
              "model_id": "461d9d2bfb9b447aafff0ee44617dca8",
              "version_major": 2,
              "version_minor": 0
            },
            "text/plain": [
              "Epoch 27/50 Batches:   0%|          | 0/232 [00:00<?, ?it/s]"
            ]
          },
          "metadata": {},
          "output_type": "display_data"
        },
        {
          "name": "stdout",
          "output_type": "stream",
          "text": [
            "Epoch 27: Train Loss=0.1137, Train Acc=0.9585, Val Loss=0.1005, Val Acc=0.9610\n"
          ]
        },
        {
          "data": {
            "application/vnd.jupyter.widget-view+json": {
              "model_id": "728eb6636d354eed855e7bad1568feef",
              "version_major": 2,
              "version_minor": 0
            },
            "text/plain": [
              "Epoch 28/50 Batches:   0%|          | 0/232 [00:00<?, ?it/s]"
            ]
          },
          "metadata": {},
          "output_type": "display_data"
        },
        {
          "name": "stdout",
          "output_type": "stream",
          "text": [
            "Epoch 28: Train Loss=0.1145, Train Acc=0.9617, Val Loss=0.0951, Val Acc=0.9567\n"
          ]
        },
        {
          "data": {
            "application/vnd.jupyter.widget-view+json": {
              "model_id": "8535d7371aa14ebb97d87f5e2e146523",
              "version_major": 2,
              "version_minor": 0
            },
            "text/plain": [
              "Epoch 29/50 Batches:   0%|          | 0/232 [00:00<?, ?it/s]"
            ]
          },
          "metadata": {},
          "output_type": "display_data"
        },
        {
          "name": "stdout",
          "output_type": "stream",
          "text": [
            "Epoch 29: Train Loss=0.1031, Train Acc=0.9633, Val Loss=0.0945, Val Acc=0.9697\n"
          ]
        },
        {
          "data": {
            "application/vnd.jupyter.widget-view+json": {
              "model_id": "781b013f57ec419480774c11a40d54f3",
              "version_major": 2,
              "version_minor": 0
            },
            "text/plain": [
              "Epoch 30/50 Batches:   0%|          | 0/232 [00:00<?, ?it/s]"
            ]
          },
          "metadata": {},
          "output_type": "display_data"
        },
        {
          "name": "stdout",
          "output_type": "stream",
          "text": [
            "Epoch 30: Train Loss=0.1015, Train Acc=0.9720, Val Loss=0.0955, Val Acc=0.9524\n"
          ]
        },
        {
          "data": {
            "application/vnd.jupyter.widget-view+json": {
              "model_id": "0b4fb2a7689e4f5480f9479e6ccd1351",
              "version_major": 2,
              "version_minor": 0
            },
            "text/plain": [
              "Epoch 31/50 Batches:   0%|          | 0/232 [00:00<?, ?it/s]"
            ]
          },
          "metadata": {},
          "output_type": "display_data"
        },
        {
          "name": "stdout",
          "output_type": "stream",
          "text": [
            "Epoch 31: Train Loss=0.0918, Train Acc=0.9649, Val Loss=0.0694, Val Acc=0.9740\n"
          ]
        },
        {
          "data": {
            "application/vnd.jupyter.widget-view+json": {
              "model_id": "11f51fb566b440878d67c3f66c8a42f6",
              "version_major": 2,
              "version_minor": 0
            },
            "text/plain": [
              "Epoch 32/50 Batches:   0%|          | 0/232 [00:00<?, ?it/s]"
            ]
          },
          "metadata": {},
          "output_type": "display_data"
        },
        {
          "name": "stdout",
          "output_type": "stream",
          "text": [
            "Epoch 32: Train Loss=0.0831, Train Acc=0.9736, Val Loss=0.0944, Val Acc=0.9697\n"
          ]
        },
        {
          "data": {
            "application/vnd.jupyter.widget-view+json": {
              "model_id": "1bea3d9f7e8f46af9bba228c34ccba5a",
              "version_major": 2,
              "version_minor": 0
            },
            "text/plain": [
              "Epoch 33/50 Batches:   0%|          | 0/232 [00:00<?, ?it/s]"
            ]
          },
          "metadata": {},
          "output_type": "display_data"
        },
        {
          "name": "stdout",
          "output_type": "stream",
          "text": [
            "Epoch 33: Train Loss=0.0994, Train Acc=0.9703, Val Loss=0.0686, Val Acc=0.9740\n"
          ]
        },
        {
          "data": {
            "application/vnd.jupyter.widget-view+json": {
              "model_id": "2ab6c27141044781ad64643cba9ca0d4",
              "version_major": 2,
              "version_minor": 0
            },
            "text/plain": [
              "Epoch 34/50 Batches:   0%|          | 0/232 [00:00<?, ?it/s]"
            ]
          },
          "metadata": {},
          "output_type": "display_data"
        },
        {
          "name": "stdout",
          "output_type": "stream",
          "text": [
            "Epoch 34: Train Loss=0.0855, Train Acc=0.9693, Val Loss=0.0580, Val Acc=0.9740\n"
          ]
        },
        {
          "data": {
            "application/vnd.jupyter.widget-view+json": {
              "model_id": "b452695d1edc4294b8016cad96292876",
              "version_major": 2,
              "version_minor": 0
            },
            "text/plain": [
              "Epoch 35/50 Batches:   0%|          | 0/232 [00:00<?, ?it/s]"
            ]
          },
          "metadata": {},
          "output_type": "display_data"
        },
        {
          "name": "stdout",
          "output_type": "stream",
          "text": [
            "Epoch 35: Train Loss=0.0810, Train Acc=0.9752, Val Loss=0.0491, Val Acc=0.9913\n"
          ]
        },
        {
          "data": {
            "application/vnd.jupyter.widget-view+json": {
              "model_id": "6cfd16b8c4ff414690170b79ff0d900a",
              "version_major": 2,
              "version_minor": 0
            },
            "text/plain": [
              "Epoch 36/50 Batches:   0%|          | 0/232 [00:00<?, ?it/s]"
            ]
          },
          "metadata": {},
          "output_type": "display_data"
        },
        {
          "name": "stdout",
          "output_type": "stream",
          "text": [
            "Epoch 36: Train Loss=0.0839, Train Acc=0.9741, Val Loss=0.0561, Val Acc=0.9697\n"
          ]
        },
        {
          "data": {
            "application/vnd.jupyter.widget-view+json": {
              "model_id": "9be51931ba8e46b49978f7f0d059e2db",
              "version_major": 2,
              "version_minor": 0
            },
            "text/plain": [
              "Epoch 37/50 Batches:   0%|          | 0/232 [00:00<?, ?it/s]"
            ]
          },
          "metadata": {},
          "output_type": "display_data"
        },
        {
          "name": "stdout",
          "output_type": "stream",
          "text": [
            "Epoch 37: Train Loss=0.0670, Train Acc=0.9795, Val Loss=0.0380, Val Acc=0.9913\n"
          ]
        },
        {
          "data": {
            "application/vnd.jupyter.widget-view+json": {
              "model_id": "063872b637034198b15caf17e0b4988f",
              "version_major": 2,
              "version_minor": 0
            },
            "text/plain": [
              "Epoch 38/50 Batches:   0%|          | 0/232 [00:00<?, ?it/s]"
            ]
          },
          "metadata": {},
          "output_type": "display_data"
        },
        {
          "name": "stdout",
          "output_type": "stream",
          "text": [
            "Epoch 38: Train Loss=0.0649, Train Acc=0.9806, Val Loss=0.0413, Val Acc=0.9827\n"
          ]
        },
        {
          "data": {
            "application/vnd.jupyter.widget-view+json": {
              "model_id": "1f4c246cd8114bf7ba41e844846e162d",
              "version_major": 2,
              "version_minor": 0
            },
            "text/plain": [
              "Epoch 39/50 Batches:   0%|          | 0/232 [00:00<?, ?it/s]"
            ]
          },
          "metadata": {},
          "output_type": "display_data"
        },
        {
          "name": "stdout",
          "output_type": "stream",
          "text": [
            "Epoch 39: Train Loss=0.0498, Train Acc=0.9849, Val Loss=0.0276, Val Acc=0.9957\n"
          ]
        },
        {
          "data": {
            "application/vnd.jupyter.widget-view+json": {
              "model_id": "b763f8ab73284274ae0bf3729cddb683",
              "version_major": 2,
              "version_minor": 0
            },
            "text/plain": [
              "Epoch 40/50 Batches:   0%|          | 0/232 [00:00<?, ?it/s]"
            ]
          },
          "metadata": {},
          "output_type": "display_data"
        },
        {
          "name": "stdout",
          "output_type": "stream",
          "text": [
            "Epoch 40: Train Loss=0.0575, Train Acc=0.9822, Val Loss=0.0563, Val Acc=0.9827\n"
          ]
        },
        {
          "data": {
            "application/vnd.jupyter.widget-view+json": {
              "model_id": "4fc3d2cf7ea34435bf1778239540a0ce",
              "version_major": 2,
              "version_minor": 0
            },
            "text/plain": [
              "Epoch 41/50 Batches:   0%|          | 0/232 [00:00<?, ?it/s]"
            ]
          },
          "metadata": {},
          "output_type": "display_data"
        },
        {
          "name": "stdout",
          "output_type": "stream",
          "text": [
            "Epoch 41: Train Loss=0.0739, Train Acc=0.9746, Val Loss=0.0383, Val Acc=0.9870\n"
          ]
        },
        {
          "data": {
            "application/vnd.jupyter.widget-view+json": {
              "model_id": "d27818bbf7a34f98b5ff224562c3754c",
              "version_major": 2,
              "version_minor": 0
            },
            "text/plain": [
              "Epoch 42/50 Batches:   0%|          | 0/232 [00:00<?, ?it/s]"
            ]
          },
          "metadata": {},
          "output_type": "display_data"
        },
        {
          "name": "stdout",
          "output_type": "stream",
          "text": [
            "Epoch 42: Train Loss=0.0497, Train Acc=0.9827, Val Loss=0.0256, Val Acc=0.9957\n"
          ]
        },
        {
          "data": {
            "application/vnd.jupyter.widget-view+json": {
              "model_id": "47b60c205058435394c9f854634e119b",
              "version_major": 2,
              "version_minor": 0
            },
            "text/plain": [
              "Epoch 43/50 Batches:   0%|          | 0/232 [00:00<?, ?it/s]"
            ]
          },
          "metadata": {},
          "output_type": "display_data"
        },
        {
          "name": "stdout",
          "output_type": "stream",
          "text": [
            "Epoch 43: Train Loss=0.0521, Train Acc=0.9849, Val Loss=0.0513, Val Acc=0.9784\n"
          ]
        },
        {
          "data": {
            "application/vnd.jupyter.widget-view+json": {
              "model_id": "4daa21f49a074aed9827c960cb62ac6d",
              "version_major": 2,
              "version_minor": 0
            },
            "text/plain": [
              "Epoch 44/50 Batches:   0%|          | 0/232 [00:00<?, ?it/s]"
            ]
          },
          "metadata": {},
          "output_type": "display_data"
        },
        {
          "name": "stdout",
          "output_type": "stream",
          "text": [
            "Epoch 44: Train Loss=0.0497, Train Acc=0.9817, Val Loss=0.0220, Val Acc=1.0000\n"
          ]
        },
        {
          "data": {
            "application/vnd.jupyter.widget-view+json": {
              "model_id": "d00619705b3d47acbfe9eeb97bd487f4",
              "version_major": 2,
              "version_minor": 0
            },
            "text/plain": [
              "Epoch 45/50 Batches:   0%|          | 0/232 [00:00<?, ?it/s]"
            ]
          },
          "metadata": {},
          "output_type": "display_data"
        },
        {
          "name": "stdout",
          "output_type": "stream",
          "text": [
            "Epoch 45: Train Loss=0.0647, Train Acc=0.9817, Val Loss=0.0219, Val Acc=0.9957\n"
          ]
        },
        {
          "data": {
            "application/vnd.jupyter.widget-view+json": {
              "model_id": "b327945a2cc94debb754d58d6b06e7fd",
              "version_major": 2,
              "version_minor": 0
            },
            "text/plain": [
              "Epoch 46/50 Batches:   0%|          | 0/232 [00:00<?, ?it/s]"
            ]
          },
          "metadata": {},
          "output_type": "display_data"
        },
        {
          "name": "stdout",
          "output_type": "stream",
          "text": [
            "Epoch 46: Train Loss=0.0434, Train Acc=0.9876, Val Loss=0.0300, Val Acc=0.9913\n"
          ]
        },
        {
          "data": {
            "application/vnd.jupyter.widget-view+json": {
              "model_id": "b7e0038172ed485390070843790d6de7",
              "version_major": 2,
              "version_minor": 0
            },
            "text/plain": [
              "Epoch 47/50 Batches:   0%|          | 0/232 [00:00<?, ?it/s]"
            ]
          },
          "metadata": {},
          "output_type": "display_data"
        },
        {
          "name": "stdout",
          "output_type": "stream",
          "text": [
            "Epoch 47: Train Loss=0.0603, Train Acc=0.9806, Val Loss=0.0339, Val Acc=0.9870\n"
          ]
        },
        {
          "data": {
            "application/vnd.jupyter.widget-view+json": {
              "model_id": "a8f0c12542104461808f994a14cf5f06",
              "version_major": 2,
              "version_minor": 0
            },
            "text/plain": [
              "Epoch 48/50 Batches:   0%|          | 0/232 [00:00<?, ?it/s]"
            ]
          },
          "metadata": {},
          "output_type": "display_data"
        },
        {
          "name": "stdout",
          "output_type": "stream",
          "text": [
            "Epoch 48: Train Loss=0.0436, Train Acc=0.9881, Val Loss=0.0251, Val Acc=0.9957\n"
          ]
        },
        {
          "data": {
            "application/vnd.jupyter.widget-view+json": {
              "model_id": "d339167e11264cb9801e3e931267636e",
              "version_major": 2,
              "version_minor": 0
            },
            "text/plain": [
              "Epoch 49/50 Batches:   0%|          | 0/232 [00:00<?, ?it/s]"
            ]
          },
          "metadata": {},
          "output_type": "display_data"
        },
        {
          "name": "stdout",
          "output_type": "stream",
          "text": [
            "Epoch 49: Train Loss=0.0466, Train Acc=0.9887, Val Loss=0.0332, Val Acc=0.9913\n"
          ]
        },
        {
          "data": {
            "application/vnd.jupyter.widget-view+json": {
              "model_id": "cb8054650ac14204ae862cb7514869ef",
              "version_major": 2,
              "version_minor": 0
            },
            "text/plain": [
              "Epoch 50/50 Batches:   0%|          | 0/232 [00:00<?, ?it/s]"
            ]
          },
          "metadata": {},
          "output_type": "display_data"
        },
        {
          "name": "stdout",
          "output_type": "stream",
          "text": [
            "Epoch 50: Train Loss=0.0370, Train Acc=0.9892, Val Loss=0.0240, Val Acc=1.0000\n",
            "Model Training Completed.\n",
            "Training History:\n"
          ]
        },
        {
          "data": {
            "image/png": "[encoded data removed]",
            "text/plain": [
              "<Figure size 1200x500 with 2 Axes>"
            ]
          },
          "metadata": {},
          "output_type": "display_data"
        }
      ],
      "source": [
        "# Training Densenet\n",
        "print(\"Training Densenet...\")\n",
        "densenet_model = get_model(\"densenet\", num_classes)\n",
        "criterion = nn.CrossEntropyLoss()\n",
        "optimizer = optim.Adam(densenet_model.parameters(), lr=0.001, weight_decay=1e-4)\n",
        "scheduler = optim.lr_scheduler.ReduceLROnPlateau(optimizer, mode='min', factor=0.1, patience=3)\n",
        "writer = SummaryWriter(log_dir=f\"runs/densenet\")\n",
        "densenet_model, densenet_history = train_model(\n",
        "    densenet_model, criterion, optimizer, scheduler,\n",
        "    train_loader, val_loader, writer, num_epochs=50, model_name=\"densenet\"\n",
        ")\n",
        "print(\"Model Training Completed.\")\n",
        "print(\"Training History:\")\n",
        "plot_curves(densenet_history, \"Densenet\")"
      ]
    },
    {
      "cell_type": "code",
      "execution_count": 37,
      "id": "75ccffba",
      "metadata": {},
      "outputs": [
        {
          "name": "stdout",
          "output_type": "stream",
          "text": [
            "Evaluating Densenet on Test Set:\n",
            "Densenet Test Accuracy: 0.9914\n",
            "Densenet Test Precision: 0.9911\n",
            "Densenet Test Recall: 0.9919\n",
            "Densenet Test F1-Score: 0.9914\n",
            "Classification Report:\n",
            "              precision    recall  f1-score   support\n",
            "\n",
            "          no       0.98      1.00      0.99       110\n",
            "         yes       1.00      0.98      0.99       123\n",
            "\n",
            "    accuracy                           0.99       233\n",
            "   macro avg       0.99      0.99      0.99       233\n",
            "weighted avg       0.99      0.99      0.99       233\n",
            "\n"
          ]
        },
        {
          "data": {
            "image/png": "[encoded data removed]",
            "text/plain": [
              "<Figure size 600x500 with 2 Axes>"
            ]
          },
          "metadata": {},
          "output_type": "display_data"
        }
      ],
      "source": [
        "# Evaluating Densenet\n",
        "print(\"Evaluating Densenet on Test Set:\")\n",
        "accuracy, precision, recall, f1 = evaluate_model(densenet_model, test_loader, \"Densenet\")\n",
        "results[\"Model\"].append(\"Densenet\")\n",
        "results[\"Accuracy\"].append(accuracy)\n",
        "results[\"Precision\"].append(precision)\n",
        "results[\"Recall\"].append(recall)\n",
        "results[\"F1-Score\"].append(f1)"
      ]
    },
    {
      "cell_type": "code",
      "execution_count": 38,
      "id": "d6d437e0",
      "metadata": {},
      "outputs": [],
      "source": [
        "# Save the trained model\n",
        "torch.save(densenet_model.state_dict(), \"saved_models/densnet_model.pth\")"
      ]
    },
    {
      "cell_type": "code",
      "execution_count": 39,
      "id": "b13a16c9",
      "metadata": {},
      "outputs": [],
      "source": [
        "# Clear GPU memory\n",
        "torch.cuda.empty_cache()"
      ]
    },
    {
      "cell_type": "markdown",
      "id": "6660f0fb",
      "metadata": {},
      "source": [
        "### **Train Resnet**"
      ]
    },
    {
      "cell_type": "code",
      "execution_count": 40,
      "id": "e1bad99e",
      "metadata": {},
      "outputs": [
        {
          "name": "stdout",
          "output_type": "stream",
          "text": [
            "Training Resnet...\n"
          ]
        },
        {
          "data": {
            "application/vnd.jupyter.widget-view+json": {
              "model_id": "f65589ddf4bc4c758bf1af8ac195f705",
              "version_major": 2,
              "version_minor": 0
            },
            "text/plain": [
              "Training Progress:   0%|          | 0/50 [00:00<?, ?it/s]"
            ]
          },
          "metadata": {},
          "output_type": "display_data"
        },
        {
          "data": {
            "application/vnd.jupyter.widget-view+json": {
              "model_id": "e0c63ecef01f4b26a9838b10f77c1fdf",
              "version_major": 2,
              "version_minor": 0
            },
            "text/plain": [
              "Epoch 1/50 Batches:   0%|          | 0/232 [00:00<?, ?it/s]"
            ]
          },
          "metadata": {},
          "output_type": "display_data"
        },
        {
          "name": "stdout",
          "output_type": "stream",
          "text": [
            "Epoch 1: Train Loss=0.7274, Train Acc=0.6510, Val Loss=0.6380, Val Acc=0.6537\n"
          ]
        },
        {
          "data": {
            "application/vnd.jupyter.widget-view+json": {
              "model_id": "967dac67c28c4cd9813103b45c896534",
              "version_major": 2,
              "version_minor": 0
            },
            "text/plain": [
              "Epoch 2/50 Batches:   0%|          | 0/232 [00:00<?, ?it/s]"
            ]
          },
          "metadata": {},
          "output_type": "display_data"
        },
        {
          "name": "stdout",
          "output_type": "stream",
          "text": [
            "Epoch 2: Train Loss=0.5694, Train Acc=0.7422, Val Loss=0.9685, Val Acc=0.7965\n"
          ]
        },
        {
          "data": {
            "application/vnd.jupyter.widget-view+json": {
              "model_id": "abbe7a0acf8b409ba7ea1e194b4f05a1",
              "version_major": 2,
              "version_minor": 0
            },
            "text/plain": [
              "Epoch 3/50 Batches:   0%|          | 0/232 [00:00<?, ?it/s]"
            ]
          },
          "metadata": {},
          "output_type": "display_data"
        },
        {
          "name": "stdout",
          "output_type": "stream",
          "text": [
            "Epoch 3: Train Loss=0.5627, Train Acc=0.7168, Val Loss=1.7507, Val Acc=0.6580\n"
          ]
        },
        {
          "data": {
            "application/vnd.jupyter.widget-view+json": {
              "model_id": "7a7a8da694634efeb8652d3c9e827609",
              "version_major": 2,
              "version_minor": 0
            },
            "text/plain": [
              "Epoch 4/50 Batches:   0%|          | 0/232 [00:00<?, ?it/s]"
            ]
          },
          "metadata": {},
          "output_type": "display_data"
        },
        {
          "name": "stdout",
          "output_type": "stream",
          "text": [
            "Epoch 4: Train Loss=0.5656, Train Acc=0.7211, Val Loss=0.4807, Val Acc=0.7706\n"
          ]
        },
        {
          "data": {
            "application/vnd.jupyter.widget-view+json": {
              "model_id": "784108bcefa243c8b5d8e5bed114dd10",
              "version_major": 2,
              "version_minor": 0
            },
            "text/plain": [
              "Epoch 5/50 Batches:   0%|          | 0/232 [00:00<?, ?it/s]"
            ]
          },
          "metadata": {},
          "output_type": "display_data"
        },
        {
          "name": "stdout",
          "output_type": "stream",
          "text": [
            "Epoch 5: Train Loss=0.5453, Train Acc=0.7395, Val Loss=0.7960, Val Acc=0.6104\n"
          ]
        },
        {
          "data": {
            "application/vnd.jupyter.widget-view+json": {
              "model_id": "afbcd7bb569744898ac2afcdfd1178ed",
              "version_major": 2,
              "version_minor": 0
            },
            "text/plain": [
              "Epoch 6/50 Batches:   0%|          | 0/232 [00:00<?, ?it/s]"
            ]
          },
          "metadata": {},
          "output_type": "display_data"
        },
        {
          "name": "stdout",
          "output_type": "stream",
          "text": [
            "Epoch 6: Train Loss=0.5258, Train Acc=0.7594, Val Loss=0.5031, Val Acc=0.7879\n"
          ]
        },
        {
          "data": {
            "application/vnd.jupyter.widget-view+json": {
              "model_id": "d45e6c1c9b7f47ffaa2f1ab3095e713f",
              "version_major": 2,
              "version_minor": 0
            },
            "text/plain": [
              "Epoch 7/50 Batches:   0%|          | 0/232 [00:00<?, ?it/s]"
            ]
          },
          "metadata": {},
          "output_type": "display_data"
        },
        {
          "name": "stdout",
          "output_type": "stream",
          "text": [
            "Epoch 7: Train Loss=0.5169, Train Acc=0.7551, Val Loss=0.4221, Val Acc=0.8312\n"
          ]
        },
        {
          "data": {
            "application/vnd.jupyter.widget-view+json": {
              "model_id": "510e7513facb4eb1acb88209d234afac",
              "version_major": 2,
              "version_minor": 0
            },
            "text/plain": [
              "Epoch 8/50 Batches:   0%|          | 0/232 [00:00<?, ?it/s]"
            ]
          },
          "metadata": {},
          "output_type": "display_data"
        },
        {
          "name": "stdout",
          "output_type": "stream",
          "text": [
            "Epoch 8: Train Loss=0.4532, Train Acc=0.8020, Val Loss=0.4436, Val Acc=0.7835\n"
          ]
        },
        {
          "data": {
            "application/vnd.jupyter.widget-view+json": {
              "model_id": "86fb0d92c56c4eb4ad074b7e95aea3b1",
              "version_major": 2,
              "version_minor": 0
            },
            "text/plain": [
              "Epoch 9/50 Batches:   0%|          | 0/232 [00:00<?, ?it/s]"
            ]
          },
          "metadata": {},
          "output_type": "display_data"
        },
        {
          "name": "stdout",
          "output_type": "stream",
          "text": [
            "Epoch 9: Train Loss=0.4466, Train Acc=0.7988, Val Loss=0.3798, Val Acc=0.8398\n"
          ]
        },
        {
          "data": {
            "application/vnd.jupyter.widget-view+json": {
              "model_id": "9578d47b659e47f5bcb4f986151b2d34",
              "version_major": 2,
              "version_minor": 0
            },
            "text/plain": [
              "Epoch 10/50 Batches:   0%|          | 0/232 [00:00<?, ?it/s]"
            ]
          },
          "metadata": {},
          "output_type": "display_data"
        },
        {
          "name": "stdout",
          "output_type": "stream",
          "text": [
            "Epoch 10: Train Loss=0.4475, Train Acc=0.7999, Val Loss=0.3500, Val Acc=0.8312\n"
          ]
        },
        {
          "data": {
            "application/vnd.jupyter.widget-view+json": {
              "model_id": "60bd9a0b0eb84315aa9a5967191c50b8",
              "version_major": 2,
              "version_minor": 0
            },
            "text/plain": [
              "Epoch 11/50 Batches:   0%|          | 0/232 [00:00<?, ?it/s]"
            ]
          },
          "metadata": {},
          "output_type": "display_data"
        },
        {
          "name": "stdout",
          "output_type": "stream",
          "text": [
            "Epoch 11: Train Loss=0.4310, Train Acc=0.8139, Val Loss=0.4413, Val Acc=0.8052\n"
          ]
        },
        {
          "data": {
            "application/vnd.jupyter.widget-view+json": {
              "model_id": "8559175ea8d5483996f80b6b422008ad",
              "version_major": 2,
              "version_minor": 0
            },
            "text/plain": [
              "Epoch 12/50 Batches:   0%|          | 0/232 [00:00<?, ?it/s]"
            ]
          },
          "metadata": {},
          "output_type": "display_data"
        },
        {
          "name": "stdout",
          "output_type": "stream",
          "text": [
            "Epoch 12: Train Loss=0.4206, Train Acc=0.8101, Val Loss=0.4234, Val Acc=0.8095\n"
          ]
        },
        {
          "data": {
            "application/vnd.jupyter.widget-view+json": {
              "model_id": "81d30c1e9327401794c39d8ca7e7bcd0",
              "version_major": 2,
              "version_minor": 0
            },
            "text/plain": [
              "Epoch 13/50 Batches:   0%|          | 0/232 [00:00<?, ?it/s]"
            ]
          },
          "metadata": {},
          "output_type": "display_data"
        },
        {
          "name": "stdout",
          "output_type": "stream",
          "text": [
            "Epoch 13: Train Loss=0.3904, Train Acc=0.8328, Val Loss=0.6062, Val Acc=0.8009\n"
          ]
        },
        {
          "data": {
            "application/vnd.jupyter.widget-view+json": {
              "model_id": "a03b75a276154f07a3aa45ee668122ce",
              "version_major": 2,
              "version_minor": 0
            },
            "text/plain": [
              "Epoch 14/50 Batches:   0%|          | 0/232 [00:00<?, ?it/s]"
            ]
          },
          "metadata": {},
          "output_type": "display_data"
        },
        {
          "name": "stdout",
          "output_type": "stream",
          "text": [
            "Epoch 14: Train Loss=0.3874, Train Acc=0.8296, Val Loss=0.6012, Val Acc=0.8615\n"
          ]
        },
        {
          "data": {
            "application/vnd.jupyter.widget-view+json": {
              "model_id": "c373950e66964316b7379af5736222b5",
              "version_major": 2,
              "version_minor": 0
            },
            "text/plain": [
              "Epoch 15/50 Batches:   0%|          | 0/232 [00:00<?, ?it/s]"
            ]
          },
          "metadata": {},
          "output_type": "display_data"
        },
        {
          "name": "stdout",
          "output_type": "stream",
          "text": [
            "Epoch 15: Train Loss=0.3244, Train Acc=0.8587, Val Loss=0.2761, Val Acc=0.8874\n"
          ]
        },
        {
          "data": {
            "application/vnd.jupyter.widget-view+json": {
              "model_id": "dee2dee95ebb4e53a891468906642513",
              "version_major": 2,
              "version_minor": 0
            },
            "text/plain": [
              "Epoch 16/50 Batches:   0%|          | 0/232 [00:00<?, ?it/s]"
            ]
          },
          "metadata": {},
          "output_type": "display_data"
        },
        {
          "name": "stdout",
          "output_type": "stream",
          "text": [
            "Epoch 16: Train Loss=0.2744, Train Acc=0.8824, Val Loss=0.2219, Val Acc=0.9177\n"
          ]
        },
        {
          "data": {
            "application/vnd.jupyter.widget-view+json": {
              "model_id": "5956095595144319862924da0d687698",
              "version_major": 2,
              "version_minor": 0
            },
            "text/plain": [
              "Epoch 17/50 Batches:   0%|          | 0/232 [00:00<?, ?it/s]"
            ]
          },
          "metadata": {},
          "output_type": "display_data"
        },
        {
          "name": "stdout",
          "output_type": "stream",
          "text": [
            "Epoch 17: Train Loss=0.2674, Train Acc=0.8932, Val Loss=0.2424, Val Acc=0.8831\n"
          ]
        },
        {
          "data": {
            "application/vnd.jupyter.widget-view+json": {
              "model_id": "fe3e4edb3ada47b49784fb09ca904a12",
              "version_major": 2,
              "version_minor": 0
            },
            "text/plain": [
              "Epoch 18/50 Batches:   0%|          | 0/232 [00:00<?, ?it/s]"
            ]
          },
          "metadata": {},
          "output_type": "display_data"
        },
        {
          "name": "stdout",
          "output_type": "stream",
          "text": [
            "Epoch 18: Train Loss=0.2582, Train Acc=0.8959, Val Loss=0.1755, Val Acc=0.9307\n"
          ]
        },
        {
          "data": {
            "application/vnd.jupyter.widget-view+json": {
              "model_id": "546e6921187b44cdbddcfd0c849b4f71",
              "version_major": 2,
              "version_minor": 0
            },
            "text/plain": [
              "Epoch 19/50 Batches:   0%|          | 0/232 [00:00<?, ?it/s]"
            ]
          },
          "metadata": {},
          "output_type": "display_data"
        },
        {
          "name": "stdout",
          "output_type": "stream",
          "text": [
            "Epoch 19: Train Loss=0.2593, Train Acc=0.8900, Val Loss=0.2143, Val Acc=0.9048\n"
          ]
        },
        {
          "data": {
            "application/vnd.jupyter.widget-view+json": {
              "model_id": "dbb39e360b1645a294a5569fcff15cae",
              "version_major": 2,
              "version_minor": 0
            },
            "text/plain": [
              "Epoch 20/50 Batches:   0%|          | 0/232 [00:00<?, ?it/s]"
            ]
          },
          "metadata": {},
          "output_type": "display_data"
        },
        {
          "name": "stdout",
          "output_type": "stream",
          "text": [
            "Epoch 20: Train Loss=0.2594, Train Acc=0.8905, Val Loss=0.1422, Val Acc=0.9610\n"
          ]
        },
        {
          "data": {
            "application/vnd.jupyter.widget-view+json": {
              "model_id": "552105d206fd484e887367ce2af25416",
              "version_major": 2,
              "version_minor": 0
            },
            "text/plain": [
              "Epoch 21/50 Batches:   0%|          | 0/232 [00:00<?, ?it/s]"
            ]
          },
          "metadata": {},
          "output_type": "display_data"
        },
        {
          "name": "stdout",
          "output_type": "stream",
          "text": [
            "Epoch 21: Train Loss=0.2257, Train Acc=0.9105, Val Loss=0.1514, Val Acc=0.9437\n"
          ]
        },
        {
          "data": {
            "application/vnd.jupyter.widget-view+json": {
              "model_id": "7eccf8c1432d4ba0872a186bb3736d54",
              "version_major": 2,
              "version_minor": 0
            },
            "text/plain": [
              "Epoch 22/50 Batches:   0%|          | 0/232 [00:00<?, ?it/s]"
            ]
          },
          "metadata": {},
          "output_type": "display_data"
        },
        {
          "name": "stdout",
          "output_type": "stream",
          "text": [
            "Epoch 22: Train Loss=0.2149, Train Acc=0.9196, Val Loss=0.1835, Val Acc=0.9177\n"
          ]
        },
        {
          "data": {
            "application/vnd.jupyter.widget-view+json": {
              "model_id": "6fe0f21949d34e71ae6aef5acab87228",
              "version_major": 2,
              "version_minor": 0
            },
            "text/plain": [
              "Epoch 23/50 Batches:   0%|          | 0/232 [00:00<?, ?it/s]"
            ]
          },
          "metadata": {},
          "output_type": "display_data"
        },
        {
          "name": "stdout",
          "output_type": "stream",
          "text": [
            "Epoch 23: Train Loss=0.1953, Train Acc=0.9191, Val Loss=0.1415, Val Acc=0.9524\n"
          ]
        },
        {
          "data": {
            "application/vnd.jupyter.widget-view+json": {
              "model_id": "f9ce725095aa4c51b3547270800bdbd0",
              "version_major": 2,
              "version_minor": 0
            },
            "text/plain": [
              "Epoch 24/50 Batches:   0%|          | 0/232 [00:00<?, ?it/s]"
            ]
          },
          "metadata": {},
          "output_type": "display_data"
        },
        {
          "name": "stdout",
          "output_type": "stream",
          "text": [
            "Epoch 24: Train Loss=0.2035, Train Acc=0.9196, Val Loss=0.1320, Val Acc=0.9654\n"
          ]
        },
        {
          "data": {
            "application/vnd.jupyter.widget-view+json": {
              "model_id": "afd26ffa47b647c08e46192e52180650",
              "version_major": 2,
              "version_minor": 0
            },
            "text/plain": [
              "Epoch 25/50 Batches:   0%|          | 0/232 [00:00<?, ?it/s]"
            ]
          },
          "metadata": {},
          "output_type": "display_data"
        },
        {
          "name": "stdout",
          "output_type": "stream",
          "text": [
            "Epoch 25: Train Loss=0.1860, Train Acc=0.9293, Val Loss=0.1395, Val Acc=0.9394\n"
          ]
        },
        {
          "data": {
            "application/vnd.jupyter.widget-view+json": {
              "model_id": "3e530f9091c545469984c6f6a3713571",
              "version_major": 2,
              "version_minor": 0
            },
            "text/plain": [
              "Epoch 26/50 Batches:   0%|          | 0/232 [00:00<?, ?it/s]"
            ]
          },
          "metadata": {},
          "output_type": "display_data"
        },
        {
          "name": "stdout",
          "output_type": "stream",
          "text": [
            "Epoch 26: Train Loss=0.1844, Train Acc=0.9293, Val Loss=0.1390, Val Acc=0.9524\n"
          ]
        },
        {
          "data": {
            "application/vnd.jupyter.widget-view+json": {
              "model_id": "f3b364795d3c4d4d9931670dfd49aed6",
              "version_major": 2,
              "version_minor": 0
            },
            "text/plain": [
              "Epoch 27/50 Batches:   0%|          | 0/232 [00:00<?, ?it/s]"
            ]
          },
          "metadata": {},
          "output_type": "display_data"
        },
        {
          "name": "stdout",
          "output_type": "stream",
          "text": [
            "Epoch 27: Train Loss=0.1807, Train Acc=0.9239, Val Loss=0.1406, Val Acc=0.9394\n"
          ]
        },
        {
          "data": {
            "application/vnd.jupyter.widget-view+json": {
              "model_id": "eb97e656408c4e86bcec5352a8cfb048",
              "version_major": 2,
              "version_minor": 0
            },
            "text/plain": [
              "Epoch 28/50 Batches:   0%|          | 0/232 [00:00<?, ?it/s]"
            ]
          },
          "metadata": {},
          "output_type": "display_data"
        },
        {
          "name": "stdout",
          "output_type": "stream",
          "text": [
            "Epoch 28: Train Loss=0.1721, Train Acc=0.9331, Val Loss=0.1253, Val Acc=0.9567\n"
          ]
        },
        {
          "data": {
            "application/vnd.jupyter.widget-view+json": {
              "model_id": "2bc39725ee5d444d8bcd97127764b045",
              "version_major": 2,
              "version_minor": 0
            },
            "text/plain": [
              "Epoch 29/50 Batches:   0%|          | 0/232 [00:00<?, ?it/s]"
            ]
          },
          "metadata": {},
          "output_type": "display_data"
        },
        {
          "name": "stdout",
          "output_type": "stream",
          "text": [
            "Epoch 29: Train Loss=0.1611, Train Acc=0.9364, Val Loss=0.1395, Val Acc=0.9351\n"
          ]
        },
        {
          "data": {
            "application/vnd.jupyter.widget-view+json": {
              "model_id": "ef09a271fb984eb195a3ad4ad1ff5569",
              "version_major": 2,
              "version_minor": 0
            },
            "text/plain": [
              "Epoch 30/50 Batches:   0%|          | 0/232 [00:00<?, ?it/s]"
            ]
          },
          "metadata": {},
          "output_type": "display_data"
        },
        {
          "name": "stdout",
          "output_type": "stream",
          "text": [
            "Epoch 30: Train Loss=0.1564, Train Acc=0.9423, Val Loss=0.1632, Val Acc=0.9264\n"
          ]
        },
        {
          "data": {
            "application/vnd.jupyter.widget-view+json": {
              "model_id": "fcea3ad49a7e4240b7337b04711dc589",
              "version_major": 2,
              "version_minor": 0
            },
            "text/plain": [
              "Epoch 31/50 Batches:   0%|          | 0/232 [00:00<?, ?it/s]"
            ]
          },
          "metadata": {},
          "output_type": "display_data"
        },
        {
          "name": "stdout",
          "output_type": "stream",
          "text": [
            "Epoch 31: Train Loss=0.1364, Train Acc=0.9504, Val Loss=0.1025, Val Acc=0.9610\n"
          ]
        },
        {
          "data": {
            "application/vnd.jupyter.widget-view+json": {
              "model_id": "c22ed8293f9b4eeaa48f78c85e3b48ec",
              "version_major": 2,
              "version_minor": 0
            },
            "text/plain": [
              "Epoch 32/50 Batches:   0%|          | 0/232 [00:00<?, ?it/s]"
            ]
          },
          "metadata": {},
          "output_type": "display_data"
        },
        {
          "name": "stdout",
          "output_type": "stream",
          "text": [
            "Epoch 32: Train Loss=0.1611, Train Acc=0.9428, Val Loss=0.1020, Val Acc=0.9610\n"
          ]
        },
        {
          "data": {
            "application/vnd.jupyter.widget-view+json": {
              "model_id": "88ac4c5f70bf49568b6d0f481982e2f6",
              "version_major": 2,
              "version_minor": 0
            },
            "text/plain": [
              "Epoch 33/50 Batches:   0%|          | 0/232 [00:00<?, ?it/s]"
            ]
          },
          "metadata": {},
          "output_type": "display_data"
        },
        {
          "name": "stdout",
          "output_type": "stream",
          "text": [
            "Epoch 33: Train Loss=0.1178, Train Acc=0.9579, Val Loss=0.1140, Val Acc=0.9567\n"
          ]
        },
        {
          "data": {
            "application/vnd.jupyter.widget-view+json": {
              "model_id": "99f8c04622c64098a8e93983157a16d1",
              "version_major": 2,
              "version_minor": 0
            },
            "text/plain": [
              "Epoch 34/50 Batches:   0%|          | 0/232 [00:00<?, ?it/s]"
            ]
          },
          "metadata": {},
          "output_type": "display_data"
        },
        {
          "name": "stdout",
          "output_type": "stream",
          "text": [
            "Epoch 34: Train Loss=0.1365, Train Acc=0.9498, Val Loss=0.1501, Val Acc=0.9394\n"
          ]
        },
        {
          "data": {
            "application/vnd.jupyter.widget-view+json": {
              "model_id": "17624addd0794f07ae2a603b79569118",
              "version_major": 2,
              "version_minor": 0
            },
            "text/plain": [
              "Epoch 35/50 Batches:   0%|          | 0/232 [00:00<?, ?it/s]"
            ]
          },
          "metadata": {},
          "output_type": "display_data"
        },
        {
          "name": "stdout",
          "output_type": "stream",
          "text": [
            "Epoch 35: Train Loss=0.1192, Train Acc=0.9542, Val Loss=0.1149, Val Acc=0.9567\n"
          ]
        },
        {
          "data": {
            "application/vnd.jupyter.widget-view+json": {
              "model_id": "95d0df3ccf784f19a704c6fd0e11a99c",
              "version_major": 2,
              "version_minor": 0
            },
            "text/plain": [
              "Epoch 36/50 Batches:   0%|          | 0/232 [00:00<?, ?it/s]"
            ]
          },
          "metadata": {},
          "output_type": "display_data"
        },
        {
          "name": "stdout",
          "output_type": "stream",
          "text": [
            "Epoch 36: Train Loss=0.1289, Train Acc=0.9482, Val Loss=0.0848, Val Acc=0.9740\n"
          ]
        },
        {
          "data": {
            "application/vnd.jupyter.widget-view+json": {
              "model_id": "25fb290efe1c402f8706eedb7f33b6a9",
              "version_major": 2,
              "version_minor": 0
            },
            "text/plain": [
              "Epoch 37/50 Batches:   0%|          | 0/232 [00:00<?, ?it/s]"
            ]
          },
          "metadata": {},
          "output_type": "display_data"
        },
        {
          "name": "stdout",
          "output_type": "stream",
          "text": [
            "Epoch 37: Train Loss=0.1323, Train Acc=0.9520, Val Loss=0.0917, Val Acc=0.9740\n"
          ]
        },
        {
          "data": {
            "application/vnd.jupyter.widget-view+json": {
              "model_id": "601dcaf63ac748aa83cfe4cc7c9576a9",
              "version_major": 2,
              "version_minor": 0
            },
            "text/plain": [
              "Epoch 38/50 Batches:   0%|          | 0/232 [00:00<?, ?it/s]"
            ]
          },
          "metadata": {},
          "output_type": "display_data"
        },
        {
          "name": "stdout",
          "output_type": "stream",
          "text": [
            "Epoch 38: Train Loss=0.1178, Train Acc=0.9574, Val Loss=0.3029, Val Acc=0.8788\n"
          ]
        },
        {
          "data": {
            "application/vnd.jupyter.widget-view+json": {
              "model_id": "e9df8046d4404557b1bbc3ab8e0d0a6e",
              "version_major": 2,
              "version_minor": 0
            },
            "text/plain": [
              "Epoch 39/50 Batches:   0%|          | 0/232 [00:00<?, ?it/s]"
            ]
          },
          "metadata": {},
          "output_type": "display_data"
        },
        {
          "name": "stdout",
          "output_type": "stream",
          "text": [
            "Epoch 39: Train Loss=0.1064, Train Acc=0.9612, Val Loss=0.0891, Val Acc=0.9610\n"
          ]
        },
        {
          "data": {
            "application/vnd.jupyter.widget-view+json": {
              "model_id": "3d403734017244b78ca1eaa36cb3bb49",
              "version_major": 2,
              "version_minor": 0
            },
            "text/plain": [
              "Epoch 40/50 Batches:   0%|          | 0/232 [00:00<?, ?it/s]"
            ]
          },
          "metadata": {},
          "output_type": "display_data"
        },
        {
          "name": "stdout",
          "output_type": "stream",
          "text": [
            "Epoch 40: Train Loss=0.0981, Train Acc=0.9617, Val Loss=0.0861, Val Acc=0.9697\n"
          ]
        },
        {
          "data": {
            "application/vnd.jupyter.widget-view+json": {
              "model_id": "f85be7bf3189457eaa39b5e44992b7a8",
              "version_major": 2,
              "version_minor": 0
            },
            "text/plain": [
              "Epoch 41/50 Batches:   0%|          | 0/232 [00:00<?, ?it/s]"
            ]
          },
          "metadata": {},
          "output_type": "display_data"
        },
        {
          "name": "stdout",
          "output_type": "stream",
          "text": [
            "Epoch 41: Train Loss=0.1108, Train Acc=0.9569, Val Loss=0.1074, Val Acc=0.9524\n"
          ]
        },
        {
          "data": {
            "application/vnd.jupyter.widget-view+json": {
              "model_id": "0d932509e0b04f6180e475a3b31e5ee5",
              "version_major": 2,
              "version_minor": 0
            },
            "text/plain": [
              "Epoch 42/50 Batches:   0%|          | 0/232 [00:00<?, ?it/s]"
            ]
          },
          "metadata": {},
          "output_type": "display_data"
        },
        {
          "name": "stdout",
          "output_type": "stream",
          "text": [
            "Epoch 42: Train Loss=0.0779, Train Acc=0.9752, Val Loss=0.0879, Val Acc=0.9610\n"
          ]
        },
        {
          "data": {
            "application/vnd.jupyter.widget-view+json": {
              "model_id": "070f2ea47dec43cd9ab374760d76453e",
              "version_major": 2,
              "version_minor": 0
            },
            "text/plain": [
              "Epoch 43/50 Batches:   0%|          | 0/232 [00:00<?, ?it/s]"
            ]
          },
          "metadata": {},
          "output_type": "display_data"
        },
        {
          "name": "stdout",
          "output_type": "stream",
          "text": [
            "Epoch 43: Train Loss=0.0746, Train Acc=0.9736, Val Loss=0.0610, Val Acc=0.9784\n"
          ]
        },
        {
          "data": {
            "application/vnd.jupyter.widget-view+json": {
              "model_id": "df15a7a5540d47038a470d2716ac1701",
              "version_major": 2,
              "version_minor": 0
            },
            "text/plain": [
              "Epoch 44/50 Batches:   0%|          | 0/232 [00:00<?, ?it/s]"
            ]
          },
          "metadata": {},
          "output_type": "display_data"
        },
        {
          "name": "stdout",
          "output_type": "stream",
          "text": [
            "Epoch 44: Train Loss=0.0551, Train Acc=0.9822, Val Loss=0.0489, Val Acc=0.9870\n"
          ]
        },
        {
          "data": {
            "application/vnd.jupyter.widget-view+json": {
              "model_id": "82a6fec5244d4f3fac2b341032766d64",
              "version_major": 2,
              "version_minor": 0
            },
            "text/plain": [
              "Epoch 45/50 Batches:   0%|          | 0/232 [00:00<?, ?it/s]"
            ]
          },
          "metadata": {},
          "output_type": "display_data"
        },
        {
          "name": "stdout",
          "output_type": "stream",
          "text": [
            "Epoch 45: Train Loss=0.0651, Train Acc=0.9795, Val Loss=0.0519, Val Acc=0.9827\n"
          ]
        },
        {
          "data": {
            "application/vnd.jupyter.widget-view+json": {
              "model_id": "a388207597fa49ce956a7e0f82242c7c",
              "version_major": 2,
              "version_minor": 0
            },
            "text/plain": [
              "Epoch 46/50 Batches:   0%|          | 0/232 [00:00<?, ?it/s]"
            ]
          },
          "metadata": {},
          "output_type": "display_data"
        },
        {
          "name": "stdout",
          "output_type": "stream",
          "text": [
            "Epoch 46: Train Loss=0.0722, Train Acc=0.9768, Val Loss=0.0547, Val Acc=0.9870\n"
          ]
        },
        {
          "data": {
            "application/vnd.jupyter.widget-view+json": {
              "model_id": "3fd23a74eedf44ae8aef87443f6def86",
              "version_major": 2,
              "version_minor": 0
            },
            "text/plain": [
              "Epoch 47/50 Batches:   0%|          | 0/232 [00:00<?, ?it/s]"
            ]
          },
          "metadata": {},
          "output_type": "display_data"
        },
        {
          "name": "stdout",
          "output_type": "stream",
          "text": [
            "Epoch 47: Train Loss=0.0613, Train Acc=0.9806, Val Loss=0.0772, Val Acc=0.9784\n"
          ]
        },
        {
          "data": {
            "application/vnd.jupyter.widget-view+json": {
              "model_id": "a59c809fea434f3a8612c109f3ee0c63",
              "version_major": 2,
              "version_minor": 0
            },
            "text/plain": [
              "Epoch 48/50 Batches:   0%|          | 0/232 [00:00<?, ?it/s]"
            ]
          },
          "metadata": {},
          "output_type": "display_data"
        },
        {
          "name": "stdout",
          "output_type": "stream",
          "text": [
            "Epoch 48: Train Loss=0.0554, Train Acc=0.9822, Val Loss=0.0447, Val Acc=0.9870\n"
          ]
        },
        {
          "data": {
            "application/vnd.jupyter.widget-view+json": {
              "model_id": "d14b4c7747b34aa0985a418b43d0cab4",
              "version_major": 2,
              "version_minor": 0
            },
            "text/plain": [
              "Epoch 49/50 Batches:   0%|          | 0/232 [00:00<?, ?it/s]"
            ]
          },
          "metadata": {},
          "output_type": "display_data"
        },
        {
          "name": "stdout",
          "output_type": "stream",
          "text": [
            "Epoch 49: Train Loss=0.0603, Train Acc=0.9795, Val Loss=0.0422, Val Acc=0.9827\n"
          ]
        },
        {
          "data": {
            "application/vnd.jupyter.widget-view+json": {
              "model_id": "d5e153783f5e43dd85ce703e991787b8",
              "version_major": 2,
              "version_minor": 0
            },
            "text/plain": [
              "Epoch 50/50 Batches:   0%|          | 0/232 [00:00<?, ?it/s]"
            ]
          },
          "metadata": {},
          "output_type": "display_data"
        },
        {
          "name": "stdout",
          "output_type": "stream",
          "text": [
            "Epoch 50: Train Loss=0.0622, Train Acc=0.9800, Val Loss=0.0430, Val Acc=0.9913\n",
            "Model Training Completed.\n",
            "Training History:\n"
          ]
        },
        {
          "data": {
            "image/png": "[encoded data removed]",
            "text/plain": [
              "<Figure size 1200x500 with 2 Axes>"
            ]
          },
          "metadata": {},
          "output_type": "display_data"
        }
      ],
      "source": [
        "# Training Resnet\n",
        "print(\"Training Resnet...\")\n",
        "resnet_model = get_model(\"resnet\", num_classes)\n",
        "criterion = nn.CrossEntropyLoss()\n",
        "optimizer = optim.Adam(resnet_model.parameters(), lr=0.001, weight_decay=1e-4)\n",
        "scheduler = optim.lr_scheduler.ReduceLROnPlateau(optimizer, mode='min', factor=0.1, patience=3)\n",
        "writer = SummaryWriter(log_dir=f\"runs/resnet\")\n",
        "resnet_model, resnet_history = train_model(\n",
        "    resnet_model, criterion, optimizer, scheduler,\n",
        "    train_loader, val_loader, writer, num_epochs=50, model_name=\"resnet\"\n",
        ")\n",
        "print(\"Model Training Completed.\")\n",
        "print(\"Training History:\")\n",
        "plot_curves(resnet_history, \"Resnet\")"
      ]
    },
    {
      "cell_type": "code",
      "execution_count": 41,
      "id": "08f25bfd",
      "metadata": {},
      "outputs": [
        {
          "name": "stdout",
          "output_type": "stream",
          "text": [
            "Evaluating Resnet on Test Set:\n",
            "Resnet Test Accuracy: 0.9828\n",
            "Resnet Test Precision: 0.9825\n",
            "Resnet Test Recall: 0.9837\n",
            "Resnet Test F1-Score: 0.9828\n",
            "Classification Report:\n",
            "              precision    recall  f1-score   support\n",
            "\n",
            "          no       0.96      1.00      0.98       110\n",
            "         yes       1.00      0.97      0.98       123\n",
            "\n",
            "    accuracy                           0.98       233\n",
            "   macro avg       0.98      0.98      0.98       233\n",
            "weighted avg       0.98      0.98      0.98       233\n",
            "\n"
          ]
        },
        {
          "data": {
            "image/png": "[encoded data removed]",
            "text/plain": [
              "<Figure size 600x500 with 2 Axes>"
            ]
          },
          "metadata": {},
          "output_type": "display_data"
        }
      ],
      "source": [
        "# Evaluating Resnet\n",
        "print(\"Evaluating Resnet on Test Set:\")\n",
        "accuracy, precision, recall, f1 = evaluate_model(resnet_model, test_loader, \"Resnet\")\n",
        "results[\"Model\"].append(\"Resnet\")\n",
        "results[\"Accuracy\"].append(accuracy)\n",
        "results[\"Precision\"].append(precision)\n",
        "results[\"Recall\"].append(recall)\n",
        "results[\"F1-Score\"].append(f1)"
      ]
    },
    {
      "cell_type": "code",
      "execution_count": 42,
      "id": "28855b29",
      "metadata": {},
      "outputs": [],
      "source": [
        "# Save the trained model\n",
        "torch.save(resnet_model.state_dict(), \"saved_models/resnet_model.pth\")"
      ]
    },
    {
      "cell_type": "markdown",
      "id": "ec50cda2",
      "metadata": {},
      "source": [
        "### **Train ViT**"
      ]
    },
    {
      "cell_type": "code",
      "execution_count": 43,
      "id": "5ebc07da",
      "metadata": {},
      "outputs": [
        {
          "name": "stdout",
          "output_type": "stream",
          "text": [
            "Training ViT...\n"
          ]
        },
        {
          "data": {
            "application/vnd.jupyter.widget-view+json": {
              "model_id": "690a7d85d883472ebad9933332967348",
              "version_major": 2,
              "version_minor": 0
            },
            "text/plain": [
              "Training Progress:   0%|          | 0/50 [00:00<?, ?it/s]"
            ]
          },
          "metadata": {},
          "output_type": "display_data"
        },
        {
          "data": {
            "application/vnd.jupyter.widget-view+json": {
              "model_id": "089801ac39d243f5a161ee7cc38a299e",
              "version_major": 2,
              "version_minor": 0
            },
            "text/plain": [
              "Epoch 1/50 Batches:   0%|          | 0/232 [00:00<?, ?it/s]"
            ]
          },
          "metadata": {},
          "output_type": "display_data"
        },
        {
          "name": "stdout",
          "output_type": "stream",
          "text": [
            "Epoch 1: Train Loss=0.8174, Train Acc=0.5631, Val Loss=0.6393, Val Acc=0.6797\n"
          ]
        },
        {
          "data": {
            "application/vnd.jupyter.widget-view+json": {
              "model_id": "aa9d854bfdd44d74a1403980eb327f49",
              "version_major": 2,
              "version_minor": 0
            },
            "text/plain": [
              "Epoch 2/50 Batches:   0%|          | 0/232 [00:00<?, ?it/s]"
            ]
          },
          "metadata": {},
          "output_type": "display_data"
        },
        {
          "name": "stdout",
          "output_type": "stream",
          "text": [
            "Epoch 2: Train Loss=0.7442, Train Acc=0.5178, Val Loss=0.6848, Val Acc=0.5801\n"
          ]
        },
        {
          "data": {
            "application/vnd.jupyter.widget-view+json": {
              "model_id": "b6f225751ba14d12b91bd11e50256a98",
              "version_major": 2,
              "version_minor": 0
            },
            "text/plain": [
              "Epoch 3/50 Batches:   0%|          | 0/232 [00:00<?, ?it/s]"
            ]
          },
          "metadata": {},
          "output_type": "display_data"
        },
        {
          "name": "stdout",
          "output_type": "stream",
          "text": [
            "Epoch 3: Train Loss=0.6936, Train Acc=0.5663, Val Loss=0.6211, Val Acc=0.6667\n"
          ]
        },
        {
          "data": {
            "application/vnd.jupyter.widget-view+json": {
              "model_id": "61bc6670b13844e6841fbe949837f94e",
              "version_major": 2,
              "version_minor": 0
            },
            "text/plain": [
              "Epoch 4/50 Batches:   0%|          | 0/232 [00:00<?, ?it/s]"
            ]
          },
          "metadata": {},
          "output_type": "display_data"
        },
        {
          "name": "stdout",
          "output_type": "stream",
          "text": [
            "Epoch 4: Train Loss=0.6713, Train Acc=0.5955, Val Loss=0.6004, Val Acc=0.6926\n"
          ]
        },
        {
          "data": {
            "application/vnd.jupyter.widget-view+json": {
              "model_id": "c5e8b214113f41f48a77ddef827ad4d7",
              "version_major": 2,
              "version_minor": 0
            },
            "text/plain": [
              "Epoch 5/50 Batches:   0%|          | 0/232 [00:00<?, ?it/s]"
            ]
          },
          "metadata": {},
          "output_type": "display_data"
        },
        {
          "name": "stdout",
          "output_type": "stream",
          "text": [
            "Epoch 5: Train Loss=0.6501, Train Acc=0.6332, Val Loss=0.5701, Val Acc=0.7056\n"
          ]
        },
        {
          "data": {
            "application/vnd.jupyter.widget-view+json": {
              "model_id": "3d42a7f718824421bd39c0edd835547b",
              "version_major": 2,
              "version_minor": 0
            },
            "text/plain": [
              "Epoch 6/50 Batches:   0%|          | 0/232 [00:00<?, ?it/s]"
            ]
          },
          "metadata": {},
          "output_type": "display_data"
        },
        {
          "name": "stdout",
          "output_type": "stream",
          "text": [
            "Epoch 6: Train Loss=0.6426, Train Acc=0.6472, Val Loss=0.5485, Val Acc=0.7403\n"
          ]
        },
        {
          "data": {
            "application/vnd.jupyter.widget-view+json": {
              "model_id": "bb0b2682df92409eb83780a2303e9fe0",
              "version_major": 2,
              "version_minor": 0
            },
            "text/plain": [
              "Epoch 7/50 Batches:   0%|          | 0/232 [00:00<?, ?it/s]"
            ]
          },
          "metadata": {},
          "output_type": "display_data"
        },
        {
          "name": "stdout",
          "output_type": "stream",
          "text": [
            "Epoch 7: Train Loss=0.6412, Train Acc=0.6532, Val Loss=0.6068, Val Acc=0.6667\n"
          ]
        },
        {
          "data": {
            "application/vnd.jupyter.widget-view+json": {
              "model_id": "9a1bcdb29fe54edeaaec05f6eb3ae7ba",
              "version_major": 2,
              "version_minor": 0
            },
            "text/plain": [
              "Epoch 8/50 Batches:   0%|          | 0/232 [00:00<?, ?it/s]"
            ]
          },
          "metadata": {},
          "output_type": "display_data"
        },
        {
          "name": "stdout",
          "output_type": "stream",
          "text": [
            "Epoch 8: Train Loss=0.6185, Train Acc=0.6650, Val Loss=0.5246, Val Acc=0.7229\n"
          ]
        },
        {
          "data": {
            "application/vnd.jupyter.widget-view+json": {
              "model_id": "59be5551af7b475cb3ee918f5f0ddac9",
              "version_major": 2,
              "version_minor": 0
            },
            "text/plain": [
              "Epoch 9/50 Batches:   0%|          | 0/232 [00:00<?, ?it/s]"
            ]
          },
          "metadata": {},
          "output_type": "display_data"
        },
        {
          "name": "stdout",
          "output_type": "stream",
          "text": [
            "Epoch 9: Train Loss=0.6361, Train Acc=0.6645, Val Loss=0.5527, Val Acc=0.7316\n"
          ]
        },
        {
          "data": {
            "application/vnd.jupyter.widget-view+json": {
              "model_id": "5c5e4c4b5f66405da9c97b887df9be38",
              "version_major": 2,
              "version_minor": 0
            },
            "text/plain": [
              "Epoch 10/50 Batches:   0%|          | 0/232 [00:00<?, ?it/s]"
            ]
          },
          "metadata": {},
          "output_type": "display_data"
        },
        {
          "name": "stdout",
          "output_type": "stream",
          "text": [
            "Epoch 10: Train Loss=0.6293, Train Acc=0.6451, Val Loss=0.5572, Val Acc=0.7186\n"
          ]
        },
        {
          "data": {
            "application/vnd.jupyter.widget-view+json": {
              "model_id": "82d856ae92d140d5beb5994925405bed",
              "version_major": 2,
              "version_minor": 0
            },
            "text/plain": [
              "Epoch 11/50 Batches:   0%|          | 0/232 [00:00<?, ?it/s]"
            ]
          },
          "metadata": {},
          "output_type": "display_data"
        },
        {
          "name": "stdout",
          "output_type": "stream",
          "text": [
            "Epoch 11: Train Loss=0.6299, Train Acc=0.6462, Val Loss=0.5753, Val Acc=0.6970\n"
          ]
        },
        {
          "data": {
            "application/vnd.jupyter.widget-view+json": {
              "model_id": "a1de7244467243168fb77c160763d1dc",
              "version_major": 2,
              "version_minor": 0
            },
            "text/plain": [
              "Epoch 12/50 Batches:   0%|          | 0/232 [00:00<?, ?it/s]"
            ]
          },
          "metadata": {},
          "output_type": "display_data"
        },
        {
          "name": "stdout",
          "output_type": "stream",
          "text": [
            "Epoch 12: Train Loss=0.6062, Train Acc=0.6877, Val Loss=0.5549, Val Acc=0.7619\n"
          ]
        },
        {
          "data": {
            "application/vnd.jupyter.widget-view+json": {
              "model_id": "0947cab8c14740baab693ecbfa20ca4f",
              "version_major": 2,
              "version_minor": 0
            },
            "text/plain": [
              "Epoch 13/50 Batches:   0%|          | 0/232 [00:00<?, ?it/s]"
            ]
          },
          "metadata": {},
          "output_type": "display_data"
        },
        {
          "name": "stdout",
          "output_type": "stream",
          "text": [
            "Epoch 13: Train Loss=0.5644, Train Acc=0.7184, Val Loss=0.5028, Val Acc=0.7532\n"
          ]
        },
        {
          "data": {
            "application/vnd.jupyter.widget-view+json": {
              "model_id": "c93835a51a354c67b539f2cf5dc10635",
              "version_major": 2,
              "version_minor": 0
            },
            "text/plain": [
              "Epoch 14/50 Batches:   0%|          | 0/232 [00:00<?, ?it/s]"
            ]
          },
          "metadata": {},
          "output_type": "display_data"
        },
        {
          "name": "stdout",
          "output_type": "stream",
          "text": [
            "Epoch 14: Train Loss=0.5199, Train Acc=0.7406, Val Loss=0.4609, Val Acc=0.7532\n"
          ]
        },
        {
          "data": {
            "application/vnd.jupyter.widget-view+json": {
              "model_id": "51b9f25b08fa422e915f7da7c6f2d391",
              "version_major": 2,
              "version_minor": 0
            },
            "text/plain": [
              "Epoch 15/50 Batches:   0%|          | 0/232 [00:00<?, ?it/s]"
            ]
          },
          "metadata": {},
          "output_type": "display_data"
        },
        {
          "name": "stdout",
          "output_type": "stream",
          "text": [
            "Epoch 15: Train Loss=0.5019, Train Acc=0.7643, Val Loss=0.4444, Val Acc=0.7792\n"
          ]
        },
        {
          "data": {
            "application/vnd.jupyter.widget-view+json": {
              "model_id": "8242e1d6d5f54aa9a22bd02969897011",
              "version_major": 2,
              "version_minor": 0
            },
            "text/plain": [
              "Epoch 16/50 Batches:   0%|          | 0/232 [00:00<?, ?it/s]"
            ]
          },
          "metadata": {},
          "output_type": "display_data"
        },
        {
          "name": "stdout",
          "output_type": "stream",
          "text": [
            "Epoch 16: Train Loss=0.4774, Train Acc=0.7778, Val Loss=0.4451, Val Acc=0.7965\n"
          ]
        },
        {
          "data": {
            "application/vnd.jupyter.widget-view+json": {
              "model_id": "e6a25d308fe347a696fd2652ad48a944",
              "version_major": 2,
              "version_minor": 0
            },
            "text/plain": [
              "Epoch 17/50 Batches:   0%|          | 0/232 [00:00<?, ?it/s]"
            ]
          },
          "metadata": {},
          "output_type": "display_data"
        },
        {
          "name": "stdout",
          "output_type": "stream",
          "text": [
            "Epoch 17: Train Loss=0.4732, Train Acc=0.7843, Val Loss=0.4450, Val Acc=0.7965\n"
          ]
        },
        {
          "data": {
            "application/vnd.jupyter.widget-view+json": {
              "model_id": "89561c2e680c4e4794e78d8978613d1c",
              "version_major": 2,
              "version_minor": 0
            },
            "text/plain": [
              "Epoch 18/50 Batches:   0%|          | 0/232 [00:00<?, ?it/s]"
            ]
          },
          "metadata": {},
          "output_type": "display_data"
        },
        {
          "name": "stdout",
          "output_type": "stream",
          "text": [
            "Epoch 18: Train Loss=0.4601, Train Acc=0.7929, Val Loss=0.4540, Val Acc=0.7619\n"
          ]
        },
        {
          "data": {
            "application/vnd.jupyter.widget-view+json": {
              "model_id": "988f1a7cf7314a7fb5e21a7b7c62b3e4",
              "version_major": 2,
              "version_minor": 0
            },
            "text/plain": [
              "Epoch 19/50 Batches:   0%|          | 0/232 [00:00<?, ?it/s]"
            ]
          },
          "metadata": {},
          "output_type": "display_data"
        },
        {
          "name": "stdout",
          "output_type": "stream",
          "text": [
            "Epoch 19: Train Loss=0.4482, Train Acc=0.7929, Val Loss=0.4443, Val Acc=0.7835\n"
          ]
        },
        {
          "data": {
            "application/vnd.jupyter.widget-view+json": {
              "model_id": "47cf4db97125454e841e7f4a5835024b",
              "version_major": 2,
              "version_minor": 0
            },
            "text/plain": [
              "Epoch 20/50 Batches:   0%|          | 0/232 [00:00<?, ?it/s]"
            ]
          },
          "metadata": {},
          "output_type": "display_data"
        },
        {
          "name": "stdout",
          "output_type": "stream",
          "text": [
            "Epoch 20: Train Loss=0.4318, Train Acc=0.8031, Val Loss=0.4391, Val Acc=0.7619\n"
          ]
        },
        {
          "data": {
            "application/vnd.jupyter.widget-view+json": {
              "model_id": "6c1f31bddf164bf38e12b292eba5970b",
              "version_major": 2,
              "version_minor": 0
            },
            "text/plain": [
              "Epoch 21/50 Batches:   0%|          | 0/232 [00:00<?, ?it/s]"
            ]
          },
          "metadata": {},
          "output_type": "display_data"
        },
        {
          "name": "stdout",
          "output_type": "stream",
          "text": [
            "Epoch 21: Train Loss=0.4125, Train Acc=0.8161, Val Loss=0.3985, Val Acc=0.8225\n"
          ]
        },
        {
          "data": {
            "application/vnd.jupyter.widget-view+json": {
              "model_id": "e9ea6d80faa44ac7a154d1d2a3f0c045",
              "version_major": 2,
              "version_minor": 0
            },
            "text/plain": [
              "Epoch 22/50 Batches:   0%|          | 0/232 [00:00<?, ?it/s]"
            ]
          },
          "metadata": {},
          "output_type": "display_data"
        },
        {
          "name": "stdout",
          "output_type": "stream",
          "text": [
            "Epoch 22: Train Loss=0.4225, Train Acc=0.8172, Val Loss=0.4469, Val Acc=0.8009\n"
          ]
        },
        {
          "data": {
            "application/vnd.jupyter.widget-view+json": {
              "model_id": "0d8caf8b45cd4d2599183869c4f97e01",
              "version_major": 2,
              "version_minor": 0
            },
            "text/plain": [
              "Epoch 23/50 Batches:   0%|          | 0/232 [00:00<?, ?it/s]"
            ]
          },
          "metadata": {},
          "output_type": "display_data"
        },
        {
          "name": "stdout",
          "output_type": "stream",
          "text": [
            "Epoch 23: Train Loss=0.4029, Train Acc=0.8274, Val Loss=0.3615, Val Acc=0.8268\n"
          ]
        },
        {
          "data": {
            "application/vnd.jupyter.widget-view+json": {
              "model_id": "c8b0fc1618724ac3b044d7be4e1a0a8b",
              "version_major": 2,
              "version_minor": 0
            },
            "text/plain": [
              "Epoch 24/50 Batches:   0%|          | 0/232 [00:00<?, ?it/s]"
            ]
          },
          "metadata": {},
          "output_type": "display_data"
        },
        {
          "name": "stdout",
          "output_type": "stream",
          "text": [
            "Epoch 24: Train Loss=0.4044, Train Acc=0.8317, Val Loss=0.3892, Val Acc=0.8312\n"
          ]
        },
        {
          "data": {
            "application/vnd.jupyter.widget-view+json": {
              "model_id": "93c9a01364ec4ee584e95304c4bdaefa",
              "version_major": 2,
              "version_minor": 0
            },
            "text/plain": [
              "Epoch 25/50 Batches:   0%|          | 0/232 [00:00<?, ?it/s]"
            ]
          },
          "metadata": {},
          "output_type": "display_data"
        },
        {
          "name": "stdout",
          "output_type": "stream",
          "text": [
            "Epoch 25: Train Loss=0.4044, Train Acc=0.8263, Val Loss=0.4127, Val Acc=0.8225\n"
          ]
        },
        {
          "data": {
            "application/vnd.jupyter.widget-view+json": {
              "model_id": "881c7cbe5de14d84b5f9b76b43b0859d",
              "version_major": 2,
              "version_minor": 0
            },
            "text/plain": [
              "Epoch 26/50 Batches:   0%|          | 0/232 [00:00<?, ?it/s]"
            ]
          },
          "metadata": {},
          "output_type": "display_data"
        },
        {
          "name": "stdout",
          "output_type": "stream",
          "text": [
            "Epoch 26: Train Loss=0.3766, Train Acc=0.8414, Val Loss=0.3760, Val Acc=0.8268\n"
          ]
        },
        {
          "data": {
            "application/vnd.jupyter.widget-view+json": {
              "model_id": "2c072e195a8d4e4b9a8e7cc419a9200e",
              "version_major": 2,
              "version_minor": 0
            },
            "text/plain": [
              "Epoch 27/50 Batches:   0%|          | 0/232 [00:00<?, ?it/s]"
            ]
          },
          "metadata": {},
          "output_type": "display_data"
        },
        {
          "name": "stdout",
          "output_type": "stream",
          "text": [
            "Epoch 27: Train Loss=0.3810, Train Acc=0.8479, Val Loss=0.3854, Val Acc=0.8052\n"
          ]
        },
        {
          "data": {
            "application/vnd.jupyter.widget-view+json": {
              "model_id": "c1b1ea845fb145aa937f1167f83a45c7",
              "version_major": 2,
              "version_minor": 0
            },
            "text/plain": [
              "Epoch 28/50 Batches:   0%|          | 0/232 [00:00<?, ?it/s]"
            ]
          },
          "metadata": {},
          "output_type": "display_data"
        },
        {
          "name": "stdout",
          "output_type": "stream",
          "text": [
            "Epoch 28: Train Loss=0.3578, Train Acc=0.8463, Val Loss=0.3744, Val Acc=0.8312\n"
          ]
        },
        {
          "data": {
            "application/vnd.jupyter.widget-view+json": {
              "model_id": "af52b066c21b4c73b0b04627fd5a64e9",
              "version_major": 2,
              "version_minor": 0
            },
            "text/plain": [
              "Epoch 29/50 Batches:   0%|          | 0/232 [00:00<?, ?it/s]"
            ]
          },
          "metadata": {},
          "output_type": "display_data"
        },
        {
          "name": "stdout",
          "output_type": "stream",
          "text": [
            "Epoch 29: Train Loss=0.3631, Train Acc=0.8479, Val Loss=0.3434, Val Acc=0.8745\n"
          ]
        },
        {
          "data": {
            "application/vnd.jupyter.widget-view+json": {
              "model_id": "68816756ed7a4c6e91f9a1ab555a43c3",
              "version_major": 2,
              "version_minor": 0
            },
            "text/plain": [
              "Epoch 30/50 Batches:   0%|          | 0/232 [00:00<?, ?it/s]"
            ]
          },
          "metadata": {},
          "output_type": "display_data"
        },
        {
          "name": "stdout",
          "output_type": "stream",
          "text": [
            "Epoch 30: Train Loss=0.3578, Train Acc=0.8479, Val Loss=0.3928, Val Acc=0.8182\n"
          ]
        },
        {
          "data": {
            "application/vnd.jupyter.widget-view+json": {
              "model_id": "da9197fb9c254f929a60ed6b58aef9d9",
              "version_major": 2,
              "version_minor": 0
            },
            "text/plain": [
              "Epoch 31/50 Batches:   0%|          | 0/232 [00:00<?, ?it/s]"
            ]
          },
          "metadata": {},
          "output_type": "display_data"
        },
        {
          "name": "stdout",
          "output_type": "stream",
          "text": [
            "Epoch 31: Train Loss=0.3615, Train Acc=0.8511, Val Loss=0.3726, Val Acc=0.8268\n"
          ]
        },
        {
          "data": {
            "application/vnd.jupyter.widget-view+json": {
              "model_id": "3ce76069024844ee86edaa86adc93fd2",
              "version_major": 2,
              "version_minor": 0
            },
            "text/plain": [
              "Epoch 32/50 Batches:   0%|          | 0/232 [00:00<?, ?it/s]"
            ]
          },
          "metadata": {},
          "output_type": "display_data"
        },
        {
          "name": "stdout",
          "output_type": "stream",
          "text": [
            "Epoch 32: Train Loss=0.3496, Train Acc=0.8625, Val Loss=0.3957, Val Acc=0.8139\n"
          ]
        },
        {
          "data": {
            "application/vnd.jupyter.widget-view+json": {
              "model_id": "3e63613669774405b4f8362e270280d5",
              "version_major": 2,
              "version_minor": 0
            },
            "text/plain": [
              "Epoch 33/50 Batches:   0%|          | 0/232 [00:00<?, ?it/s]"
            ]
          },
          "metadata": {},
          "output_type": "display_data"
        },
        {
          "name": "stdout",
          "output_type": "stream",
          "text": [
            "Epoch 33: Train Loss=0.3533, Train Acc=0.8565, Val Loss=0.3408, Val Acc=0.8571\n"
          ]
        },
        {
          "data": {
            "application/vnd.jupyter.widget-view+json": {
              "model_id": "2dd1b17deefe46378ff8fc9189c87d72",
              "version_major": 2,
              "version_minor": 0
            },
            "text/plain": [
              "Epoch 34/50 Batches:   0%|          | 0/232 [00:00<?, ?it/s]"
            ]
          },
          "metadata": {},
          "output_type": "display_data"
        },
        {
          "name": "stdout",
          "output_type": "stream",
          "text": [
            "Epoch 34: Train Loss=0.3485, Train Acc=0.8581, Val Loss=0.3807, Val Acc=0.8355\n"
          ]
        },
        {
          "data": {
            "application/vnd.jupyter.widget-view+json": {
              "model_id": "1da3f4195c214e6dbc638685763c9cef",
              "version_major": 2,
              "version_minor": 0
            },
            "text/plain": [
              "Epoch 35/50 Batches:   0%|          | 0/232 [00:00<?, ?it/s]"
            ]
          },
          "metadata": {},
          "output_type": "display_data"
        },
        {
          "name": "stdout",
          "output_type": "stream",
          "text": [
            "Epoch 35: Train Loss=0.3566, Train Acc=0.8484, Val Loss=0.3395, Val Acc=0.8442\n"
          ]
        },
        {
          "data": {
            "application/vnd.jupyter.widget-view+json": {
              "model_id": "926f34ba01cf4a30acf218722b54e02a",
              "version_major": 2,
              "version_minor": 0
            },
            "text/plain": [
              "Epoch 36/50 Batches:   0%|          | 0/232 [00:00<?, ?it/s]"
            ]
          },
          "metadata": {},
          "output_type": "display_data"
        },
        {
          "name": "stdout",
          "output_type": "stream",
          "text": [
            "Epoch 36: Train Loss=0.3658, Train Acc=0.8474, Val Loss=0.3700, Val Acc=0.8485\n"
          ]
        },
        {
          "data": {
            "application/vnd.jupyter.widget-view+json": {
              "model_id": "71f7340f45f947ebba0cd62f2a64d54d",
              "version_major": 2,
              "version_minor": 0
            },
            "text/plain": [
              "Epoch 37/50 Batches:   0%|          | 0/232 [00:00<?, ?it/s]"
            ]
          },
          "metadata": {},
          "output_type": "display_data"
        },
        {
          "name": "stdout",
          "output_type": "stream",
          "text": [
            "Epoch 37: Train Loss=0.3520, Train Acc=0.8549, Val Loss=0.4147, Val Acc=0.8139\n"
          ]
        },
        {
          "data": {
            "application/vnd.jupyter.widget-view+json": {
              "model_id": "939b9f8301374570af60b04e1a8ae27f",
              "version_major": 2,
              "version_minor": 0
            },
            "text/plain": [
              "Epoch 38/50 Batches:   0%|          | 0/232 [00:00<?, ?it/s]"
            ]
          },
          "metadata": {},
          "output_type": "display_data"
        },
        {
          "name": "stdout",
          "output_type": "stream",
          "text": [
            "Epoch 38: Train Loss=0.3365, Train Acc=0.8581, Val Loss=0.3578, Val Acc=0.8268\n"
          ]
        },
        {
          "data": {
            "application/vnd.jupyter.widget-view+json": {
              "model_id": "e3f70383a3a741b8bfb860a86252e33b",
              "version_major": 2,
              "version_minor": 0
            },
            "text/plain": [
              "Epoch 39/50 Batches:   0%|          | 0/232 [00:00<?, ?it/s]"
            ]
          },
          "metadata": {},
          "output_type": "display_data"
        },
        {
          "name": "stdout",
          "output_type": "stream",
          "text": [
            "Epoch 39: Train Loss=0.3403, Train Acc=0.8630, Val Loss=0.3868, Val Acc=0.8485\n"
          ]
        },
        {
          "data": {
            "application/vnd.jupyter.widget-view+json": {
              "model_id": "4219885e6cc547f6b63e13978589e40e",
              "version_major": 2,
              "version_minor": 0
            },
            "text/plain": [
              "Epoch 40/50 Batches:   0%|          | 0/232 [00:00<?, ?it/s]"
            ]
          },
          "metadata": {},
          "output_type": "display_data"
        },
        {
          "name": "stdout",
          "output_type": "stream",
          "text": [
            "Epoch 40: Train Loss=0.3395, Train Acc=0.8635, Val Loss=0.3637, Val Acc=0.8528\n"
          ]
        },
        {
          "data": {
            "application/vnd.jupyter.widget-view+json": {
              "model_id": "e8ca1fd8ce9b4ac4b7d9698679ef1c4c",
              "version_major": 2,
              "version_minor": 0
            },
            "text/plain": [
              "Epoch 41/50 Batches:   0%|          | 0/232 [00:00<?, ?it/s]"
            ]
          },
          "metadata": {},
          "output_type": "display_data"
        },
        {
          "name": "stdout",
          "output_type": "stream",
          "text": [
            "Epoch 41: Train Loss=0.3568, Train Acc=0.8560, Val Loss=0.3356, Val Acc=0.8701\n"
          ]
        },
        {
          "data": {
            "application/vnd.jupyter.widget-view+json": {
              "model_id": "7a158554876943a3a4770796db3265bd",
              "version_major": 2,
              "version_minor": 0
            },
            "text/plain": [
              "Epoch 42/50 Batches:   0%|          | 0/232 [00:00<?, ?it/s]"
            ]
          },
          "metadata": {},
          "output_type": "display_data"
        },
        {
          "name": "stdout",
          "output_type": "stream",
          "text": [
            "Epoch 42: Train Loss=0.3388, Train Acc=0.8662, Val Loss=0.3852, Val Acc=0.8398\n"
          ]
        },
        {
          "data": {
            "application/vnd.jupyter.widget-view+json": {
              "model_id": "106a6a65fd76460ba5643d4bf6546ed7",
              "version_major": 2,
              "version_minor": 0
            },
            "text/plain": [
              "Epoch 43/50 Batches:   0%|          | 0/232 [00:00<?, ?it/s]"
            ]
          },
          "metadata": {},
          "output_type": "display_data"
        },
        {
          "name": "stdout",
          "output_type": "stream",
          "text": [
            "Epoch 43: Train Loss=0.3519, Train Acc=0.8522, Val Loss=0.3799, Val Acc=0.8355\n"
          ]
        },
        {
          "data": {
            "application/vnd.jupyter.widget-view+json": {
              "model_id": "05fed043ce2e47ea87fbb7439a3a2358",
              "version_major": 2,
              "version_minor": 0
            },
            "text/plain": [
              "Epoch 44/50 Batches:   0%|          | 0/232 [00:00<?, ?it/s]"
            ]
          },
          "metadata": {},
          "output_type": "display_data"
        },
        {
          "name": "stdout",
          "output_type": "stream",
          "text": [
            "Epoch 44: Train Loss=0.3363, Train Acc=0.8727, Val Loss=0.3417, Val Acc=0.8442\n"
          ]
        },
        {
          "data": {
            "application/vnd.jupyter.widget-view+json": {
              "model_id": "b9f01f876f7e4968aa0b09ea7276d278",
              "version_major": 2,
              "version_minor": 0
            },
            "text/plain": [
              "Epoch 45/50 Batches:   0%|          | 0/232 [00:00<?, ?it/s]"
            ]
          },
          "metadata": {},
          "output_type": "display_data"
        },
        {
          "name": "stdout",
          "output_type": "stream",
          "text": [
            "Epoch 45: Train Loss=0.3320, Train Acc=0.8706, Val Loss=0.3545, Val Acc=0.8701\n"
          ]
        },
        {
          "data": {
            "application/vnd.jupyter.widget-view+json": {
              "model_id": "41fb9057abfa432cbda8aa9bf2d017b5",
              "version_major": 2,
              "version_minor": 0
            },
            "text/plain": [
              "Epoch 46/50 Batches:   0%|          | 0/232 [00:00<?, ?it/s]"
            ]
          },
          "metadata": {},
          "output_type": "display_data"
        },
        {
          "name": "stdout",
          "output_type": "stream",
          "text": [
            "Epoch 46: Train Loss=0.3245, Train Acc=0.8689, Val Loss=0.3474, Val Acc=0.8485\n"
          ]
        },
        {
          "data": {
            "application/vnd.jupyter.widget-view+json": {
              "model_id": "f57b2839da5b410e9409712866cc32a1",
              "version_major": 2,
              "version_minor": 0
            },
            "text/plain": [
              "Epoch 47/50 Batches:   0%|          | 0/232 [00:00<?, ?it/s]"
            ]
          },
          "metadata": {},
          "output_type": "display_data"
        },
        {
          "name": "stdout",
          "output_type": "stream",
          "text": [
            "Epoch 47: Train Loss=0.3359, Train Acc=0.8592, Val Loss=0.3896, Val Acc=0.8182\n"
          ]
        },
        {
          "data": {
            "application/vnd.jupyter.widget-view+json": {
              "model_id": "199c722e226d4bbdb3b1d9c80dc7edac",
              "version_major": 2,
              "version_minor": 0
            },
            "text/plain": [
              "Epoch 48/50 Batches:   0%|          | 0/232 [00:00<?, ?it/s]"
            ]
          },
          "metadata": {},
          "output_type": "display_data"
        },
        {
          "name": "stdout",
          "output_type": "stream",
          "text": [
            "Epoch 48: Train Loss=0.3455, Train Acc=0.8603, Val Loss=0.3689, Val Acc=0.8442\n"
          ]
        },
        {
          "data": {
            "application/vnd.jupyter.widget-view+json": {
              "model_id": "af39c321711844abb44a3a06148f84d5",
              "version_major": 2,
              "version_minor": 0
            },
            "text/plain": [
              "Epoch 49/50 Batches:   0%|          | 0/232 [00:00<?, ?it/s]"
            ]
          },
          "metadata": {},
          "output_type": "display_data"
        },
        {
          "name": "stdout",
          "output_type": "stream",
          "text": [
            "Epoch 49: Train Loss=0.3385, Train Acc=0.8668, Val Loss=0.3635, Val Acc=0.8398\n"
          ]
        },
        {
          "data": {
            "application/vnd.jupyter.widget-view+json": {
              "model_id": "bbe636b4c016488fabfd7b0beba2c727",
              "version_major": 2,
              "version_minor": 0
            },
            "text/plain": [
              "Epoch 50/50 Batches:   0%|          | 0/232 [00:00<?, ?it/s]"
            ]
          },
          "metadata": {},
          "output_type": "display_data"
        },
        {
          "name": "stdout",
          "output_type": "stream",
          "text": [
            "Epoch 50: Train Loss=0.3360, Train Acc=0.8598, Val Loss=0.3554, Val Acc=0.8225\n",
            "Model Training Completed.\n",
            "Training History:\n"
          ]
        },
        {
          "data": {
            "image/png": "[encoded data removed]",
            "text/plain": [
              "<Figure size 1200x500 with 2 Axes>"
            ]
          },
          "metadata": {},
          "output_type": "display_data"
        }
      ],
      "source": [
        "# Training vit\n",
        "print(\"Training ViT...\")\n",
        "vit_model = get_model(\"vit\", num_classes)\n",
        "criterion = nn.CrossEntropyLoss()\n",
        "optimizer = optim.Adam(vit_model.parameters(), lr=0.001, weight_decay=1e-4)\n",
        "scheduler = optim.lr_scheduler.ReduceLROnPlateau(optimizer, mode='min', factor=0.1, patience=3)\n",
        "writer = SummaryWriter(log_dir=f\"runs/vit\")\n",
        "vit_model, vit_history = train_model(\n",
        "    vit_model, criterion, optimizer, scheduler,\n",
        "    train_loader, val_loader, writer, num_epochs=50, model_name=\"vit\"\n",
        ")\n",
        "print(\"Model Training Completed.\")\n",
        "print(\"Training History:\")\n",
        "plot_curves(vit_history, \"ViT\")"
      ]
    },
    {
      "cell_type": "code",
      "execution_count": 44,
      "id": "7a2bdd98",
      "metadata": {},
      "outputs": [
        {
          "name": "stdout",
          "output_type": "stream",
          "text": [
            "Evaluating ViT on Test Set:\n",
            "ViT Test Accuracy: 0.8584\n",
            "ViT Test Precision: 0.8624\n",
            "ViT Test Recall: 0.8553\n",
            "ViT Test F1-Score: 0.8569\n",
            "Classification Report:\n",
            "              precision    recall  f1-score   support\n",
            "\n",
            "          no       0.89      0.80      0.84       110\n",
            "         yes       0.84      0.91      0.87       123\n",
            "\n",
            "    accuracy                           0.86       233\n",
            "   macro avg       0.86      0.86      0.86       233\n",
            "weighted avg       0.86      0.86      0.86       233\n",
            "\n"
          ]
        },
        {
          "data": {
            "image/png": "[encoded data removed]",
            "text/plain": [
              "<Figure size 600x500 with 2 Axes>"
            ]
          },
          "metadata": {},
          "output_type": "display_data"
        }
      ],
      "source": [
        "# Evaluating ViT\n",
        "print(\"Evaluating ViT on Test Set:\")\n",
        "accuracy, precision, recall, f1 = evaluate_model(vit_model, test_loader, \"ViT\")\n",
        "results[\"Model\"].append(\"ViT\")\n",
        "results[\"Accuracy\"].append(accuracy)\n",
        "results[\"Precision\"].append(precision)\n",
        "results[\"Recall\"].append(recall)\n",
        "results[\"F1-Score\"].append(f1)"
      ]
    },
    {
      "cell_type": "code",
      "execution_count": 45,
      "id": "535f260f",
      "metadata": {},
      "outputs": [],
      "source": [
        "# Save the trained model\n",
        "torch.save(vit_model.state_dict(), \"saved_models/vit_model.pth\")"
      ]
    },
    {
      "cell_type": "code",
      "execution_count": 46,
      "id": "fd743849",
      "metadata": {},
      "outputs": [],
      "source": [
        "# Clear GPU memory\n",
        "torch.cuda.empty_cache()"
      ]
    },
    {
      "cell_type": "markdown",
      "id": "e14a03af",
      "metadata": {},
      "source": [
        "### **Evaluation Summary**"
      ]
    },
    {
      "cell_type": "code",
      "execution_count": 47,
      "id": "b1729676",
      "metadata": {},
      "outputs": [
        {
          "name": "stdout",
          "output_type": "stream",
          "text": [
            "Evaluation Summary:\n"
          ]
        },
        {
          "data": {
            "text/html": [
              "<div>\n",
              "<style scoped>\n",
              "    .dataframe tbody tr th:only-of-type {\n",
              "        vertical-align: middle;\n",
              "    }\n",
              "\n",
              "    .dataframe tbody tr th {\n",
              "        vertical-align: top;\n",
              "    }\n",
              "\n",
              "    .dataframe thead th {\n",
              "        text-align: right;\n",
              "    }\n",
              "</style>\n",
              "<table border=\"1\" class=\"dataframe\">\n",
              "  <thead>\n",
              "    <tr style=\"text-align: right;\">\n",
              "      <th></th>\n",
              "      <th>Model</th>\n",
              "      <th>Accuracy</th>\n",
              "      <th>Precision</th>\n",
              "      <th>Recall</th>\n",
              "      <th>F1-Score</th>\n",
              "    </tr>\n",
              "  </thead>\n",
              "  <tbody>\n",
              "    <tr>\n",
              "      <th>0</th>\n",
              "      <td>Mobilenet</td>\n",
              "      <td>0.995708</td>\n",
              "      <td>0.995968</td>\n",
              "      <td>0.995455</td>\n",
              "      <td>0.995693</td>\n",
              "    </tr>\n",
              "    <tr>\n",
              "      <th>1</th>\n",
              "      <td>VGG19</td>\n",
              "      <td>0.995708</td>\n",
              "      <td>0.995495</td>\n",
              "      <td>0.995935</td>\n",
              "      <td>0.995697</td>\n",
              "    </tr>\n",
              "    <tr>\n",
              "      <th>2</th>\n",
              "      <td>Densenet</td>\n",
              "      <td>0.991416</td>\n",
              "      <td>0.991071</td>\n",
              "      <td>0.991870</td>\n",
              "      <td>0.991397</td>\n",
              "    </tr>\n",
              "    <tr>\n",
              "      <th>3</th>\n",
              "      <td>Resnet</td>\n",
              "      <td>0.982833</td>\n",
              "      <td>0.982456</td>\n",
              "      <td>0.983740</td>\n",
              "      <td>0.982807</td>\n",
              "    </tr>\n",
              "    <tr>\n",
              "      <th>4</th>\n",
              "      <td>ViT</td>\n",
              "      <td>0.858369</td>\n",
              "      <td>0.862355</td>\n",
              "      <td>0.855285</td>\n",
              "      <td>0.856850</td>\n",
              "    </tr>\n",
              "  </tbody>\n",
              "</table>\n",
              "</div>"
            ],
            "text/plain": [
              "       Model  Accuracy  Precision    Recall  F1-Score\n",
              "0  Mobilenet  0.995708   0.995968  0.995455  0.995693\n",
              "1      VGG19  0.995708   0.995495  0.995935  0.995697\n",
              "2   Densenet  0.991416   0.991071  0.991870  0.991397\n",
              "3     Resnet  0.982833   0.982456  0.983740  0.982807\n",
              "4        ViT  0.858369   0.862355  0.855285  0.856850"
            ]
          },
          "execution_count": 47,
          "metadata": {},
          "output_type": "execute_result"
        }
      ],
      "source": [
        "results_df = pd.DataFrame(results)\n",
        "print(\"Evaluation Summary:\")\n",
        "results_df"
      ]
    },
    {
      "cell_type": "code",
      "execution_count": 48,
      "id": "65d516a2",
      "metadata": {},
      "outputs": [],
      "source": [
        "# Save the summay results to a CSV file\n",
        "results_df.to_csv(\"results/model_evaluation_summary.csv\", index=False)"
      ]
    }
  ],
  "metadata": {
    "accelerator": "GPU",
    "colab": {
      "gpuType": "T4",
      "provenance": []
    },
    "kernelspec": {
      "display_name": "exp",
      "language": "python",
      "name": "python3"
    },
    "language_info": {
      "codemirror_mode": {
        "name": "ipython",
        "version": 3
      },
      "file_extension": ".py",
      "mimetype": "text/x-python",
      "name": "python",
      "nbconvert_exporter": "python",
      "pygments_lexer": "ipython3",
      "version": "3.12.9"
    },
    "widgets": {
      "application/vnd.jupyter.widget-state+json": {
        "004c86fcc88c4961be522e5f10953809": {
          "model_module": "@jupyter-widgets/controls",
          "model_module_version": "1.5.0",
          "model_name": "DescriptionStyleModel",
          "state": {
            "_model_module": "@jupyter-widgets/controls",
            "_model_module_version": "1.5.0",
            "_model_name": "DescriptionStyleModel",
            "_view_count": null,
            "_view_module": "@jupyter-widgets/base",
            "_view_module_version": "1.2.0",
            "_view_name": "StyleView",
            "description_width": ""
          }
        },
        "00e2fce032994f15a10c3ee84d3517d3": {
          "model_module": "@jupyter-widgets/controls",
          "model_module_version": "1.5.0",
          "model_name": "FloatProgressModel",
          "state": {
            "_dom_classes": [],
            "_model_module": "@jupyter-widgets/controls",
            "_model_module_version": "1.5.0",
            "_model_name": "FloatProgressModel",
            "_view_count": null,
            "_view_module": "@jupyter-widgets/controls",
            "_view_module_version": "1.5.0",
            "_view_name": "ProgressView",
            "bar_style": "",
            "description": "",
            "description_tooltip": null,
            "layout": "IPY_MODEL_6392c76a76c645d2ac3713fec359737a",
            "max": 116,
            "min": 0,
            "orientation": "horizontal",
            "style": "IPY_MODEL_26e12fe66bed411996eec34c35b1d21e",
            "value": 116
          }
        },
        "01e3118d0c014aad9ec38c33ca4a0c73": {
          "model_module": "@jupyter-widgets/controls",
          "model_module_version": "1.5.0",
          "model_name": "HTMLModel",
          "state": {
            "_dom_classes": [],
            "_model_module": "@jupyter-widgets/controls",
            "_model_module_version": "1.5.0",
            "_model_name": "HTMLModel",
            "_view_count": null,
            "_view_module": "@jupyter-widgets/controls",
            "_view_module_version": "1.5.0",
            "_view_name": "HTMLView",
            "description": "",
            "description_tooltip": null,
            "layout": "IPY_MODEL_61899f61700843cb8f69cf86cc0ff1fe",
            "placeholder": "​",
            "style": "IPY_MODEL_2f06daae7e844aa6b816ceaf141cd082",
            "value": " 116/116 [00:51&lt;00:00,  2.26it/s]"
          }
        },
        "03591721526545c49fd8e2645d092a51": {
          "model_module": "@jupyter-widgets/base",
          "model_module_version": "1.2.0",
          "model_name": "LayoutModel",
          "state": {
            "_model_module": "@jupyter-widgets/base",
            "_model_module_version": "1.2.0",
            "_model_name": "LayoutModel",
            "_view_count": null,
            "_view_module": "@jupyter-widgets/base",
            "_view_module_version": "1.2.0",
            "_view_name": "LayoutView",
            "align_content": null,
            "align_items": null,
            "align_self": null,
            "border": null,
            "bottom": null,
            "display": null,
            "flex": null,
            "flex_flow": null,
            "grid_area": null,
            "grid_auto_columns": null,
            "grid_auto_flow": null,
            "grid_auto_rows": null,
            "grid_column": null,
            "grid_gap": null,
            "grid_row": null,
            "grid_template_areas": null,
            "grid_template_columns": null,
            "grid_template_rows": null,
            "height": null,
            "justify_content": null,
            "justify_items": null,
            "left": null,
            "margin": null,
            "max_height": null,
            "max_width": null,
            "min_height": null,
            "min_width": null,
            "object_fit": null,
            "object_position": null,
            "order": null,
            "overflow": null,
            "overflow_x": null,
            "overflow_y": null,
            "padding": null,
            "right": null,
            "top": null,
            "visibility": "hidden",
            "width": null
          }
        },
        "044367e42e714cb29c433b9f1a7f11ee": {
          "model_module": "@jupyter-widgets/controls",
          "model_module_version": "1.5.0",
          "model_name": "HBoxModel",
          "state": {
            "_dom_classes": [],
            "_model_module": "@jupyter-widgets/controls",
            "_model_module_version": "1.5.0",
            "_model_name": "HBoxModel",
            "_view_count": null,
            "_view_module": "@jupyter-widgets/controls",
            "_view_module_version": "1.5.0",
            "_view_name": "HBoxView",
            "box_style": "",
            "children": [
              "IPY_MODEL_523ead4e02e9481f806484ecb6b92eb2",
              "IPY_MODEL_7a6f6eee0847450288c01f10c45f21c1",
              "IPY_MODEL_6b775e05e8ad45b184abf128c40a2c64"
            ],
            "layout": "IPY_MODEL_6ff779a5116049cdb30e2f2738e2c44a"
          }
        },
        "04c63a5546564f38a567858a5f7e511e": {
          "model_module": "@jupyter-widgets/base",
          "model_module_version": "1.2.0",
          "model_name": "LayoutModel",
          "state": {
            "_model_module": "@jupyter-widgets/base",
            "_model_module_version": "1.2.0",
            "_model_name": "LayoutModel",
            "_view_count": null,
            "_view_module": "@jupyter-widgets/base",
            "_view_module_version": "1.2.0",
            "_view_name": "LayoutView",
            "align_content": null,
            "align_items": null,
            "align_self": null,
            "border": null,
            "bottom": null,
            "display": null,
            "flex": null,
            "flex_flow": null,
            "grid_area": null,
            "grid_auto_columns": null,
            "grid_auto_flow": null,
            "grid_auto_rows": null,
            "grid_column": null,
            "grid_gap": null,
            "grid_row": null,
            "grid_template_areas": null,
            "grid_template_columns": null,
            "grid_template_rows": null,
            "height": null,
            "justify_content": null,
            "justify_items": null,
            "left": null,
            "margin": null,
            "max_height": null,
            "max_width": null,
            "min_height": null,
            "min_width": null,
            "object_fit": null,
            "object_position": null,
            "order": null,
            "overflow": null,
            "overflow_x": null,
            "overflow_y": null,
            "padding": null,
            "right": null,
            "top": null,
            "visibility": null,
            "width": null
          }
        },
        "04ff2a49989f45ea9066dcf209022ae4": {
          "model_module": "@jupyter-widgets/controls",
          "model_module_version": "1.5.0",
          "model_name": "HTMLModel",
          "state": {
            "_dom_classes": [],
            "_model_module": "@jupyter-widgets/controls",
            "_model_module_version": "1.5.0",
            "_model_name": "HTMLModel",
            "_view_count": null,
            "_view_module": "@jupyter-widgets/controls",
            "_view_module_version": "1.5.0",
            "_view_name": "HTMLView",
            "description": "",
            "description_tooltip": null,
            "layout": "IPY_MODEL_20c3c6868ff247d0a196f051b1a8c593",
            "placeholder": "​",
            "style": "IPY_MODEL_9b15a61ce40747af9e9fa668f489847e",
            "value": " 116/116 [00:52&lt;00:00,  2.15it/s]"
          }
        },
        "05342798bdcb420eaed051dc3f570c93": {
          "model_module": "@jupyter-widgets/base",
          "model_module_version": "1.2.0",
          "model_name": "LayoutModel",
          "state": {
            "_model_module": "@jupyter-widgets/base",
            "_model_module_version": "1.2.0",
            "_model_name": "LayoutModel",
            "_view_count": null,
            "_view_module": "@jupyter-widgets/base",
            "_view_module_version": "1.2.0",
            "_view_name": "LayoutView",
            "align_content": null,
            "align_items": null,
            "align_self": null,
            "border": null,
            "bottom": null,
            "display": null,
            "flex": null,
            "flex_flow": null,
            "grid_area": null,
            "grid_auto_columns": null,
            "grid_auto_flow": null,
            "grid_auto_rows": null,
            "grid_column": null,
            "grid_gap": null,
            "grid_row": null,
            "grid_template_areas": null,
            "grid_template_columns": null,
            "grid_template_rows": null,
            "height": null,
            "justify_content": null,
            "justify_items": null,
            "left": null,
            "margin": null,
            "max_height": null,
            "max_width": null,
            "min_height": null,
            "min_width": null,
            "object_fit": null,
            "object_position": null,
            "order": null,
            "overflow": null,
            "overflow_x": null,
            "overflow_y": null,
            "padding": null,
            "right": null,
            "top": null,
            "visibility": "hidden",
            "width": null
          }
        },
        "07e9deacc4ad45e4877d4087961f1b60": {
          "model_module": "@jupyter-widgets/base",
          "model_module_version": "1.2.0",
          "model_name": "LayoutModel",
          "state": {
            "_model_module": "@jupyter-widgets/base",
            "_model_module_version": "1.2.0",
            "_model_name": "LayoutModel",
            "_view_count": null,
            "_view_module": "@jupyter-widgets/base",
            "_view_module_version": "1.2.0",
            "_view_name": "LayoutView",
            "align_content": null,
            "align_items": null,
            "align_self": null,
            "border": null,
            "bottom": null,
            "display": null,
            "flex": null,
            "flex_flow": null,
            "grid_area": null,
            "grid_auto_columns": null,
            "grid_auto_flow": null,
            "grid_auto_rows": null,
            "grid_column": null,
            "grid_gap": null,
            "grid_row": null,
            "grid_template_areas": null,
            "grid_template_columns": null,
            "grid_template_rows": null,
            "height": null,
            "justify_content": null,
            "justify_items": null,
            "left": null,
            "margin": null,
            "max_height": null,
            "max_width": null,
            "min_height": null,
            "min_width": null,
            "object_fit": null,
            "object_position": null,
            "order": null,
            "overflow": null,
            "overflow_x": null,
            "overflow_y": null,
            "padding": null,
            "right": null,
            "top": null,
            "visibility": null,
            "width": null
          }
        },
        "0960965738504a0a8ddcfb74c3de1e56": {
          "model_module": "@jupyter-widgets/controls",
          "model_module_version": "1.5.0",
          "model_name": "DescriptionStyleModel",
          "state": {
            "_model_module": "@jupyter-widgets/controls",
            "_model_module_version": "1.5.0",
            "_model_name": "DescriptionStyleModel",
            "_view_count": null,
            "_view_module": "@jupyter-widgets/base",
            "_view_module_version": "1.2.0",
            "_view_name": "StyleView",
            "description_width": ""
          }
        },
        "0b9c5d45a75244218f797d92e22f6328": {
          "model_module": "@jupyter-widgets/controls",
          "model_module_version": "1.5.0",
          "model_name": "HBoxModel",
          "state": {
            "_dom_classes": [],
            "_model_module": "@jupyter-widgets/controls",
            "_model_module_version": "1.5.0",
            "_model_name": "HBoxModel",
            "_view_count": null,
            "_view_module": "@jupyter-widgets/controls",
            "_view_module_version": "1.5.0",
            "_view_name": "HBoxView",
            "box_style": "",
            "children": [
              "IPY_MODEL_3511e0692bb34102b6f877aa4ba043bf",
              "IPY_MODEL_0e6958341e704db2ae81d7af3fbd56c9",
              "IPY_MODEL_7397888edc59452cbabfcb754c7bc867"
            ],
            "layout": "IPY_MODEL_ce08190ba5534aa1b8b150e48f666823"
          }
        },
        "0d793cbed85b41d9acbdec64a6ce7928": {
          "model_module": "@jupyter-widgets/controls",
          "model_module_version": "1.5.0",
          "model_name": "ProgressStyleModel",
          "state": {
            "_model_module": "@jupyter-widgets/controls",
            "_model_module_version": "1.5.0",
            "_model_name": "ProgressStyleModel",
            "_view_count": null,
            "_view_module": "@jupyter-widgets/base",
            "_view_module_version": "1.2.0",
            "_view_name": "StyleView",
            "bar_color": null,
            "description_width": ""
          }
        },
        "0e226e6d9e8d48be8082c6fc9d6513a1": {
          "model_module": "@jupyter-widgets/controls",
          "model_module_version": "1.5.0",
          "model_name": "FloatProgressModel",
          "state": {
            "_dom_classes": [],
            "_model_module": "@jupyter-widgets/controls",
            "_model_module_version": "1.5.0",
            "_model_name": "FloatProgressModel",
            "_view_count": null,
            "_view_module": "@jupyter-widgets/controls",
            "_view_module_version": "1.5.0",
            "_view_name": "ProgressView",
            "bar_style": "",
            "description": "",
            "description_tooltip": null,
            "layout": "IPY_MODEL_f0618c32eb3f439690a5d9fe523f870b",
            "max": 116,
            "min": 0,
            "orientation": "horizontal",
            "style": "IPY_MODEL_ada4616bbb314b3389b59b2141b2ab80",
            "value": 116
          }
        },
        "0e5f74f5db6d43079ab574e0a6a3ccfe": {
          "model_module": "@jupyter-widgets/controls",
          "model_module_version": "1.5.0",
          "model_name": "HTMLModel",
          "state": {
            "_dom_classes": [],
            "_model_module": "@jupyter-widgets/controls",
            "_model_module_version": "1.5.0",
            "_model_name": "HTMLModel",
            "_view_count": null,
            "_view_module": "@jupyter-widgets/controls",
            "_view_module_version": "1.5.0",
            "_view_name": "HTMLView",
            "description": "",
            "description_tooltip": null,
            "layout": "IPY_MODEL_c46f1266dae4446da66ba468ec5dd19e",
            "placeholder": "​",
            "style": "IPY_MODEL_dc22ada2e8da4fad8e7806e3561b191f",
            "value": "Epoch 11/50 Batches: 100%"
          }
        },
        "0e6958341e704db2ae81d7af3fbd56c9": {
          "model_module": "@jupyter-widgets/controls",
          "model_module_version": "1.5.0",
          "model_name": "FloatProgressModel",
          "state": {
            "_dom_classes": [],
            "_model_module": "@jupyter-widgets/controls",
            "_model_module_version": "1.5.0",
            "_model_name": "FloatProgressModel",
            "_view_count": null,
            "_view_module": "@jupyter-widgets/controls",
            "_view_module_version": "1.5.0",
            "_view_name": "ProgressView",
            "bar_style": "",
            "description": "",
            "description_tooltip": null,
            "layout": "IPY_MODEL_ffabc938c4974b1792ed029bb6ffa8e5",
            "max": 116,
            "min": 0,
            "orientation": "horizontal",
            "style": "IPY_MODEL_fddd2212f9bd48bd874743b9576815f5",
            "value": 116
          }
        },
        "0f767712a9c84f749b8ad5d58adfefe1": {
          "model_module": "@jupyter-widgets/controls",
          "model_module_version": "1.5.0",
          "model_name": "HTMLModel",
          "state": {
            "_dom_classes": [],
            "_model_module": "@jupyter-widgets/controls",
            "_model_module_version": "1.5.0",
            "_model_name": "HTMLModel",
            "_view_count": null,
            "_view_module": "@jupyter-widgets/controls",
            "_view_module_version": "1.5.0",
            "_view_name": "HTMLView",
            "description": "",
            "description_tooltip": null,
            "layout": "IPY_MODEL_e31135d71af74c3ea1cd0a991e5dc29c",
            "placeholder": "​",
            "style": "IPY_MODEL_3314e1697aa742dc8a7b7191ab1da4d8",
            "value": "Epoch 10/50 Batches: 100%"
          }
        },
        "12a729033b0149718c6f5a5b141b72f5": {
          "model_module": "@jupyter-widgets/controls",
          "model_module_version": "1.5.0",
          "model_name": "DescriptionStyleModel",
          "state": {
            "_model_module": "@jupyter-widgets/controls",
            "_model_module_version": "1.5.0",
            "_model_name": "DescriptionStyleModel",
            "_view_count": null,
            "_view_module": "@jupyter-widgets/base",
            "_view_module_version": "1.2.0",
            "_view_name": "StyleView",
            "description_width": ""
          }
        },
        "12d957e7aaa44dd6bb09f00bc75522af": {
          "model_module": "@jupyter-widgets/controls",
          "model_module_version": "1.5.0",
          "model_name": "HTMLModel",
          "state": {
            "_dom_classes": [],
            "_model_module": "@jupyter-widgets/controls",
            "_model_module_version": "1.5.0",
            "_model_name": "HTMLModel",
            "_view_count": null,
            "_view_module": "@jupyter-widgets/controls",
            "_view_module_version": "1.5.0",
            "_view_name": "HTMLView",
            "description": "",
            "description_tooltip": null,
            "layout": "IPY_MODEL_aab9d939e7d745099af7d39f40b29112",
            "placeholder": "​",
            "style": "IPY_MODEL_6a89131b7ace49d08998c368834ed585",
            "value": " 116/116 [00:51&lt;00:00,  2.24it/s]"
          }
        },
        "138fc1e2c0be43559ed06d237b73c98e": {
          "model_module": "@jupyter-widgets/controls",
          "model_module_version": "1.5.0",
          "model_name": "FloatProgressModel",
          "state": {
            "_dom_classes": [],
            "_model_module": "@jupyter-widgets/controls",
            "_model_module_version": "1.5.0",
            "_model_name": "FloatProgressModel",
            "_view_count": null,
            "_view_module": "@jupyter-widgets/controls",
            "_view_module_version": "1.5.0",
            "_view_name": "ProgressView",
            "bar_style": "",
            "description": "",
            "description_tooltip": null,
            "layout": "IPY_MODEL_24f701422230487c8c27644a2ec60a20",
            "max": 116,
            "min": 0,
            "orientation": "horizontal",
            "style": "IPY_MODEL_239e4828f8214b37bd6cee6c1756f1f6",
            "value": 116
          }
        },
        "142cbaa2953041a9a117a026db1c204c": {
          "model_module": "@jupyter-widgets/base",
          "model_module_version": "1.2.0",
          "model_name": "LayoutModel",
          "state": {
            "_model_module": "@jupyter-widgets/base",
            "_model_module_version": "1.2.0",
            "_model_name": "LayoutModel",
            "_view_count": null,
            "_view_module": "@jupyter-widgets/base",
            "_view_module_version": "1.2.0",
            "_view_name": "LayoutView",
            "align_content": null,
            "align_items": null,
            "align_self": null,
            "border": null,
            "bottom": null,
            "display": null,
            "flex": null,
            "flex_flow": null,
            "grid_area": null,
            "grid_auto_columns": null,
            "grid_auto_flow": null,
            "grid_auto_rows": null,
            "grid_column": null,
            "grid_gap": null,
            "grid_row": null,
            "grid_template_areas": null,
            "grid_template_columns": null,
            "grid_template_rows": null,
            "height": null,
            "justify_content": null,
            "justify_items": null,
            "left": null,
            "margin": null,
            "max_height": null,
            "max_width": null,
            "min_height": null,
            "min_width": null,
            "object_fit": null,
            "object_position": null,
            "order": null,
            "overflow": null,
            "overflow_x": null,
            "overflow_y": null,
            "padding": null,
            "right": null,
            "top": null,
            "visibility": null,
            "width": null
          }
        },
        "14fed32258244a8f8be9caecc3ee34ed": {
          "model_module": "@jupyter-widgets/controls",
          "model_module_version": "1.5.0",
          "model_name": "DescriptionStyleModel",
          "state": {
            "_model_module": "@jupyter-widgets/controls",
            "_model_module_version": "1.5.0",
            "_model_name": "DescriptionStyleModel",
            "_view_count": null,
            "_view_module": "@jupyter-widgets/base",
            "_view_module_version": "1.2.0",
            "_view_name": "StyleView",
            "description_width": ""
          }
        },
        "15f34fc96ae84587ba5a285d35dbee73": {
          "model_module": "@jupyter-widgets/controls",
          "model_module_version": "1.5.0",
          "model_name": "ProgressStyleModel",
          "state": {
            "_model_module": "@jupyter-widgets/controls",
            "_model_module_version": "1.5.0",
            "_model_name": "ProgressStyleModel",
            "_view_count": null,
            "_view_module": "@jupyter-widgets/base",
            "_view_module_version": "1.2.0",
            "_view_name": "StyleView",
            "bar_color": null,
            "description_width": ""
          }
        },
        "1a864089a6f44b23a765bbbe5b06d506": {
          "model_module": "@jupyter-widgets/controls",
          "model_module_version": "1.5.0",
          "model_name": "DescriptionStyleModel",
          "state": {
            "_model_module": "@jupyter-widgets/controls",
            "_model_module_version": "1.5.0",
            "_model_name": "DescriptionStyleModel",
            "_view_count": null,
            "_view_module": "@jupyter-widgets/base",
            "_view_module_version": "1.2.0",
            "_view_name": "StyleView",
            "description_width": ""
          }
        },
        "1ae1fcd553954985993e7af665327977": {
          "model_module": "@jupyter-widgets/base",
          "model_module_version": "1.2.0",
          "model_name": "LayoutModel",
          "state": {
            "_model_module": "@jupyter-widgets/base",
            "_model_module_version": "1.2.0",
            "_model_name": "LayoutModel",
            "_view_count": null,
            "_view_module": "@jupyter-widgets/base",
            "_view_module_version": "1.2.0",
            "_view_name": "LayoutView",
            "align_content": null,
            "align_items": null,
            "align_self": null,
            "border": null,
            "bottom": null,
            "display": null,
            "flex": null,
            "flex_flow": null,
            "grid_area": null,
            "grid_auto_columns": null,
            "grid_auto_flow": null,
            "grid_auto_rows": null,
            "grid_column": null,
            "grid_gap": null,
            "grid_row": null,
            "grid_template_areas": null,
            "grid_template_columns": null,
            "grid_template_rows": null,
            "height": null,
            "justify_content": null,
            "justify_items": null,
            "left": null,
            "margin": null,
            "max_height": null,
            "max_width": null,
            "min_height": null,
            "min_width": null,
            "object_fit": null,
            "object_position": null,
            "order": null,
            "overflow": null,
            "overflow_x": null,
            "overflow_y": null,
            "padding": null,
            "right": null,
            "top": null,
            "visibility": null,
            "width": null
          }
        },
        "1bcce90d916b4389a2be18d4c6e4db2c": {
          "model_module": "@jupyter-widgets/base",
          "model_module_version": "1.2.0",
          "model_name": "LayoutModel",
          "state": {
            "_model_module": "@jupyter-widgets/base",
            "_model_module_version": "1.2.0",
            "_model_name": "LayoutModel",
            "_view_count": null,
            "_view_module": "@jupyter-widgets/base",
            "_view_module_version": "1.2.0",
            "_view_name": "LayoutView",
            "align_content": null,
            "align_items": null,
            "align_self": null,
            "border": null,
            "bottom": null,
            "display": null,
            "flex": null,
            "flex_flow": null,
            "grid_area": null,
            "grid_auto_columns": null,
            "grid_auto_flow": null,
            "grid_auto_rows": null,
            "grid_column": null,
            "grid_gap": null,
            "grid_row": null,
            "grid_template_areas": null,
            "grid_template_columns": null,
            "grid_template_rows": null,
            "height": null,
            "justify_content": null,
            "justify_items": null,
            "left": null,
            "margin": null,
            "max_height": null,
            "max_width": null,
            "min_height": null,
            "min_width": null,
            "object_fit": null,
            "object_position": null,
            "order": null,
            "overflow": null,
            "overflow_x": null,
            "overflow_y": null,
            "padding": null,
            "right": null,
            "top": null,
            "visibility": null,
            "width": null
          }
        },
        "1c8508bd16d943779bf30121c3a89e92": {
          "model_module": "@jupyter-widgets/controls",
          "model_module_version": "1.5.0",
          "model_name": "FloatProgressModel",
          "state": {
            "_dom_classes": [],
            "_model_module": "@jupyter-widgets/controls",
            "_model_module_version": "1.5.0",
            "_model_name": "FloatProgressModel",
            "_view_count": null,
            "_view_module": "@jupyter-widgets/controls",
            "_view_module_version": "1.5.0",
            "_view_name": "ProgressView",
            "bar_style": "",
            "description": "",
            "description_tooltip": null,
            "layout": "IPY_MODEL_25e37b2a02d942fc81ac75df532c27bc",
            "max": 116,
            "min": 0,
            "orientation": "horizontal",
            "style": "IPY_MODEL_6f56e62ba55d4a56bd698f52f9649a59",
            "value": 116
          }
        },
        "1d46dc06519a4b75aa6a0180c076de27": {
          "model_module": "@jupyter-widgets/base",
          "model_module_version": "1.2.0",
          "model_name": "LayoutModel",
          "state": {
            "_model_module": "@jupyter-widgets/base",
            "_model_module_version": "1.2.0",
            "_model_name": "LayoutModel",
            "_view_count": null,
            "_view_module": "@jupyter-widgets/base",
            "_view_module_version": "1.2.0",
            "_view_name": "LayoutView",
            "align_content": null,
            "align_items": null,
            "align_self": null,
            "border": null,
            "bottom": null,
            "display": null,
            "flex": null,
            "flex_flow": null,
            "grid_area": null,
            "grid_auto_columns": null,
            "grid_auto_flow": null,
            "grid_auto_rows": null,
            "grid_column": null,
            "grid_gap": null,
            "grid_row": null,
            "grid_template_areas": null,
            "grid_template_columns": null,
            "grid_template_rows": null,
            "height": null,
            "justify_content": null,
            "justify_items": null,
            "left": null,
            "margin": null,
            "max_height": null,
            "max_width": null,
            "min_height": null,
            "min_width": null,
            "object_fit": null,
            "object_position": null,
            "order": null,
            "overflow": null,
            "overflow_x": null,
            "overflow_y": null,
            "padding": null,
            "right": null,
            "top": null,
            "visibility": null,
            "width": null
          }
        },
        "1dd84b8d8e854f11854d583595244bbb": {
          "model_module": "@jupyter-widgets/base",
          "model_module_version": "1.2.0",
          "model_name": "LayoutModel",
          "state": {
            "_model_module": "@jupyter-widgets/base",
            "_model_module_version": "1.2.0",
            "_model_name": "LayoutModel",
            "_view_count": null,
            "_view_module": "@jupyter-widgets/base",
            "_view_module_version": "1.2.0",
            "_view_name": "LayoutView",
            "align_content": null,
            "align_items": null,
            "align_self": null,
            "border": null,
            "bottom": null,
            "display": null,
            "flex": null,
            "flex_flow": null,
            "grid_area": null,
            "grid_auto_columns": null,
            "grid_auto_flow": null,
            "grid_auto_rows": null,
            "grid_column": null,
            "grid_gap": null,
            "grid_row": null,
            "grid_template_areas": null,
            "grid_template_columns": null,
            "grid_template_rows": null,
            "height": null,
            "justify_content": null,
            "justify_items": null,
            "left": null,
            "margin": null,
            "max_height": null,
            "max_width": null,
            "min_height": null,
            "min_width": null,
            "object_fit": null,
            "object_position": null,
            "order": null,
            "overflow": null,
            "overflow_x": null,
            "overflow_y": null,
            "padding": null,
            "right": null,
            "top": null,
            "visibility": null,
            "width": null
          }
        },
        "1e2b03ad792b4d3d9dab04080db45679": {
          "model_module": "@jupyter-widgets/controls",
          "model_module_version": "1.5.0",
          "model_name": "DescriptionStyleModel",
          "state": {
            "_model_module": "@jupyter-widgets/controls",
            "_model_module_version": "1.5.0",
            "_model_name": "DescriptionStyleModel",
            "_view_count": null,
            "_view_module": "@jupyter-widgets/base",
            "_view_module_version": "1.2.0",
            "_view_name": "StyleView",
            "description_width": ""
          }
        },
        "1f57a82b9b684d7290effff3c1746cee": {
          "model_module": "@jupyter-widgets/controls",
          "model_module_version": "1.5.0",
          "model_name": "DescriptionStyleModel",
          "state": {
            "_model_module": "@jupyter-widgets/controls",
            "_model_module_version": "1.5.0",
            "_model_name": "DescriptionStyleModel",
            "_view_count": null,
            "_view_module": "@jupyter-widgets/base",
            "_view_module_version": "1.2.0",
            "_view_name": "StyleView",
            "description_width": ""
          }
        },
        "20c3c6868ff247d0a196f051b1a8c593": {
          "model_module": "@jupyter-widgets/base",
          "model_module_version": "1.2.0",
          "model_name": "LayoutModel",
          "state": {
            "_model_module": "@jupyter-widgets/base",
            "_model_module_version": "1.2.0",
            "_model_name": "LayoutModel",
            "_view_count": null,
            "_view_module": "@jupyter-widgets/base",
            "_view_module_version": "1.2.0",
            "_view_name": "LayoutView",
            "align_content": null,
            "align_items": null,
            "align_self": null,
            "border": null,
            "bottom": null,
            "display": null,
            "flex": null,
            "flex_flow": null,
            "grid_area": null,
            "grid_auto_columns": null,
            "grid_auto_flow": null,
            "grid_auto_rows": null,
            "grid_column": null,
            "grid_gap": null,
            "grid_row": null,
            "grid_template_areas": null,
            "grid_template_columns": null,
            "grid_template_rows": null,
            "height": null,
            "justify_content": null,
            "justify_items": null,
            "left": null,
            "margin": null,
            "max_height": null,
            "max_width": null,
            "min_height": null,
            "min_width": null,
            "object_fit": null,
            "object_position": null,
            "order": null,
            "overflow": null,
            "overflow_x": null,
            "overflow_y": null,
            "padding": null,
            "right": null,
            "top": null,
            "visibility": null,
            "width": null
          }
        },
        "216e02db3b034e75b1519dd40be7856a": {
          "model_module": "@jupyter-widgets/controls",
          "model_module_version": "1.5.0",
          "model_name": "DescriptionStyleModel",
          "state": {
            "_model_module": "@jupyter-widgets/controls",
            "_model_module_version": "1.5.0",
            "_model_name": "DescriptionStyleModel",
            "_view_count": null,
            "_view_module": "@jupyter-widgets/base",
            "_view_module_version": "1.2.0",
            "_view_name": "StyleView",
            "description_width": ""
          }
        },
        "239e4828f8214b37bd6cee6c1756f1f6": {
          "model_module": "@jupyter-widgets/controls",
          "model_module_version": "1.5.0",
          "model_name": "ProgressStyleModel",
          "state": {
            "_model_module": "@jupyter-widgets/controls",
            "_model_module_version": "1.5.0",
            "_model_name": "ProgressStyleModel",
            "_view_count": null,
            "_view_module": "@jupyter-widgets/base",
            "_view_module_version": "1.2.0",
            "_view_name": "StyleView",
            "bar_color": null,
            "description_width": ""
          }
        },
        "24f701422230487c8c27644a2ec60a20": {
          "model_module": "@jupyter-widgets/base",
          "model_module_version": "1.2.0",
          "model_name": "LayoutModel",
          "state": {
            "_model_module": "@jupyter-widgets/base",
            "_model_module_version": "1.2.0",
            "_model_name": "LayoutModel",
            "_view_count": null,
            "_view_module": "@jupyter-widgets/base",
            "_view_module_version": "1.2.0",
            "_view_name": "LayoutView",
            "align_content": null,
            "align_items": null,
            "align_self": null,
            "border": null,
            "bottom": null,
            "display": null,
            "flex": null,
            "flex_flow": null,
            "grid_area": null,
            "grid_auto_columns": null,
            "grid_auto_flow": null,
            "grid_auto_rows": null,
            "grid_column": null,
            "grid_gap": null,
            "grid_row": null,
            "grid_template_areas": null,
            "grid_template_columns": null,
            "grid_template_rows": null,
            "height": null,
            "justify_content": null,
            "justify_items": null,
            "left": null,
            "margin": null,
            "max_height": null,
            "max_width": null,
            "min_height": null,
            "min_width": null,
            "object_fit": null,
            "object_position": null,
            "order": null,
            "overflow": null,
            "overflow_x": null,
            "overflow_y": null,
            "padding": null,
            "right": null,
            "top": null,
            "visibility": null,
            "width": null
          }
        },
        "25e37b2a02d942fc81ac75df532c27bc": {
          "model_module": "@jupyter-widgets/base",
          "model_module_version": "1.2.0",
          "model_name": "LayoutModel",
          "state": {
            "_model_module": "@jupyter-widgets/base",
            "_model_module_version": "1.2.0",
            "_model_name": "LayoutModel",
            "_view_count": null,
            "_view_module": "@jupyter-widgets/base",
            "_view_module_version": "1.2.0",
            "_view_name": "LayoutView",
            "align_content": null,
            "align_items": null,
            "align_self": null,
            "border": null,
            "bottom": null,
            "display": null,
            "flex": null,
            "flex_flow": null,
            "grid_area": null,
            "grid_auto_columns": null,
            "grid_auto_flow": null,
            "grid_auto_rows": null,
            "grid_column": null,
            "grid_gap": null,
            "grid_row": null,
            "grid_template_areas": null,
            "grid_template_columns": null,
            "grid_template_rows": null,
            "height": null,
            "justify_content": null,
            "justify_items": null,
            "left": null,
            "margin": null,
            "max_height": null,
            "max_width": null,
            "min_height": null,
            "min_width": null,
            "object_fit": null,
            "object_position": null,
            "order": null,
            "overflow": null,
            "overflow_x": null,
            "overflow_y": null,
            "padding": null,
            "right": null,
            "top": null,
            "visibility": null,
            "width": null
          }
        },
        "26e12fe66bed411996eec34c35b1d21e": {
          "model_module": "@jupyter-widgets/controls",
          "model_module_version": "1.5.0",
          "model_name": "ProgressStyleModel",
          "state": {
            "_model_module": "@jupyter-widgets/controls",
            "_model_module_version": "1.5.0",
            "_model_name": "ProgressStyleModel",
            "_view_count": null,
            "_view_module": "@jupyter-widgets/base",
            "_view_module_version": "1.2.0",
            "_view_name": "StyleView",
            "bar_color": null,
            "description_width": ""
          }
        },
        "276585e7c71b4b01801851714cec54b3": {
          "model_module": "@jupyter-widgets/controls",
          "model_module_version": "1.5.0",
          "model_name": "DescriptionStyleModel",
          "state": {
            "_model_module": "@jupyter-widgets/controls",
            "_model_module_version": "1.5.0",
            "_model_name": "DescriptionStyleModel",
            "_view_count": null,
            "_view_module": "@jupyter-widgets/base",
            "_view_module_version": "1.2.0",
            "_view_name": "StyleView",
            "description_width": ""
          }
        },
        "2771c0d52df943ae91ddd949797e340a": {
          "model_module": "@jupyter-widgets/controls",
          "model_module_version": "1.5.0",
          "model_name": "HTMLModel",
          "state": {
            "_dom_classes": [],
            "_model_module": "@jupyter-widgets/controls",
            "_model_module_version": "1.5.0",
            "_model_name": "HTMLModel",
            "_view_count": null,
            "_view_module": "@jupyter-widgets/controls",
            "_view_module_version": "1.5.0",
            "_view_name": "HTMLView",
            "description": "",
            "description_tooltip": null,
            "layout": "IPY_MODEL_8dbc479388e24459be23865712967fa6",
            "placeholder": "​",
            "style": "IPY_MODEL_78e41c9e5c4b4e648072a05a254dd261",
            "value": " 116/116 [00:51&lt;00:00,  2.16it/s]"
          }
        },
        "28f0621d4fa84652b5acdd81d5e6d678": {
          "model_module": "@jupyter-widgets/controls",
          "model_module_version": "1.5.0",
          "model_name": "HBoxModel",
          "state": {
            "_dom_classes": [],
            "_model_module": "@jupyter-widgets/controls",
            "_model_module_version": "1.5.0",
            "_model_name": "HBoxModel",
            "_view_count": null,
            "_view_module": "@jupyter-widgets/controls",
            "_view_module_version": "1.5.0",
            "_view_name": "HBoxView",
            "box_style": "",
            "children": [
              "IPY_MODEL_64f5c089921c489d88f7c4030e03ec17",
              "IPY_MODEL_0e226e6d9e8d48be8082c6fc9d6513a1",
              "IPY_MODEL_7acb671262b645d1b7be0409a22a84e7"
            ],
            "layout": "IPY_MODEL_d54d9d0a23f44a9293f1e143e0ba4b75"
          }
        },
        "2983b2df0913417f81504cc803514cac": {
          "model_module": "@jupyter-widgets/controls",
          "model_module_version": "1.5.0",
          "model_name": "HBoxModel",
          "state": {
            "_dom_classes": [],
            "_model_module": "@jupyter-widgets/controls",
            "_model_module_version": "1.5.0",
            "_model_name": "HBoxModel",
            "_view_count": null,
            "_view_module": "@jupyter-widgets/controls",
            "_view_module_version": "1.5.0",
            "_view_name": "HBoxView",
            "box_style": "",
            "children": [
              "IPY_MODEL_96693f35352c4a43b05efa937013ce87",
              "IPY_MODEL_3bb9997a590841da9d0e4c409f32b5cd",
              "IPY_MODEL_8aa2240130fe4935bba6521281fa2171"
            ],
            "layout": "IPY_MODEL_d538727791bc4376be8f71fb20043152"
          }
        },
        "29eca0832eee42a58882d61ad4ab9d53": {
          "model_module": "@jupyter-widgets/controls",
          "model_module_version": "1.5.0",
          "model_name": "HTMLModel",
          "state": {
            "_dom_classes": [],
            "_model_module": "@jupyter-widgets/controls",
            "_model_module_version": "1.5.0",
            "_model_name": "HTMLModel",
            "_view_count": null,
            "_view_module": "@jupyter-widgets/controls",
            "_view_module_version": "1.5.0",
            "_view_name": "HTMLView",
            "description": "",
            "description_tooltip": null,
            "layout": "IPY_MODEL_2ce7046ff57d41b582b24ec96fe6d6a4",
            "placeholder": "​",
            "style": "IPY_MODEL_3d75a96547664175bd86cc50c7dd8835",
            "value": " 107/116 [00:47&lt;00:04,  2.07it/s]"
          }
        },
        "2afca47c6ebb4c04b018fcebf2837330": {
          "model_module": "@jupyter-widgets/controls",
          "model_module_version": "1.5.0",
          "model_name": "HTMLModel",
          "state": {
            "_dom_classes": [],
            "_model_module": "@jupyter-widgets/controls",
            "_model_module_version": "1.5.0",
            "_model_name": "HTMLModel",
            "_view_count": null,
            "_view_module": "@jupyter-widgets/controls",
            "_view_module_version": "1.5.0",
            "_view_name": "HTMLView",
            "description": "",
            "description_tooltip": null,
            "layout": "IPY_MODEL_b42a8a6340474536bbce6d673525b30e",
            "placeholder": "​",
            "style": "IPY_MODEL_84ff6d693c4a4dfd937ac9cbf6316f90",
            "value": "Epoch 5/50 Batches: 100%"
          }
        },
        "2b29cfa9aa2b4930abc50b9f6a85387a": {
          "model_module": "@jupyter-widgets/base",
          "model_module_version": "1.2.0",
          "model_name": "LayoutModel",
          "state": {
            "_model_module": "@jupyter-widgets/base",
            "_model_module_version": "1.2.0",
            "_model_name": "LayoutModel",
            "_view_count": null,
            "_view_module": "@jupyter-widgets/base",
            "_view_module_version": "1.2.0",
            "_view_name": "LayoutView",
            "align_content": null,
            "align_items": null,
            "align_self": null,
            "border": null,
            "bottom": null,
            "display": null,
            "flex": null,
            "flex_flow": null,
            "grid_area": null,
            "grid_auto_columns": null,
            "grid_auto_flow": null,
            "grid_auto_rows": null,
            "grid_column": null,
            "grid_gap": null,
            "grid_row": null,
            "grid_template_areas": null,
            "grid_template_columns": null,
            "grid_template_rows": null,
            "height": null,
            "justify_content": null,
            "justify_items": null,
            "left": null,
            "margin": null,
            "max_height": null,
            "max_width": null,
            "min_height": null,
            "min_width": null,
            "object_fit": null,
            "object_position": null,
            "order": null,
            "overflow": null,
            "overflow_x": null,
            "overflow_y": null,
            "padding": null,
            "right": null,
            "top": null,
            "visibility": null,
            "width": null
          }
        },
        "2b2f496b6cb5467094164535a017ccb1": {
          "model_module": "@jupyter-widgets/controls",
          "model_module_version": "1.5.0",
          "model_name": "ProgressStyleModel",
          "state": {
            "_model_module": "@jupyter-widgets/controls",
            "_model_module_version": "1.5.0",
            "_model_name": "ProgressStyleModel",
            "_view_count": null,
            "_view_module": "@jupyter-widgets/base",
            "_view_module_version": "1.2.0",
            "_view_name": "StyleView",
            "bar_color": null,
            "description_width": ""
          }
        },
        "2ce7046ff57d41b582b24ec96fe6d6a4": {
          "model_module": "@jupyter-widgets/base",
          "model_module_version": "1.2.0",
          "model_name": "LayoutModel",
          "state": {
            "_model_module": "@jupyter-widgets/base",
            "_model_module_version": "1.2.0",
            "_model_name": "LayoutModel",
            "_view_count": null,
            "_view_module": "@jupyter-widgets/base",
            "_view_module_version": "1.2.0",
            "_view_name": "LayoutView",
            "align_content": null,
            "align_items": null,
            "align_self": null,
            "border": null,
            "bottom": null,
            "display": null,
            "flex": null,
            "flex_flow": null,
            "grid_area": null,
            "grid_auto_columns": null,
            "grid_auto_flow": null,
            "grid_auto_rows": null,
            "grid_column": null,
            "grid_gap": null,
            "grid_row": null,
            "grid_template_areas": null,
            "grid_template_columns": null,
            "grid_template_rows": null,
            "height": null,
            "justify_content": null,
            "justify_items": null,
            "left": null,
            "margin": null,
            "max_height": null,
            "max_width": null,
            "min_height": null,
            "min_width": null,
            "object_fit": null,
            "object_position": null,
            "order": null,
            "overflow": null,
            "overflow_x": null,
            "overflow_y": null,
            "padding": null,
            "right": null,
            "top": null,
            "visibility": null,
            "width": null
          }
        },
        "2f06daae7e844aa6b816ceaf141cd082": {
          "model_module": "@jupyter-widgets/controls",
          "model_module_version": "1.5.0",
          "model_name": "DescriptionStyleModel",
          "state": {
            "_model_module": "@jupyter-widgets/controls",
            "_model_module_version": "1.5.0",
            "_model_name": "DescriptionStyleModel",
            "_view_count": null,
            "_view_module": "@jupyter-widgets/base",
            "_view_module_version": "1.2.0",
            "_view_name": "StyleView",
            "description_width": ""
          }
        },
        "30d3742181ec42a7aab68488d4d6e3ca": {
          "model_module": "@jupyter-widgets/controls",
          "model_module_version": "1.5.0",
          "model_name": "ProgressStyleModel",
          "state": {
            "_model_module": "@jupyter-widgets/controls",
            "_model_module_version": "1.5.0",
            "_model_name": "ProgressStyleModel",
            "_view_count": null,
            "_view_module": "@jupyter-widgets/base",
            "_view_module_version": "1.2.0",
            "_view_name": "StyleView",
            "bar_color": null,
            "description_width": ""
          }
        },
        "3314e1697aa742dc8a7b7191ab1da4d8": {
          "model_module": "@jupyter-widgets/controls",
          "model_module_version": "1.5.0",
          "model_name": "DescriptionStyleModel",
          "state": {
            "_model_module": "@jupyter-widgets/controls",
            "_model_module_version": "1.5.0",
            "_model_name": "DescriptionStyleModel",
            "_view_count": null,
            "_view_module": "@jupyter-widgets/base",
            "_view_module_version": "1.2.0",
            "_view_name": "StyleView",
            "description_width": ""
          }
        },
        "3511e0692bb34102b6f877aa4ba043bf": {
          "model_module": "@jupyter-widgets/controls",
          "model_module_version": "1.5.0",
          "model_name": "HTMLModel",
          "state": {
            "_dom_classes": [],
            "_model_module": "@jupyter-widgets/controls",
            "_model_module_version": "1.5.0",
            "_model_name": "HTMLModel",
            "_view_count": null,
            "_view_module": "@jupyter-widgets/controls",
            "_view_module_version": "1.5.0",
            "_view_name": "HTMLView",
            "description": "",
            "description_tooltip": null,
            "layout": "IPY_MODEL_fd0f855cb5bb4c4cb7e9df8bb25a7083",
            "placeholder": "​",
            "style": "IPY_MODEL_eee9f97853a346d59478a91bbcf0e11c",
            "value": "Epoch 3/50 Batches: 100%"
          }
        },
        "35928b5f05aa444699365a2a9f14bb7b": {
          "model_module": "@jupyter-widgets/controls",
          "model_module_version": "1.5.0",
          "model_name": "DescriptionStyleModel",
          "state": {
            "_model_module": "@jupyter-widgets/controls",
            "_model_module_version": "1.5.0",
            "_model_name": "DescriptionStyleModel",
            "_view_count": null,
            "_view_module": "@jupyter-widgets/base",
            "_view_module_version": "1.2.0",
            "_view_name": "StyleView",
            "description_width": ""
          }
        },
        "37aeacad91274491baa50a7e1a440234": {
          "model_module": "@jupyter-widgets/controls",
          "model_module_version": "1.5.0",
          "model_name": "HTMLModel",
          "state": {
            "_dom_classes": [],
            "_model_module": "@jupyter-widgets/controls",
            "_model_module_version": "1.5.0",
            "_model_name": "HTMLModel",
            "_view_count": null,
            "_view_module": "@jupyter-widgets/controls",
            "_view_module_version": "1.5.0",
            "_view_name": "HTMLView",
            "description": "",
            "description_tooltip": null,
            "layout": "IPY_MODEL_dfeb5ea0fd70418d83be51d11ff69106",
            "placeholder": "​",
            "style": "IPY_MODEL_14fed32258244a8f8be9caecc3ee34ed",
            "value": "Epoch 9/50 Batches: 100%"
          }
        },
        "383fdeadb07048428131ff58958fb476": {
          "model_module": "@jupyter-widgets/base",
          "model_module_version": "1.2.0",
          "model_name": "LayoutModel",
          "state": {
            "_model_module": "@jupyter-widgets/base",
            "_model_module_version": "1.2.0",
            "_model_name": "LayoutModel",
            "_view_count": null,
            "_view_module": "@jupyter-widgets/base",
            "_view_module_version": "1.2.0",
            "_view_name": "LayoutView",
            "align_content": null,
            "align_items": null,
            "align_self": null,
            "border": null,
            "bottom": null,
            "display": null,
            "flex": null,
            "flex_flow": null,
            "grid_area": null,
            "grid_auto_columns": null,
            "grid_auto_flow": null,
            "grid_auto_rows": null,
            "grid_column": null,
            "grid_gap": null,
            "grid_row": null,
            "grid_template_areas": null,
            "grid_template_columns": null,
            "grid_template_rows": null,
            "height": null,
            "justify_content": null,
            "justify_items": null,
            "left": null,
            "margin": null,
            "max_height": null,
            "max_width": null,
            "min_height": null,
            "min_width": null,
            "object_fit": null,
            "object_position": null,
            "order": null,
            "overflow": null,
            "overflow_x": null,
            "overflow_y": null,
            "padding": null,
            "right": null,
            "top": null,
            "visibility": null,
            "width": null
          }
        },
        "3bb9997a590841da9d0e4c409f32b5cd": {
          "model_module": "@jupyter-widgets/controls",
          "model_module_version": "1.5.0",
          "model_name": "FloatProgressModel",
          "state": {
            "_dom_classes": [],
            "_model_module": "@jupyter-widgets/controls",
            "_model_module_version": "1.5.0",
            "_model_name": "FloatProgressModel",
            "_view_count": null,
            "_view_module": "@jupyter-widgets/controls",
            "_view_module_version": "1.5.0",
            "_view_name": "ProgressView",
            "bar_style": "",
            "description": "",
            "description_tooltip": null,
            "layout": "IPY_MODEL_b846957ac22842e6b13820fe1b7b6566",
            "max": 116,
            "min": 0,
            "orientation": "horizontal",
            "style": "IPY_MODEL_b8ffe59a249241609fb7137c0bea4354",
            "value": 116
          }
        },
        "3d75a96547664175bd86cc50c7dd8835": {
          "model_module": "@jupyter-widgets/controls",
          "model_module_version": "1.5.0",
          "model_name": "DescriptionStyleModel",
          "state": {
            "_model_module": "@jupyter-widgets/controls",
            "_model_module_version": "1.5.0",
            "_model_name": "DescriptionStyleModel",
            "_view_count": null,
            "_view_module": "@jupyter-widgets/base",
            "_view_module_version": "1.2.0",
            "_view_name": "StyleView",
            "description_width": ""
          }
        },
        "426bb1d6d4ee45c89c9fe1ee173e221b": {
          "model_module": "@jupyter-widgets/base",
          "model_module_version": "1.2.0",
          "model_name": "LayoutModel",
          "state": {
            "_model_module": "@jupyter-widgets/base",
            "_model_module_version": "1.2.0",
            "_model_name": "LayoutModel",
            "_view_count": null,
            "_view_module": "@jupyter-widgets/base",
            "_view_module_version": "1.2.0",
            "_view_name": "LayoutView",
            "align_content": null,
            "align_items": null,
            "align_self": null,
            "border": null,
            "bottom": null,
            "display": null,
            "flex": null,
            "flex_flow": null,
            "grid_area": null,
            "grid_auto_columns": null,
            "grid_auto_flow": null,
            "grid_auto_rows": null,
            "grid_column": null,
            "grid_gap": null,
            "grid_row": null,
            "grid_template_areas": null,
            "grid_template_columns": null,
            "grid_template_rows": null,
            "height": null,
            "justify_content": null,
            "justify_items": null,
            "left": null,
            "margin": null,
            "max_height": null,
            "max_width": null,
            "min_height": null,
            "min_width": null,
            "object_fit": null,
            "object_position": null,
            "order": null,
            "overflow": null,
            "overflow_x": null,
            "overflow_y": null,
            "padding": null,
            "right": null,
            "top": null,
            "visibility": null,
            "width": null
          }
        },
        "4332d3ec467045b8af27f8137aff78e5": {
          "model_module": "@jupyter-widgets/base",
          "model_module_version": "1.2.0",
          "model_name": "LayoutModel",
          "state": {
            "_model_module": "@jupyter-widgets/base",
            "_model_module_version": "1.2.0",
            "_model_name": "LayoutModel",
            "_view_count": null,
            "_view_module": "@jupyter-widgets/base",
            "_view_module_version": "1.2.0",
            "_view_name": "LayoutView",
            "align_content": null,
            "align_items": null,
            "align_self": null,
            "border": null,
            "bottom": null,
            "display": null,
            "flex": null,
            "flex_flow": null,
            "grid_area": null,
            "grid_auto_columns": null,
            "grid_auto_flow": null,
            "grid_auto_rows": null,
            "grid_column": null,
            "grid_gap": null,
            "grid_row": null,
            "grid_template_areas": null,
            "grid_template_columns": null,
            "grid_template_rows": null,
            "height": null,
            "justify_content": null,
            "justify_items": null,
            "left": null,
            "margin": null,
            "max_height": null,
            "max_width": null,
            "min_height": null,
            "min_width": null,
            "object_fit": null,
            "object_position": null,
            "order": null,
            "overflow": null,
            "overflow_x": null,
            "overflow_y": null,
            "padding": null,
            "right": null,
            "top": null,
            "visibility": null,
            "width": null
          }
        },
        "44ab2ab966e34c85912d3e39f2cee42c": {
          "model_module": "@jupyter-widgets/base",
          "model_module_version": "1.2.0",
          "model_name": "LayoutModel",
          "state": {
            "_model_module": "@jupyter-widgets/base",
            "_model_module_version": "1.2.0",
            "_model_name": "LayoutModel",
            "_view_count": null,
            "_view_module": "@jupyter-widgets/base",
            "_view_module_version": "1.2.0",
            "_view_name": "LayoutView",
            "align_content": null,
            "align_items": null,
            "align_self": null,
            "border": null,
            "bottom": null,
            "display": null,
            "flex": null,
            "flex_flow": null,
            "grid_area": null,
            "grid_auto_columns": null,
            "grid_auto_flow": null,
            "grid_auto_rows": null,
            "grid_column": null,
            "grid_gap": null,
            "grid_row": null,
            "grid_template_areas": null,
            "grid_template_columns": null,
            "grid_template_rows": null,
            "height": null,
            "justify_content": null,
            "justify_items": null,
            "left": null,
            "margin": null,
            "max_height": null,
            "max_width": null,
            "min_height": null,
            "min_width": null,
            "object_fit": null,
            "object_position": null,
            "order": null,
            "overflow": null,
            "overflow_x": null,
            "overflow_y": null,
            "padding": null,
            "right": null,
            "top": null,
            "visibility": "hidden",
            "width": null
          }
        },
        "47c91e5f84c34b8a951b73c597be57a8": {
          "model_module": "@jupyter-widgets/base",
          "model_module_version": "1.2.0",
          "model_name": "LayoutModel",
          "state": {
            "_model_module": "@jupyter-widgets/base",
            "_model_module_version": "1.2.0",
            "_model_name": "LayoutModel",
            "_view_count": null,
            "_view_module": "@jupyter-widgets/base",
            "_view_module_version": "1.2.0",
            "_view_name": "LayoutView",
            "align_content": null,
            "align_items": null,
            "align_self": null,
            "border": null,
            "bottom": null,
            "display": null,
            "flex": null,
            "flex_flow": null,
            "grid_area": null,
            "grid_auto_columns": null,
            "grid_auto_flow": null,
            "grid_auto_rows": null,
            "grid_column": null,
            "grid_gap": null,
            "grid_row": null,
            "grid_template_areas": null,
            "grid_template_columns": null,
            "grid_template_rows": null,
            "height": null,
            "justify_content": null,
            "justify_items": null,
            "left": null,
            "margin": null,
            "max_height": null,
            "max_width": null,
            "min_height": null,
            "min_width": null,
            "object_fit": null,
            "object_position": null,
            "order": null,
            "overflow": null,
            "overflow_x": null,
            "overflow_y": null,
            "padding": null,
            "right": null,
            "top": null,
            "visibility": null,
            "width": null
          }
        },
        "48e45110b76e410ca7a4a66825c25e57": {
          "model_module": "@jupyter-widgets/base",
          "model_module_version": "1.2.0",
          "model_name": "LayoutModel",
          "state": {
            "_model_module": "@jupyter-widgets/base",
            "_model_module_version": "1.2.0",
            "_model_name": "LayoutModel",
            "_view_count": null,
            "_view_module": "@jupyter-widgets/base",
            "_view_module_version": "1.2.0",
            "_view_name": "LayoutView",
            "align_content": null,
            "align_items": null,
            "align_self": null,
            "border": null,
            "bottom": null,
            "display": null,
            "flex": null,
            "flex_flow": null,
            "grid_area": null,
            "grid_auto_columns": null,
            "grid_auto_flow": null,
            "grid_auto_rows": null,
            "grid_column": null,
            "grid_gap": null,
            "grid_row": null,
            "grid_template_areas": null,
            "grid_template_columns": null,
            "grid_template_rows": null,
            "height": null,
            "justify_content": null,
            "justify_items": null,
            "left": null,
            "margin": null,
            "max_height": null,
            "max_width": null,
            "min_height": null,
            "min_width": null,
            "object_fit": null,
            "object_position": null,
            "order": null,
            "overflow": null,
            "overflow_x": null,
            "overflow_y": null,
            "padding": null,
            "right": null,
            "top": null,
            "visibility": null,
            "width": null
          }
        },
        "4963b945c4804454985920c06b3779ce": {
          "model_module": "@jupyter-widgets/controls",
          "model_module_version": "1.5.0",
          "model_name": "FloatProgressModel",
          "state": {
            "_dom_classes": [],
            "_model_module": "@jupyter-widgets/controls",
            "_model_module_version": "1.5.0",
            "_model_name": "FloatProgressModel",
            "_view_count": null,
            "_view_module": "@jupyter-widgets/controls",
            "_view_module_version": "1.5.0",
            "_view_name": "ProgressView",
            "bar_style": "",
            "description": "",
            "description_tooltip": null,
            "layout": "IPY_MODEL_7a42d8b2ee99475da7b024fef7b08b29",
            "max": 116,
            "min": 0,
            "orientation": "horizontal",
            "style": "IPY_MODEL_2b2f496b6cb5467094164535a017ccb1",
            "value": 116
          }
        },
        "4a25e9f8b0814bd3a47f6f6318706709": {
          "model_module": "@jupyter-widgets/controls",
          "model_module_version": "1.5.0",
          "model_name": "DescriptionStyleModel",
          "state": {
            "_model_module": "@jupyter-widgets/controls",
            "_model_module_version": "1.5.0",
            "_model_name": "DescriptionStyleModel",
            "_view_count": null,
            "_view_module": "@jupyter-widgets/base",
            "_view_module_version": "1.2.0",
            "_view_name": "StyleView",
            "description_width": ""
          }
        },
        "4a73affd6347422db6b47038af47f115": {
          "model_module": "@jupyter-widgets/controls",
          "model_module_version": "1.5.0",
          "model_name": "ProgressStyleModel",
          "state": {
            "_model_module": "@jupyter-widgets/controls",
            "_model_module_version": "1.5.0",
            "_model_name": "ProgressStyleModel",
            "_view_count": null,
            "_view_module": "@jupyter-widgets/base",
            "_view_module_version": "1.2.0",
            "_view_name": "StyleView",
            "bar_color": null,
            "description_width": ""
          }
        },
        "4b6130a6496f458287e4db90ca9bf913": {
          "model_module": "@jupyter-widgets/controls",
          "model_module_version": "1.5.0",
          "model_name": "HBoxModel",
          "state": {
            "_dom_classes": [],
            "_model_module": "@jupyter-widgets/controls",
            "_model_module_version": "1.5.0",
            "_model_name": "HBoxModel",
            "_view_count": null,
            "_view_module": "@jupyter-widgets/controls",
            "_view_module_version": "1.5.0",
            "_view_name": "HBoxView",
            "box_style": "",
            "children": [
              "IPY_MODEL_0f767712a9c84f749b8ad5d58adfefe1",
              "IPY_MODEL_138fc1e2c0be43559ed06d237b73c98e",
              "IPY_MODEL_01e3118d0c014aad9ec38c33ca4a0c73"
            ],
            "layout": "IPY_MODEL_03591721526545c49fd8e2645d092a51"
          }
        },
        "4ba8807ef4104f148243cb8cc57a8f48": {
          "model_module": "@jupyter-widgets/controls",
          "model_module_version": "1.5.0",
          "model_name": "DescriptionStyleModel",
          "state": {
            "_model_module": "@jupyter-widgets/controls",
            "_model_module_version": "1.5.0",
            "_model_name": "DescriptionStyleModel",
            "_view_count": null,
            "_view_module": "@jupyter-widgets/base",
            "_view_module_version": "1.2.0",
            "_view_name": "StyleView",
            "description_width": ""
          }
        },
        "4c6778a0e7064990aec8580a5dafcb72": {
          "model_module": "@jupyter-widgets/base",
          "model_module_version": "1.2.0",
          "model_name": "LayoutModel",
          "state": {
            "_model_module": "@jupyter-widgets/base",
            "_model_module_version": "1.2.0",
            "_model_name": "LayoutModel",
            "_view_count": null,
            "_view_module": "@jupyter-widgets/base",
            "_view_module_version": "1.2.0",
            "_view_name": "LayoutView",
            "align_content": null,
            "align_items": null,
            "align_self": null,
            "border": null,
            "bottom": null,
            "display": null,
            "flex": null,
            "flex_flow": null,
            "grid_area": null,
            "grid_auto_columns": null,
            "grid_auto_flow": null,
            "grid_auto_rows": null,
            "grid_column": null,
            "grid_gap": null,
            "grid_row": null,
            "grid_template_areas": null,
            "grid_template_columns": null,
            "grid_template_rows": null,
            "height": null,
            "justify_content": null,
            "justify_items": null,
            "left": null,
            "margin": null,
            "max_height": null,
            "max_width": null,
            "min_height": null,
            "min_width": null,
            "object_fit": null,
            "object_position": null,
            "order": null,
            "overflow": null,
            "overflow_x": null,
            "overflow_y": null,
            "padding": null,
            "right": null,
            "top": null,
            "visibility": "hidden",
            "width": null
          }
        },
        "4d1c6761598b42048dc19efccaa7607d": {
          "model_module": "@jupyter-widgets/controls",
          "model_module_version": "1.5.0",
          "model_name": "DescriptionStyleModel",
          "state": {
            "_model_module": "@jupyter-widgets/controls",
            "_model_module_version": "1.5.0",
            "_model_name": "DescriptionStyleModel",
            "_view_count": null,
            "_view_module": "@jupyter-widgets/base",
            "_view_module_version": "1.2.0",
            "_view_name": "StyleView",
            "description_width": ""
          }
        },
        "523ead4e02e9481f806484ecb6b92eb2": {
          "model_module": "@jupyter-widgets/controls",
          "model_module_version": "1.5.0",
          "model_name": "HTMLModel",
          "state": {
            "_dom_classes": [],
            "_model_module": "@jupyter-widgets/controls",
            "_model_module_version": "1.5.0",
            "_model_name": "HTMLModel",
            "_view_count": null,
            "_view_module": "@jupyter-widgets/controls",
            "_view_module_version": "1.5.0",
            "_view_name": "HTMLView",
            "description": "",
            "description_tooltip": null,
            "layout": "IPY_MODEL_142cbaa2953041a9a117a026db1c204c",
            "placeholder": "​",
            "style": "IPY_MODEL_e1b5630121ef4cf7a90b405b6231eb10",
            "value": "Training Progress:  30%"
          }
        },
        "5bf6e62396eb422aa7c1005bec73e82e": {
          "model_module": "@jupyter-widgets/controls",
          "model_module_version": "1.5.0",
          "model_name": "HBoxModel",
          "state": {
            "_dom_classes": [],
            "_model_module": "@jupyter-widgets/controls",
            "_model_module_version": "1.5.0",
            "_model_name": "HBoxModel",
            "_view_count": null,
            "_view_module": "@jupyter-widgets/controls",
            "_view_module_version": "1.5.0",
            "_view_name": "HBoxView",
            "box_style": "",
            "children": [
              "IPY_MODEL_be35c475867e4d179c9f1e785f812ab0",
              "IPY_MODEL_d1372218aecb48eebc3a84b5d9458d7b",
              "IPY_MODEL_638c4ed368ce4f6b8910da57483528d6"
            ],
            "layout": "IPY_MODEL_eaa08867564b47aeb28c5c61f784655f"
          }
        },
        "5ebd6dc2c0214ddf9924593bff468888": {
          "model_module": "@jupyter-widgets/controls",
          "model_module_version": "1.5.0",
          "model_name": "HTMLModel",
          "state": {
            "_dom_classes": [],
            "_model_module": "@jupyter-widgets/controls",
            "_model_module_version": "1.5.0",
            "_model_name": "HTMLModel",
            "_view_count": null,
            "_view_module": "@jupyter-widgets/controls",
            "_view_module_version": "1.5.0",
            "_view_name": "HTMLView",
            "description": "",
            "description_tooltip": null,
            "layout": "IPY_MODEL_426bb1d6d4ee45c89c9fe1ee173e221b",
            "placeholder": "​",
            "style": "IPY_MODEL_1f57a82b9b684d7290effff3c1746cee",
            "value": " 116/116 [00:51&lt;00:00,  2.36it/s]"
          }
        },
        "5f11adbe3c98486db598b07548c3999c": {
          "model_module": "@jupyter-widgets/base",
          "model_module_version": "1.2.0",
          "model_name": "LayoutModel",
          "state": {
            "_model_module": "@jupyter-widgets/base",
            "_model_module_version": "1.2.0",
            "_model_name": "LayoutModel",
            "_view_count": null,
            "_view_module": "@jupyter-widgets/base",
            "_view_module_version": "1.2.0",
            "_view_name": "LayoutView",
            "align_content": null,
            "align_items": null,
            "align_self": null,
            "border": null,
            "bottom": null,
            "display": null,
            "flex": null,
            "flex_flow": null,
            "grid_area": null,
            "grid_auto_columns": null,
            "grid_auto_flow": null,
            "grid_auto_rows": null,
            "grid_column": null,
            "grid_gap": null,
            "grid_row": null,
            "grid_template_areas": null,
            "grid_template_columns": null,
            "grid_template_rows": null,
            "height": null,
            "justify_content": null,
            "justify_items": null,
            "left": null,
            "margin": null,
            "max_height": null,
            "max_width": null,
            "min_height": null,
            "min_width": null,
            "object_fit": null,
            "object_position": null,
            "order": null,
            "overflow": null,
            "overflow_x": null,
            "overflow_y": null,
            "padding": null,
            "right": null,
            "top": null,
            "visibility": null,
            "width": null
          }
        },
        "60b4b395c6a44a0890aeaecdfe4424cd": {
          "model_module": "@jupyter-widgets/base",
          "model_module_version": "1.2.0",
          "model_name": "LayoutModel",
          "state": {
            "_model_module": "@jupyter-widgets/base",
            "_model_module_version": "1.2.0",
            "_model_name": "LayoutModel",
            "_view_count": null,
            "_view_module": "@jupyter-widgets/base",
            "_view_module_version": "1.2.0",
            "_view_name": "LayoutView",
            "align_content": null,
            "align_items": null,
            "align_self": null,
            "border": null,
            "bottom": null,
            "display": null,
            "flex": null,
            "flex_flow": null,
            "grid_area": null,
            "grid_auto_columns": null,
            "grid_auto_flow": null,
            "grid_auto_rows": null,
            "grid_column": null,
            "grid_gap": null,
            "grid_row": null,
            "grid_template_areas": null,
            "grid_template_columns": null,
            "grid_template_rows": null,
            "height": null,
            "justify_content": null,
            "justify_items": null,
            "left": null,
            "margin": null,
            "max_height": null,
            "max_width": null,
            "min_height": null,
            "min_width": null,
            "object_fit": null,
            "object_position": null,
            "order": null,
            "overflow": null,
            "overflow_x": null,
            "overflow_y": null,
            "padding": null,
            "right": null,
            "top": null,
            "visibility": "hidden",
            "width": null
          }
        },
        "60bb162abe31487d8bebbdd96e82b17b": {
          "model_module": "@jupyter-widgets/base",
          "model_module_version": "1.2.0",
          "model_name": "LayoutModel",
          "state": {
            "_model_module": "@jupyter-widgets/base",
            "_model_module_version": "1.2.0",
            "_model_name": "LayoutModel",
            "_view_count": null,
            "_view_module": "@jupyter-widgets/base",
            "_view_module_version": "1.2.0",
            "_view_name": "LayoutView",
            "align_content": null,
            "align_items": null,
            "align_self": null,
            "border": null,
            "bottom": null,
            "display": null,
            "flex": null,
            "flex_flow": null,
            "grid_area": null,
            "grid_auto_columns": null,
            "grid_auto_flow": null,
            "grid_auto_rows": null,
            "grid_column": null,
            "grid_gap": null,
            "grid_row": null,
            "grid_template_areas": null,
            "grid_template_columns": null,
            "grid_template_rows": null,
            "height": null,
            "justify_content": null,
            "justify_items": null,
            "left": null,
            "margin": null,
            "max_height": null,
            "max_width": null,
            "min_height": null,
            "min_width": null,
            "object_fit": null,
            "object_position": null,
            "order": null,
            "overflow": null,
            "overflow_x": null,
            "overflow_y": null,
            "padding": null,
            "right": null,
            "top": null,
            "visibility": null,
            "width": null
          }
        },
        "6121f565b4b344b59d18c7181277ab6e": {
          "model_module": "@jupyter-widgets/controls",
          "model_module_version": "1.5.0",
          "model_name": "HTMLModel",
          "state": {
            "_dom_classes": [],
            "_model_module": "@jupyter-widgets/controls",
            "_model_module_version": "1.5.0",
            "_model_name": "HTMLModel",
            "_view_count": null,
            "_view_module": "@jupyter-widgets/controls",
            "_view_module_version": "1.5.0",
            "_view_name": "HTMLView",
            "description": "",
            "description_tooltip": null,
            "layout": "IPY_MODEL_9da6b2e3a3b743f4a16c01ec159dfc89",
            "placeholder": "​",
            "style": "IPY_MODEL_12a729033b0149718c6f5a5b141b72f5",
            "value": "Epoch 16/50 Batches:  92%"
          }
        },
        "612a14912b8342c6b3b8c4b00d7a27e9": {
          "model_module": "@jupyter-widgets/controls",
          "model_module_version": "1.5.0",
          "model_name": "HTMLModel",
          "state": {
            "_dom_classes": [],
            "_model_module": "@jupyter-widgets/controls",
            "_model_module_version": "1.5.0",
            "_model_name": "HTMLModel",
            "_view_count": null,
            "_view_module": "@jupyter-widgets/controls",
            "_view_module_version": "1.5.0",
            "_view_name": "HTMLView",
            "description": "",
            "description_tooltip": null,
            "layout": "IPY_MODEL_668294f967b444d19b3e76fd5e1c6903",
            "placeholder": "​",
            "style": "IPY_MODEL_004c86fcc88c4961be522e5f10953809",
            "value": " 116/116 [00:53&lt;00:00,  2.29it/s]"
          }
        },
        "61899f61700843cb8f69cf86cc0ff1fe": {
          "model_module": "@jupyter-widgets/base",
          "model_module_version": "1.2.0",
          "model_name": "LayoutModel",
          "state": {
            "_model_module": "@jupyter-widgets/base",
            "_model_module_version": "1.2.0",
            "_model_name": "LayoutModel",
            "_view_count": null,
            "_view_module": "@jupyter-widgets/base",
            "_view_module_version": "1.2.0",
            "_view_name": "LayoutView",
            "align_content": null,
            "align_items": null,
            "align_self": null,
            "border": null,
            "bottom": null,
            "display": null,
            "flex": null,
            "flex_flow": null,
            "grid_area": null,
            "grid_auto_columns": null,
            "grid_auto_flow": null,
            "grid_auto_rows": null,
            "grid_column": null,
            "grid_gap": null,
            "grid_row": null,
            "grid_template_areas": null,
            "grid_template_columns": null,
            "grid_template_rows": null,
            "height": null,
            "justify_content": null,
            "justify_items": null,
            "left": null,
            "margin": null,
            "max_height": null,
            "max_width": null,
            "min_height": null,
            "min_width": null,
            "object_fit": null,
            "object_position": null,
            "order": null,
            "overflow": null,
            "overflow_x": null,
            "overflow_y": null,
            "padding": null,
            "right": null,
            "top": null,
            "visibility": null,
            "width": null
          }
        },
        "6230fb6543a847ca87e22531aa28947a": {
          "model_module": "@jupyter-widgets/controls",
          "model_module_version": "1.5.0",
          "model_name": "HBoxModel",
          "state": {
            "_dom_classes": [],
            "_model_module": "@jupyter-widgets/controls",
            "_model_module_version": "1.5.0",
            "_model_name": "HBoxModel",
            "_view_count": null,
            "_view_module": "@jupyter-widgets/controls",
            "_view_module_version": "1.5.0",
            "_view_name": "HBoxView",
            "box_style": "",
            "children": [
              "IPY_MODEL_e7846558dec5473596cdd6076296a809",
              "IPY_MODEL_e5c0d3e52de14242ae7030e4b1fd2a93",
              "IPY_MODEL_d5c6708129d24c5ba8b98d3e6ca08878"
            ],
            "layout": "IPY_MODEL_44ab2ab966e34c85912d3e39f2cee42c"
          }
        },
        "638c4ed368ce4f6b8910da57483528d6": {
          "model_module": "@jupyter-widgets/controls",
          "model_module_version": "1.5.0",
          "model_name": "HTMLModel",
          "state": {
            "_dom_classes": [],
            "_model_module": "@jupyter-widgets/controls",
            "_model_module_version": "1.5.0",
            "_model_name": "HTMLModel",
            "_view_count": null,
            "_view_module": "@jupyter-widgets/controls",
            "_view_module_version": "1.5.0",
            "_view_name": "HTMLView",
            "description": "",
            "description_tooltip": null,
            "layout": "IPY_MODEL_1dd84b8d8e854f11854d583595244bbb",
            "placeholder": "​",
            "style": "IPY_MODEL_4d1c6761598b42048dc19efccaa7607d",
            "value": " 116/116 [00:51&lt;00:00,  2.32it/s]"
          }
        },
        "6392c76a76c645d2ac3713fec359737a": {
          "model_module": "@jupyter-widgets/base",
          "model_module_version": "1.2.0",
          "model_name": "LayoutModel",
          "state": {
            "_model_module": "@jupyter-widgets/base",
            "_model_module_version": "1.2.0",
            "_model_name": "LayoutModel",
            "_view_count": null,
            "_view_module": "@jupyter-widgets/base",
            "_view_module_version": "1.2.0",
            "_view_name": "LayoutView",
            "align_content": null,
            "align_items": null,
            "align_self": null,
            "border": null,
            "bottom": null,
            "display": null,
            "flex": null,
            "flex_flow": null,
            "grid_area": null,
            "grid_auto_columns": null,
            "grid_auto_flow": null,
            "grid_auto_rows": null,
            "grid_column": null,
            "grid_gap": null,
            "grid_row": null,
            "grid_template_areas": null,
            "grid_template_columns": null,
            "grid_template_rows": null,
            "height": null,
            "justify_content": null,
            "justify_items": null,
            "left": null,
            "margin": null,
            "max_height": null,
            "max_width": null,
            "min_height": null,
            "min_width": null,
            "object_fit": null,
            "object_position": null,
            "order": null,
            "overflow": null,
            "overflow_x": null,
            "overflow_y": null,
            "padding": null,
            "right": null,
            "top": null,
            "visibility": null,
            "width": null
          }
        },
        "6431020c546941068c306a8a011c75a1": {
          "model_module": "@jupyter-widgets/controls",
          "model_module_version": "1.5.0",
          "model_name": "HBoxModel",
          "state": {
            "_dom_classes": [],
            "_model_module": "@jupyter-widgets/controls",
            "_model_module_version": "1.5.0",
            "_model_name": "HBoxModel",
            "_view_count": null,
            "_view_module": "@jupyter-widgets/controls",
            "_view_module_version": "1.5.0",
            "_view_name": "HBoxView",
            "box_style": "",
            "children": [
              "IPY_MODEL_37aeacad91274491baa50a7e1a440234",
              "IPY_MODEL_f6bef59d96994265a0c370cb30261ae5",
              "IPY_MODEL_caebd3e4ae1047559eb5f68c550ed3ed"
            ],
            "layout": "IPY_MODEL_eac4810bc82842a48e3504e18fc54dd9"
          }
        },
        "64f5c089921c489d88f7c4030e03ec17": {
          "model_module": "@jupyter-widgets/controls",
          "model_module_version": "1.5.0",
          "model_name": "HTMLModel",
          "state": {
            "_dom_classes": [],
            "_model_module": "@jupyter-widgets/controls",
            "_model_module_version": "1.5.0",
            "_model_name": "HTMLModel",
            "_view_count": null,
            "_view_module": "@jupyter-widgets/controls",
            "_view_module_version": "1.5.0",
            "_view_name": "HTMLView",
            "description": "",
            "description_tooltip": null,
            "layout": "IPY_MODEL_d375cb2198d141d5aee083a6857df7a2",
            "placeholder": "​",
            "style": "IPY_MODEL_4a25e9f8b0814bd3a47f6f6318706709",
            "value": "Epoch 6/50 Batches: 100%"
          }
        },
        "64ff7a4e9f2a47c0b4571f9cd01147c4": {
          "model_module": "@jupyter-widgets/controls",
          "model_module_version": "1.5.0",
          "model_name": "ProgressStyleModel",
          "state": {
            "_model_module": "@jupyter-widgets/controls",
            "_model_module_version": "1.5.0",
            "_model_name": "ProgressStyleModel",
            "_view_count": null,
            "_view_module": "@jupyter-widgets/base",
            "_view_module_version": "1.2.0",
            "_view_name": "StyleView",
            "bar_color": null,
            "description_width": ""
          }
        },
        "650e62ce2a47401cb287303865a5c967": {
          "model_module": "@jupyter-widgets/controls",
          "model_module_version": "1.5.0",
          "model_name": "ProgressStyleModel",
          "state": {
            "_model_module": "@jupyter-widgets/controls",
            "_model_module_version": "1.5.0",
            "_model_name": "ProgressStyleModel",
            "_view_count": null,
            "_view_module": "@jupyter-widgets/base",
            "_view_module_version": "1.2.0",
            "_view_name": "StyleView",
            "bar_color": null,
            "description_width": ""
          }
        },
        "6640b74bd9eb48878036dcadf13699a7": {
          "model_module": "@jupyter-widgets/base",
          "model_module_version": "1.2.0",
          "model_name": "LayoutModel",
          "state": {
            "_model_module": "@jupyter-widgets/base",
            "_model_module_version": "1.2.0",
            "_model_name": "LayoutModel",
            "_view_count": null,
            "_view_module": "@jupyter-widgets/base",
            "_view_module_version": "1.2.0",
            "_view_name": "LayoutView",
            "align_content": null,
            "align_items": null,
            "align_self": null,
            "border": null,
            "bottom": null,
            "display": null,
            "flex": null,
            "flex_flow": null,
            "grid_area": null,
            "grid_auto_columns": null,
            "grid_auto_flow": null,
            "grid_auto_rows": null,
            "grid_column": null,
            "grid_gap": null,
            "grid_row": null,
            "grid_template_areas": null,
            "grid_template_columns": null,
            "grid_template_rows": null,
            "height": null,
            "justify_content": null,
            "justify_items": null,
            "left": null,
            "margin": null,
            "max_height": null,
            "max_width": null,
            "min_height": null,
            "min_width": null,
            "object_fit": null,
            "object_position": null,
            "order": null,
            "overflow": null,
            "overflow_x": null,
            "overflow_y": null,
            "padding": null,
            "right": null,
            "top": null,
            "visibility": null,
            "width": null
          }
        },
        "66685fcaf9674ff1bfde6b56af7b4475": {
          "model_module": "@jupyter-widgets/controls",
          "model_module_version": "1.5.0",
          "model_name": "FloatProgressModel",
          "state": {
            "_dom_classes": [],
            "_model_module": "@jupyter-widgets/controls",
            "_model_module_version": "1.5.0",
            "_model_name": "FloatProgressModel",
            "_view_count": null,
            "_view_module": "@jupyter-widgets/controls",
            "_view_module_version": "1.5.0",
            "_view_name": "ProgressView",
            "bar_style": "",
            "description": "",
            "description_tooltip": null,
            "layout": "IPY_MODEL_dd1c89b4a6314ca19509c9ce1fce6a08",
            "max": 116,
            "min": 0,
            "orientation": "horizontal",
            "style": "IPY_MODEL_4a73affd6347422db6b47038af47f115",
            "value": 107
          }
        },
        "668294f967b444d19b3e76fd5e1c6903": {
          "model_module": "@jupyter-widgets/base",
          "model_module_version": "1.2.0",
          "model_name": "LayoutModel",
          "state": {
            "_model_module": "@jupyter-widgets/base",
            "_model_module_version": "1.2.0",
            "_model_name": "LayoutModel",
            "_view_count": null,
            "_view_module": "@jupyter-widgets/base",
            "_view_module_version": "1.2.0",
            "_view_name": "LayoutView",
            "align_content": null,
            "align_items": null,
            "align_self": null,
            "border": null,
            "bottom": null,
            "display": null,
            "flex": null,
            "flex_flow": null,
            "grid_area": null,
            "grid_auto_columns": null,
            "grid_auto_flow": null,
            "grid_auto_rows": null,
            "grid_column": null,
            "grid_gap": null,
            "grid_row": null,
            "grid_template_areas": null,
            "grid_template_columns": null,
            "grid_template_rows": null,
            "height": null,
            "justify_content": null,
            "justify_items": null,
            "left": null,
            "margin": null,
            "max_height": null,
            "max_width": null,
            "min_height": null,
            "min_width": null,
            "object_fit": null,
            "object_position": null,
            "order": null,
            "overflow": null,
            "overflow_x": null,
            "overflow_y": null,
            "padding": null,
            "right": null,
            "top": null,
            "visibility": null,
            "width": null
          }
        },
        "6a89131b7ace49d08998c368834ed585": {
          "model_module": "@jupyter-widgets/controls",
          "model_module_version": "1.5.0",
          "model_name": "DescriptionStyleModel",
          "state": {
            "_model_module": "@jupyter-widgets/controls",
            "_model_module_version": "1.5.0",
            "_model_name": "DescriptionStyleModel",
            "_view_count": null,
            "_view_module": "@jupyter-widgets/base",
            "_view_module_version": "1.2.0",
            "_view_name": "StyleView",
            "description_width": ""
          }
        },
        "6b57df8fbdda4107a8ecb4deb92c8215": {
          "model_module": "@jupyter-widgets/controls",
          "model_module_version": "1.5.0",
          "model_name": "HTMLModel",
          "state": {
            "_dom_classes": [],
            "_model_module": "@jupyter-widgets/controls",
            "_model_module_version": "1.5.0",
            "_model_name": "HTMLModel",
            "_view_count": null,
            "_view_module": "@jupyter-widgets/controls",
            "_view_module_version": "1.5.0",
            "_view_name": "HTMLView",
            "description": "",
            "description_tooltip": null,
            "layout": "IPY_MODEL_c23ab65280574de785d51678aa8b5ce7",
            "placeholder": "​",
            "style": "IPY_MODEL_216e02db3b034e75b1519dd40be7856a",
            "value": "Epoch 7/50 Batches: 100%"
          }
        },
        "6b775e05e8ad45b184abf128c40a2c64": {
          "model_module": "@jupyter-widgets/controls",
          "model_module_version": "1.5.0",
          "model_name": "HTMLModel",
          "state": {
            "_dom_classes": [],
            "_model_module": "@jupyter-widgets/controls",
            "_model_module_version": "1.5.0",
            "_model_name": "HTMLModel",
            "_view_count": null,
            "_view_module": "@jupyter-widgets/controls",
            "_view_module_version": "1.5.0",
            "_view_name": "HTMLView",
            "description": "",
            "description_tooltip": null,
            "layout": "IPY_MODEL_e19157729dda49ca9842c363b7320696",
            "placeholder": "​",
            "style": "IPY_MODEL_c2e9a4bde26343059a4e3c445eaa92ee",
            "value": " 15/50 [13:46&lt;32:03, 54.95s/it]"
          }
        },
        "6f56e62ba55d4a56bd698f52f9649a59": {
          "model_module": "@jupyter-widgets/controls",
          "model_module_version": "1.5.0",
          "model_name": "ProgressStyleModel",
          "state": {
            "_model_module": "@jupyter-widgets/controls",
            "_model_module_version": "1.5.0",
            "_model_name": "ProgressStyleModel",
            "_view_count": null,
            "_view_module": "@jupyter-widgets/base",
            "_view_module_version": "1.2.0",
            "_view_name": "StyleView",
            "bar_color": null,
            "description_width": ""
          }
        },
        "6ff779a5116049cdb30e2f2738e2c44a": {
          "model_module": "@jupyter-widgets/base",
          "model_module_version": "1.2.0",
          "model_name": "LayoutModel",
          "state": {
            "_model_module": "@jupyter-widgets/base",
            "_model_module_version": "1.2.0",
            "_model_name": "LayoutModel",
            "_view_count": null,
            "_view_module": "@jupyter-widgets/base",
            "_view_module_version": "1.2.0",
            "_view_name": "LayoutView",
            "align_content": null,
            "align_items": null,
            "align_self": null,
            "border": null,
            "bottom": null,
            "display": null,
            "flex": null,
            "flex_flow": null,
            "grid_area": null,
            "grid_auto_columns": null,
            "grid_auto_flow": null,
            "grid_auto_rows": null,
            "grid_column": null,
            "grid_gap": null,
            "grid_row": null,
            "grid_template_areas": null,
            "grid_template_columns": null,
            "grid_template_rows": null,
            "height": null,
            "justify_content": null,
            "justify_items": null,
            "left": null,
            "margin": null,
            "max_height": null,
            "max_width": null,
            "min_height": null,
            "min_width": null,
            "object_fit": null,
            "object_position": null,
            "order": null,
            "overflow": null,
            "overflow_x": null,
            "overflow_y": null,
            "padding": null,
            "right": null,
            "top": null,
            "visibility": null,
            "width": null
          }
        },
        "71fc107092de4b4bb30e009a2728efd0": {
          "model_module": "@jupyter-widgets/controls",
          "model_module_version": "1.5.0",
          "model_name": "HTMLModel",
          "state": {
            "_dom_classes": [],
            "_model_module": "@jupyter-widgets/controls",
            "_model_module_version": "1.5.0",
            "_model_name": "HTMLModel",
            "_view_count": null,
            "_view_module": "@jupyter-widgets/controls",
            "_view_module_version": "1.5.0",
            "_view_name": "HTMLView",
            "description": "",
            "description_tooltip": null,
            "layout": "IPY_MODEL_9c4ce8e0c51847419d301566d04666e3",
            "placeholder": "​",
            "style": "IPY_MODEL_1e2b03ad792b4d3d9dab04080db45679",
            "value": " 116/116 [00:51&lt;00:00,  2.37it/s]"
          }
        },
        "7352e648923b4feaa455cdcb9fc502d1": {
          "model_module": "@jupyter-widgets/controls",
          "model_module_version": "1.5.0",
          "model_name": "DescriptionStyleModel",
          "state": {
            "_model_module": "@jupyter-widgets/controls",
            "_model_module_version": "1.5.0",
            "_model_name": "DescriptionStyleModel",
            "_view_count": null,
            "_view_module": "@jupyter-widgets/base",
            "_view_module_version": "1.2.0",
            "_view_name": "StyleView",
            "description_width": ""
          }
        },
        "7397888edc59452cbabfcb754c7bc867": {
          "model_module": "@jupyter-widgets/controls",
          "model_module_version": "1.5.0",
          "model_name": "HTMLModel",
          "state": {
            "_dom_classes": [],
            "_model_module": "@jupyter-widgets/controls",
            "_model_module_version": "1.5.0",
            "_model_name": "HTMLModel",
            "_view_count": null,
            "_view_module": "@jupyter-widgets/controls",
            "_view_module_version": "1.5.0",
            "_view_name": "HTMLView",
            "description": "",
            "description_tooltip": null,
            "layout": "IPY_MODEL_1d46dc06519a4b75aa6a0180c076de27",
            "placeholder": "​",
            "style": "IPY_MODEL_276585e7c71b4b01801851714cec54b3",
            "value": " 116/116 [00:51&lt;00:00,  2.35it/s]"
          }
        },
        "78e41c9e5c4b4e648072a05a254dd261": {
          "model_module": "@jupyter-widgets/controls",
          "model_module_version": "1.5.0",
          "model_name": "DescriptionStyleModel",
          "state": {
            "_model_module": "@jupyter-widgets/controls",
            "_model_module_version": "1.5.0",
            "_model_name": "DescriptionStyleModel",
            "_view_count": null,
            "_view_module": "@jupyter-widgets/base",
            "_view_module_version": "1.2.0",
            "_view_name": "StyleView",
            "description_width": ""
          }
        },
        "7a42d8b2ee99475da7b024fef7b08b29": {
          "model_module": "@jupyter-widgets/base",
          "model_module_version": "1.2.0",
          "model_name": "LayoutModel",
          "state": {
            "_model_module": "@jupyter-widgets/base",
            "_model_module_version": "1.2.0",
            "_model_name": "LayoutModel",
            "_view_count": null,
            "_view_module": "@jupyter-widgets/base",
            "_view_module_version": "1.2.0",
            "_view_name": "LayoutView",
            "align_content": null,
            "align_items": null,
            "align_self": null,
            "border": null,
            "bottom": null,
            "display": null,
            "flex": null,
            "flex_flow": null,
            "grid_area": null,
            "grid_auto_columns": null,
            "grid_auto_flow": null,
            "grid_auto_rows": null,
            "grid_column": null,
            "grid_gap": null,
            "grid_row": null,
            "grid_template_areas": null,
            "grid_template_columns": null,
            "grid_template_rows": null,
            "height": null,
            "justify_content": null,
            "justify_items": null,
            "left": null,
            "margin": null,
            "max_height": null,
            "max_width": null,
            "min_height": null,
            "min_width": null,
            "object_fit": null,
            "object_position": null,
            "order": null,
            "overflow": null,
            "overflow_x": null,
            "overflow_y": null,
            "padding": null,
            "right": null,
            "top": null,
            "visibility": null,
            "width": null
          }
        },
        "7a6f6eee0847450288c01f10c45f21c1": {
          "model_module": "@jupyter-widgets/controls",
          "model_module_version": "1.5.0",
          "model_name": "FloatProgressModel",
          "state": {
            "_dom_classes": [],
            "_model_module": "@jupyter-widgets/controls",
            "_model_module_version": "1.5.0",
            "_model_name": "FloatProgressModel",
            "_view_count": null,
            "_view_module": "@jupyter-widgets/controls",
            "_view_module_version": "1.5.0",
            "_view_name": "ProgressView",
            "bar_style": "",
            "description": "",
            "description_tooltip": null,
            "layout": "IPY_MODEL_c4193a202c9e4dc6873b0473d2b57117",
            "max": 50,
            "min": 0,
            "orientation": "horizontal",
            "style": "IPY_MODEL_f04c7fa21d554bd18182d54e4b2e033d",
            "value": 15
          }
        },
        "7acb671262b645d1b7be0409a22a84e7": {
          "model_module": "@jupyter-widgets/controls",
          "model_module_version": "1.5.0",
          "model_name": "HTMLModel",
          "state": {
            "_dom_classes": [],
            "_model_module": "@jupyter-widgets/controls",
            "_model_module_version": "1.5.0",
            "_model_name": "HTMLModel",
            "_view_count": null,
            "_view_module": "@jupyter-widgets/controls",
            "_view_module_version": "1.5.0",
            "_view_name": "HTMLView",
            "description": "",
            "description_tooltip": null,
            "layout": "IPY_MODEL_a62c1cc324e449fdbdd2b9b98c00e00a",
            "placeholder": "​",
            "style": "IPY_MODEL_c82de99308684b398c5949e7e1f1b382",
            "value": " 116/116 [00:51&lt;00:00,  2.29it/s]"
          }
        },
        "7c458161ddb443348e57dfb64b9abc6e": {
          "model_module": "@jupyter-widgets/controls",
          "model_module_version": "1.5.0",
          "model_name": "HBoxModel",
          "state": {
            "_dom_classes": [],
            "_model_module": "@jupyter-widgets/controls",
            "_model_module_version": "1.5.0",
            "_model_name": "HBoxModel",
            "_view_count": null,
            "_view_module": "@jupyter-widgets/controls",
            "_view_module_version": "1.5.0",
            "_view_name": "HBoxView",
            "box_style": "",
            "children": [
              "IPY_MODEL_e9852cfcb7de4500a26ff71f1548752a",
              "IPY_MODEL_4963b945c4804454985920c06b3779ce",
              "IPY_MODEL_2771c0d52df943ae91ddd949797e340a"
            ],
            "layout": "IPY_MODEL_88341cf222144a0bbfb49cb122cf5b81"
          }
        },
        "7c528d6f90604a2186f857eb893f60a9": {
          "model_module": "@jupyter-widgets/controls",
          "model_module_version": "1.5.0",
          "model_name": "DescriptionStyleModel",
          "state": {
            "_model_module": "@jupyter-widgets/controls",
            "_model_module_version": "1.5.0",
            "_model_name": "DescriptionStyleModel",
            "_view_count": null,
            "_view_module": "@jupyter-widgets/base",
            "_view_module_version": "1.2.0",
            "_view_name": "StyleView",
            "description_width": ""
          }
        },
        "7dabfe65b0f04d0285aa0d0a30fbbe54": {
          "model_module": "@jupyter-widgets/controls",
          "model_module_version": "1.5.0",
          "model_name": "HTMLModel",
          "state": {
            "_dom_classes": [],
            "_model_module": "@jupyter-widgets/controls",
            "_model_module_version": "1.5.0",
            "_model_name": "HTMLModel",
            "_view_count": null,
            "_view_module": "@jupyter-widgets/controls",
            "_view_module_version": "1.5.0",
            "_view_name": "HTMLView",
            "description": "",
            "description_tooltip": null,
            "layout": "IPY_MODEL_04c63a5546564f38a567858a5f7e511e",
            "placeholder": "​",
            "style": "IPY_MODEL_87ff052c81e24bcc8deb046c245794b9",
            "value": " 116/116 [00:51&lt;00:00,  2.29it/s]"
          }
        },
        "7f393b49eff749528d3c8ddb3cb6d5a6": {
          "model_module": "@jupyter-widgets/controls",
          "model_module_version": "1.5.0",
          "model_name": "HTMLModel",
          "state": {
            "_dom_classes": [],
            "_model_module": "@jupyter-widgets/controls",
            "_model_module_version": "1.5.0",
            "_model_name": "HTMLModel",
            "_view_count": null,
            "_view_module": "@jupyter-widgets/controls",
            "_view_module_version": "1.5.0",
            "_view_name": "HTMLView",
            "description": "",
            "description_tooltip": null,
            "layout": "IPY_MODEL_1ae1fcd553954985993e7af665327977",
            "placeholder": "​",
            "style": "IPY_MODEL_7352e648923b4feaa455cdcb9fc502d1",
            "value": "Epoch 8/50 Batches: 100%"
          }
        },
        "82751215ae8f4e09bacd675c6be57044": {
          "model_module": "@jupyter-widgets/base",
          "model_module_version": "1.2.0",
          "model_name": "LayoutModel",
          "state": {
            "_model_module": "@jupyter-widgets/base",
            "_model_module_version": "1.2.0",
            "_model_name": "LayoutModel",
            "_view_count": null,
            "_view_module": "@jupyter-widgets/base",
            "_view_module_version": "1.2.0",
            "_view_name": "LayoutView",
            "align_content": null,
            "align_items": null,
            "align_self": null,
            "border": null,
            "bottom": null,
            "display": null,
            "flex": null,
            "flex_flow": null,
            "grid_area": null,
            "grid_auto_columns": null,
            "grid_auto_flow": null,
            "grid_auto_rows": null,
            "grid_column": null,
            "grid_gap": null,
            "grid_row": null,
            "grid_template_areas": null,
            "grid_template_columns": null,
            "grid_template_rows": null,
            "height": null,
            "justify_content": null,
            "justify_items": null,
            "left": null,
            "margin": null,
            "max_height": null,
            "max_width": null,
            "min_height": null,
            "min_width": null,
            "object_fit": null,
            "object_position": null,
            "order": null,
            "overflow": null,
            "overflow_x": null,
            "overflow_y": null,
            "padding": null,
            "right": null,
            "top": null,
            "visibility": null,
            "width": null
          }
        },
        "8342a01926fe4818bb29807abe6f9682": {
          "model_module": "@jupyter-widgets/base",
          "model_module_version": "1.2.0",
          "model_name": "LayoutModel",
          "state": {
            "_model_module": "@jupyter-widgets/base",
            "_model_module_version": "1.2.0",
            "_model_name": "LayoutModel",
            "_view_count": null,
            "_view_module": "@jupyter-widgets/base",
            "_view_module_version": "1.2.0",
            "_view_name": "LayoutView",
            "align_content": null,
            "align_items": null,
            "align_self": null,
            "border": null,
            "bottom": null,
            "display": null,
            "flex": null,
            "flex_flow": null,
            "grid_area": null,
            "grid_auto_columns": null,
            "grid_auto_flow": null,
            "grid_auto_rows": null,
            "grid_column": null,
            "grid_gap": null,
            "grid_row": null,
            "grid_template_areas": null,
            "grid_template_columns": null,
            "grid_template_rows": null,
            "height": null,
            "justify_content": null,
            "justify_items": null,
            "left": null,
            "margin": null,
            "max_height": null,
            "max_width": null,
            "min_height": null,
            "min_width": null,
            "object_fit": null,
            "object_position": null,
            "order": null,
            "overflow": null,
            "overflow_x": null,
            "overflow_y": null,
            "padding": null,
            "right": null,
            "top": null,
            "visibility": "hidden",
            "width": null
          }
        },
        "84ff6d693c4a4dfd937ac9cbf6316f90": {
          "model_module": "@jupyter-widgets/controls",
          "model_module_version": "1.5.0",
          "model_name": "DescriptionStyleModel",
          "state": {
            "_model_module": "@jupyter-widgets/controls",
            "_model_module_version": "1.5.0",
            "_model_name": "DescriptionStyleModel",
            "_view_count": null,
            "_view_module": "@jupyter-widgets/base",
            "_view_module_version": "1.2.0",
            "_view_name": "StyleView",
            "description_width": ""
          }
        },
        "865f99a5fef74ab18a4515623c40174d": {
          "model_module": "@jupyter-widgets/controls",
          "model_module_version": "1.5.0",
          "model_name": "DescriptionStyleModel",
          "state": {
            "_model_module": "@jupyter-widgets/controls",
            "_model_module_version": "1.5.0",
            "_model_name": "DescriptionStyleModel",
            "_view_count": null,
            "_view_module": "@jupyter-widgets/base",
            "_view_module_version": "1.2.0",
            "_view_name": "StyleView",
            "description_width": ""
          }
        },
        "87dd83da4b604765a46afd75f21a8266": {
          "model_module": "@jupyter-widgets/controls",
          "model_module_version": "1.5.0",
          "model_name": "FloatProgressModel",
          "state": {
            "_dom_classes": [],
            "_model_module": "@jupyter-widgets/controls",
            "_model_module_version": "1.5.0",
            "_model_name": "FloatProgressModel",
            "_view_count": null,
            "_view_module": "@jupyter-widgets/controls",
            "_view_module_version": "1.5.0",
            "_view_name": "ProgressView",
            "bar_style": "",
            "description": "",
            "description_tooltip": null,
            "layout": "IPY_MODEL_fff430d7e62d49c3a1722c9cee8ef518",
            "max": 116,
            "min": 0,
            "orientation": "horizontal",
            "style": "IPY_MODEL_64ff7a4e9f2a47c0b4571f9cd01147c4",
            "value": 116
          }
        },
        "87ff052c81e24bcc8deb046c245794b9": {
          "model_module": "@jupyter-widgets/controls",
          "model_module_version": "1.5.0",
          "model_name": "DescriptionStyleModel",
          "state": {
            "_model_module": "@jupyter-widgets/controls",
            "_model_module_version": "1.5.0",
            "_model_name": "DescriptionStyleModel",
            "_view_count": null,
            "_view_module": "@jupyter-widgets/base",
            "_view_module_version": "1.2.0",
            "_view_name": "StyleView",
            "description_width": ""
          }
        },
        "88341cf222144a0bbfb49cb122cf5b81": {
          "model_module": "@jupyter-widgets/base",
          "model_module_version": "1.2.0",
          "model_name": "LayoutModel",
          "state": {
            "_model_module": "@jupyter-widgets/base",
            "_model_module_version": "1.2.0",
            "_model_name": "LayoutModel",
            "_view_count": null,
            "_view_module": "@jupyter-widgets/base",
            "_view_module_version": "1.2.0",
            "_view_name": "LayoutView",
            "align_content": null,
            "align_items": null,
            "align_self": null,
            "border": null,
            "bottom": null,
            "display": null,
            "flex": null,
            "flex_flow": null,
            "grid_area": null,
            "grid_auto_columns": null,
            "grid_auto_flow": null,
            "grid_auto_rows": null,
            "grid_column": null,
            "grid_gap": null,
            "grid_row": null,
            "grid_template_areas": null,
            "grid_template_columns": null,
            "grid_template_rows": null,
            "height": null,
            "justify_content": null,
            "justify_items": null,
            "left": null,
            "margin": null,
            "max_height": null,
            "max_width": null,
            "min_height": null,
            "min_width": null,
            "object_fit": null,
            "object_position": null,
            "order": null,
            "overflow": null,
            "overflow_x": null,
            "overflow_y": null,
            "padding": null,
            "right": null,
            "top": null,
            "visibility": "hidden",
            "width": null
          }
        },
        "8aa2240130fe4935bba6521281fa2171": {
          "model_module": "@jupyter-widgets/controls",
          "model_module_version": "1.5.0",
          "model_name": "HTMLModel",
          "state": {
            "_dom_classes": [],
            "_model_module": "@jupyter-widgets/controls",
            "_model_module_version": "1.5.0",
            "_model_name": "HTMLModel",
            "_view_count": null,
            "_view_module": "@jupyter-widgets/controls",
            "_view_module_version": "1.5.0",
            "_view_name": "HTMLView",
            "description": "",
            "description_tooltip": null,
            "layout": "IPY_MODEL_a8677b4cd94a452c8c86fb8804882c18",
            "placeholder": "​",
            "style": "IPY_MODEL_4ba8807ef4104f148243cb8cc57a8f48",
            "value": " 116/116 [00:51&lt;00:00,  2.34it/s]"
          }
        },
        "8da4a01df0e24891b59293d59510250c": {
          "model_module": "@jupyter-widgets/controls",
          "model_module_version": "1.5.0",
          "model_name": "HBoxModel",
          "state": {
            "_dom_classes": [],
            "_model_module": "@jupyter-widgets/controls",
            "_model_module_version": "1.5.0",
            "_model_name": "HBoxModel",
            "_view_count": null,
            "_view_module": "@jupyter-widgets/controls",
            "_view_module_version": "1.5.0",
            "_view_name": "HBoxView",
            "box_style": "",
            "children": [
              "IPY_MODEL_f005704117a14c1b96c8de7454946f38",
              "IPY_MODEL_bc778103d21b4c10a752b50972b02b82",
              "IPY_MODEL_e6f684e96bbc4450a39ffd5e9a1af1f4"
            ],
            "layout": "IPY_MODEL_ef1c0c61769c4167b046f297d638fe4a"
          }
        },
        "8dbc479388e24459be23865712967fa6": {
          "model_module": "@jupyter-widgets/base",
          "model_module_version": "1.2.0",
          "model_name": "LayoutModel",
          "state": {
            "_model_module": "@jupyter-widgets/base",
            "_model_module_version": "1.2.0",
            "_model_name": "LayoutModel",
            "_view_count": null,
            "_view_module": "@jupyter-widgets/base",
            "_view_module_version": "1.2.0",
            "_view_name": "LayoutView",
            "align_content": null,
            "align_items": null,
            "align_self": null,
            "border": null,
            "bottom": null,
            "display": null,
            "flex": null,
            "flex_flow": null,
            "grid_area": null,
            "grid_auto_columns": null,
            "grid_auto_flow": null,
            "grid_auto_rows": null,
            "grid_column": null,
            "grid_gap": null,
            "grid_row": null,
            "grid_template_areas": null,
            "grid_template_columns": null,
            "grid_template_rows": null,
            "height": null,
            "justify_content": null,
            "justify_items": null,
            "left": null,
            "margin": null,
            "max_height": null,
            "max_width": null,
            "min_height": null,
            "min_width": null,
            "object_fit": null,
            "object_position": null,
            "order": null,
            "overflow": null,
            "overflow_x": null,
            "overflow_y": null,
            "padding": null,
            "right": null,
            "top": null,
            "visibility": null,
            "width": null
          }
        },
        "9537a385872840d2bceba5fa817606fa": {
          "model_module": "@jupyter-widgets/controls",
          "model_module_version": "1.5.0",
          "model_name": "HBoxModel",
          "state": {
            "_dom_classes": [],
            "_model_module": "@jupyter-widgets/controls",
            "_model_module_version": "1.5.0",
            "_model_name": "HBoxModel",
            "_view_count": null,
            "_view_module": "@jupyter-widgets/controls",
            "_view_module_version": "1.5.0",
            "_view_name": "HBoxView",
            "box_style": "",
            "children": [
              "IPY_MODEL_6b57df8fbdda4107a8ecb4deb92c8215",
              "IPY_MODEL_1c8508bd16d943779bf30121c3a89e92",
              "IPY_MODEL_5ebd6dc2c0214ddf9924593bff468888"
            ],
            "layout": "IPY_MODEL_05342798bdcb420eaed051dc3f570c93"
          }
        },
        "96693f35352c4a43b05efa937013ce87": {
          "model_module": "@jupyter-widgets/controls",
          "model_module_version": "1.5.0",
          "model_name": "HTMLModel",
          "state": {
            "_dom_classes": [],
            "_model_module": "@jupyter-widgets/controls",
            "_model_module_version": "1.5.0",
            "_model_name": "HTMLModel",
            "_view_count": null,
            "_view_module": "@jupyter-widgets/controls",
            "_view_module_version": "1.5.0",
            "_view_name": "HTMLView",
            "description": "",
            "description_tooltip": null,
            "layout": "IPY_MODEL_47c91e5f84c34b8a951b73c597be57a8",
            "placeholder": "​",
            "style": "IPY_MODEL_865f99a5fef74ab18a4515623c40174d",
            "value": "Epoch 12/50 Batches: 100%"
          }
        },
        "974041443f7b44be93ebd964de220a44": {
          "model_module": "@jupyter-widgets/base",
          "model_module_version": "1.2.0",
          "model_name": "LayoutModel",
          "state": {
            "_model_module": "@jupyter-widgets/base",
            "_model_module_version": "1.2.0",
            "_model_name": "LayoutModel",
            "_view_count": null,
            "_view_module": "@jupyter-widgets/base",
            "_view_module_version": "1.2.0",
            "_view_name": "LayoutView",
            "align_content": null,
            "align_items": null,
            "align_self": null,
            "border": null,
            "bottom": null,
            "display": null,
            "flex": null,
            "flex_flow": null,
            "grid_area": null,
            "grid_auto_columns": null,
            "grid_auto_flow": null,
            "grid_auto_rows": null,
            "grid_column": null,
            "grid_gap": null,
            "grid_row": null,
            "grid_template_areas": null,
            "grid_template_columns": null,
            "grid_template_rows": null,
            "height": null,
            "justify_content": null,
            "justify_items": null,
            "left": null,
            "margin": null,
            "max_height": null,
            "max_width": null,
            "min_height": null,
            "min_width": null,
            "object_fit": null,
            "object_position": null,
            "order": null,
            "overflow": null,
            "overflow_x": null,
            "overflow_y": null,
            "padding": null,
            "right": null,
            "top": null,
            "visibility": null,
            "width": null
          }
        },
        "988a5bdf151e413f9173d46a6923ba0d": {
          "model_module": "@jupyter-widgets/controls",
          "model_module_version": "1.5.0",
          "model_name": "HBoxModel",
          "state": {
            "_dom_classes": [],
            "_model_module": "@jupyter-widgets/controls",
            "_model_module_version": "1.5.0",
            "_model_name": "HBoxModel",
            "_view_count": null,
            "_view_module": "@jupyter-widgets/controls",
            "_view_module_version": "1.5.0",
            "_view_name": "HBoxView",
            "box_style": "",
            "children": [
              "IPY_MODEL_7f393b49eff749528d3c8ddb3cb6d5a6",
              "IPY_MODEL_00e2fce032994f15a10c3ee84d3517d3",
              "IPY_MODEL_71fc107092de4b4bb30e009a2728efd0"
            ],
            "layout": "IPY_MODEL_8342a01926fe4818bb29807abe6f9682"
          }
        },
        "9b15a61ce40747af9e9fa668f489847e": {
          "model_module": "@jupyter-widgets/controls",
          "model_module_version": "1.5.0",
          "model_name": "DescriptionStyleModel",
          "state": {
            "_model_module": "@jupyter-widgets/controls",
            "_model_module_version": "1.5.0",
            "_model_name": "DescriptionStyleModel",
            "_view_count": null,
            "_view_module": "@jupyter-widgets/base",
            "_view_module_version": "1.2.0",
            "_view_name": "StyleView",
            "description_width": ""
          }
        },
        "9c4ce8e0c51847419d301566d04666e3": {
          "model_module": "@jupyter-widgets/base",
          "model_module_version": "1.2.0",
          "model_name": "LayoutModel",
          "state": {
            "_model_module": "@jupyter-widgets/base",
            "_model_module_version": "1.2.0",
            "_model_name": "LayoutModel",
            "_view_count": null,
            "_view_module": "@jupyter-widgets/base",
            "_view_module_version": "1.2.0",
            "_view_name": "LayoutView",
            "align_content": null,
            "align_items": null,
            "align_self": null,
            "border": null,
            "bottom": null,
            "display": null,
            "flex": null,
            "flex_flow": null,
            "grid_area": null,
            "grid_auto_columns": null,
            "grid_auto_flow": null,
            "grid_auto_rows": null,
            "grid_column": null,
            "grid_gap": null,
            "grid_row": null,
            "grid_template_areas": null,
            "grid_template_columns": null,
            "grid_template_rows": null,
            "height": null,
            "justify_content": null,
            "justify_items": null,
            "left": null,
            "margin": null,
            "max_height": null,
            "max_width": null,
            "min_height": null,
            "min_width": null,
            "object_fit": null,
            "object_position": null,
            "order": null,
            "overflow": null,
            "overflow_x": null,
            "overflow_y": null,
            "padding": null,
            "right": null,
            "top": null,
            "visibility": null,
            "width": null
          }
        },
        "9da6b2e3a3b743f4a16c01ec159dfc89": {
          "model_module": "@jupyter-widgets/base",
          "model_module_version": "1.2.0",
          "model_name": "LayoutModel",
          "state": {
            "_model_module": "@jupyter-widgets/base",
            "_model_module_version": "1.2.0",
            "_model_name": "LayoutModel",
            "_view_count": null,
            "_view_module": "@jupyter-widgets/base",
            "_view_module_version": "1.2.0",
            "_view_name": "LayoutView",
            "align_content": null,
            "align_items": null,
            "align_self": null,
            "border": null,
            "bottom": null,
            "display": null,
            "flex": null,
            "flex_flow": null,
            "grid_area": null,
            "grid_auto_columns": null,
            "grid_auto_flow": null,
            "grid_auto_rows": null,
            "grid_column": null,
            "grid_gap": null,
            "grid_row": null,
            "grid_template_areas": null,
            "grid_template_columns": null,
            "grid_template_rows": null,
            "height": null,
            "justify_content": null,
            "justify_items": null,
            "left": null,
            "margin": null,
            "max_height": null,
            "max_width": null,
            "min_height": null,
            "min_width": null,
            "object_fit": null,
            "object_position": null,
            "order": null,
            "overflow": null,
            "overflow_x": null,
            "overflow_y": null,
            "padding": null,
            "right": null,
            "top": null,
            "visibility": null,
            "width": null
          }
        },
        "9eec2c0088f849348e78e1b4aa44aa20": {
          "model_module": "@jupyter-widgets/controls",
          "model_module_version": "1.5.0",
          "model_name": "HBoxModel",
          "state": {
            "_dom_classes": [],
            "_model_module": "@jupyter-widgets/controls",
            "_model_module_version": "1.5.0",
            "_model_name": "HBoxModel",
            "_view_count": null,
            "_view_module": "@jupyter-widgets/controls",
            "_view_module_version": "1.5.0",
            "_view_name": "HBoxView",
            "box_style": "",
            "children": [
              "IPY_MODEL_2afca47c6ebb4c04b018fcebf2837330",
              "IPY_MODEL_d00d6fde396043a2bd69ddcd2b349f14",
              "IPY_MODEL_12d957e7aaa44dd6bb09f00bc75522af"
            ],
            "layout": "IPY_MODEL_60b4b395c6a44a0890aeaecdfe4424cd"
          }
        },
        "9f13662a3c144d9aa88167c0e42f4bdd": {
          "model_module": "@jupyter-widgets/base",
          "model_module_version": "1.2.0",
          "model_name": "LayoutModel",
          "state": {
            "_model_module": "@jupyter-widgets/base",
            "_model_module_version": "1.2.0",
            "_model_name": "LayoutModel",
            "_view_count": null,
            "_view_module": "@jupyter-widgets/base",
            "_view_module_version": "1.2.0",
            "_view_name": "LayoutView",
            "align_content": null,
            "align_items": null,
            "align_self": null,
            "border": null,
            "bottom": null,
            "display": null,
            "flex": null,
            "flex_flow": null,
            "grid_area": null,
            "grid_auto_columns": null,
            "grid_auto_flow": null,
            "grid_auto_rows": null,
            "grid_column": null,
            "grid_gap": null,
            "grid_row": null,
            "grid_template_areas": null,
            "grid_template_columns": null,
            "grid_template_rows": null,
            "height": null,
            "justify_content": null,
            "justify_items": null,
            "left": null,
            "margin": null,
            "max_height": null,
            "max_width": null,
            "min_height": null,
            "min_width": null,
            "object_fit": null,
            "object_position": null,
            "order": null,
            "overflow": null,
            "overflow_x": null,
            "overflow_y": null,
            "padding": null,
            "right": null,
            "top": null,
            "visibility": "hidden",
            "width": null
          }
        },
        "a123c0f0214240dd91fe719e809e8661": {
          "model_module": "@jupyter-widgets/controls",
          "model_module_version": "1.5.0",
          "model_name": "HTMLModel",
          "state": {
            "_dom_classes": [],
            "_model_module": "@jupyter-widgets/controls",
            "_model_module_version": "1.5.0",
            "_model_name": "HTMLModel",
            "_view_count": null,
            "_view_module": "@jupyter-widgets/controls",
            "_view_module_version": "1.5.0",
            "_view_name": "HTMLView",
            "description": "",
            "description_tooltip": null,
            "layout": "IPY_MODEL_1bcce90d916b4389a2be18d4c6e4db2c",
            "placeholder": "​",
            "style": "IPY_MODEL_b92694c0d7554b5a8a91bff5ccc76741",
            "value": "Epoch 1/50 Batches: 100%"
          }
        },
        "a62c1cc324e449fdbdd2b9b98c00e00a": {
          "model_module": "@jupyter-widgets/base",
          "model_module_version": "1.2.0",
          "model_name": "LayoutModel",
          "state": {
            "_model_module": "@jupyter-widgets/base",
            "_model_module_version": "1.2.0",
            "_model_name": "LayoutModel",
            "_view_count": null,
            "_view_module": "@jupyter-widgets/base",
            "_view_module_version": "1.2.0",
            "_view_name": "LayoutView",
            "align_content": null,
            "align_items": null,
            "align_self": null,
            "border": null,
            "bottom": null,
            "display": null,
            "flex": null,
            "flex_flow": null,
            "grid_area": null,
            "grid_auto_columns": null,
            "grid_auto_flow": null,
            "grid_auto_rows": null,
            "grid_column": null,
            "grid_gap": null,
            "grid_row": null,
            "grid_template_areas": null,
            "grid_template_columns": null,
            "grid_template_rows": null,
            "height": null,
            "justify_content": null,
            "justify_items": null,
            "left": null,
            "margin": null,
            "max_height": null,
            "max_width": null,
            "min_height": null,
            "min_width": null,
            "object_fit": null,
            "object_position": null,
            "order": null,
            "overflow": null,
            "overflow_x": null,
            "overflow_y": null,
            "padding": null,
            "right": null,
            "top": null,
            "visibility": null,
            "width": null
          }
        },
        "a8677b4cd94a452c8c86fb8804882c18": {
          "model_module": "@jupyter-widgets/base",
          "model_module_version": "1.2.0",
          "model_name": "LayoutModel",
          "state": {
            "_model_module": "@jupyter-widgets/base",
            "_model_module_version": "1.2.0",
            "_model_name": "LayoutModel",
            "_view_count": null,
            "_view_module": "@jupyter-widgets/base",
            "_view_module_version": "1.2.0",
            "_view_name": "LayoutView",
            "align_content": null,
            "align_items": null,
            "align_self": null,
            "border": null,
            "bottom": null,
            "display": null,
            "flex": null,
            "flex_flow": null,
            "grid_area": null,
            "grid_auto_columns": null,
            "grid_auto_flow": null,
            "grid_auto_rows": null,
            "grid_column": null,
            "grid_gap": null,
            "grid_row": null,
            "grid_template_areas": null,
            "grid_template_columns": null,
            "grid_template_rows": null,
            "height": null,
            "justify_content": null,
            "justify_items": null,
            "left": null,
            "margin": null,
            "max_height": null,
            "max_width": null,
            "min_height": null,
            "min_width": null,
            "object_fit": null,
            "object_position": null,
            "order": null,
            "overflow": null,
            "overflow_x": null,
            "overflow_y": null,
            "padding": null,
            "right": null,
            "top": null,
            "visibility": null,
            "width": null
          }
        },
        "aab9d939e7d745099af7d39f40b29112": {
          "model_module": "@jupyter-widgets/base",
          "model_module_version": "1.2.0",
          "model_name": "LayoutModel",
          "state": {
            "_model_module": "@jupyter-widgets/base",
            "_model_module_version": "1.2.0",
            "_model_name": "LayoutModel",
            "_view_count": null,
            "_view_module": "@jupyter-widgets/base",
            "_view_module_version": "1.2.0",
            "_view_name": "LayoutView",
            "align_content": null,
            "align_items": null,
            "align_self": null,
            "border": null,
            "bottom": null,
            "display": null,
            "flex": null,
            "flex_flow": null,
            "grid_area": null,
            "grid_auto_columns": null,
            "grid_auto_flow": null,
            "grid_auto_rows": null,
            "grid_column": null,
            "grid_gap": null,
            "grid_row": null,
            "grid_template_areas": null,
            "grid_template_columns": null,
            "grid_template_rows": null,
            "height": null,
            "justify_content": null,
            "justify_items": null,
            "left": null,
            "margin": null,
            "max_height": null,
            "max_width": null,
            "min_height": null,
            "min_width": null,
            "object_fit": null,
            "object_position": null,
            "order": null,
            "overflow": null,
            "overflow_x": null,
            "overflow_y": null,
            "padding": null,
            "right": null,
            "top": null,
            "visibility": null,
            "width": null
          }
        },
        "acbfc977d18c4bdc894064d4c7664845": {
          "model_module": "@jupyter-widgets/controls",
          "model_module_version": "1.5.0",
          "model_name": "HBoxModel",
          "state": {
            "_dom_classes": [],
            "_model_module": "@jupyter-widgets/controls",
            "_model_module_version": "1.5.0",
            "_model_name": "HBoxModel",
            "_view_count": null,
            "_view_module": "@jupyter-widgets/controls",
            "_view_module_version": "1.5.0",
            "_view_name": "HBoxView",
            "box_style": "",
            "children": [
              "IPY_MODEL_a123c0f0214240dd91fe719e809e8661",
              "IPY_MODEL_87dd83da4b604765a46afd75f21a8266",
              "IPY_MODEL_612a14912b8342c6b3b8c4b00d7a27e9"
            ],
            "layout": "IPY_MODEL_9f13662a3c144d9aa88167c0e42f4bdd"
          }
        },
        "ad7e4c5a5db24d54960a9a8f8de7bf1d": {
          "model_module": "@jupyter-widgets/base",
          "model_module_version": "1.2.0",
          "model_name": "LayoutModel",
          "state": {
            "_model_module": "@jupyter-widgets/base",
            "_model_module_version": "1.2.0",
            "_model_name": "LayoutModel",
            "_view_count": null,
            "_view_module": "@jupyter-widgets/base",
            "_view_module_version": "1.2.0",
            "_view_name": "LayoutView",
            "align_content": null,
            "align_items": null,
            "align_self": null,
            "border": null,
            "bottom": null,
            "display": null,
            "flex": null,
            "flex_flow": null,
            "grid_area": null,
            "grid_auto_columns": null,
            "grid_auto_flow": null,
            "grid_auto_rows": null,
            "grid_column": null,
            "grid_gap": null,
            "grid_row": null,
            "grid_template_areas": null,
            "grid_template_columns": null,
            "grid_template_rows": null,
            "height": null,
            "justify_content": null,
            "justify_items": null,
            "left": null,
            "margin": null,
            "max_height": null,
            "max_width": null,
            "min_height": null,
            "min_width": null,
            "object_fit": null,
            "object_position": null,
            "order": null,
            "overflow": null,
            "overflow_x": null,
            "overflow_y": null,
            "padding": null,
            "right": null,
            "top": null,
            "visibility": null,
            "width": null
          }
        },
        "ada4616bbb314b3389b59b2141b2ab80": {
          "model_module": "@jupyter-widgets/controls",
          "model_module_version": "1.5.0",
          "model_name": "ProgressStyleModel",
          "state": {
            "_model_module": "@jupyter-widgets/controls",
            "_model_module_version": "1.5.0",
            "_model_name": "ProgressStyleModel",
            "_view_count": null,
            "_view_module": "@jupyter-widgets/base",
            "_view_module_version": "1.2.0",
            "_view_name": "StyleView",
            "bar_color": null,
            "description_width": ""
          }
        },
        "afe402ef6f004cdfb3bd1a0d795e0cf2": {
          "model_module": "@jupyter-widgets/controls",
          "model_module_version": "1.5.0",
          "model_name": "HTMLModel",
          "state": {
            "_dom_classes": [],
            "_model_module": "@jupyter-widgets/controls",
            "_model_module_version": "1.5.0",
            "_model_name": "HTMLModel",
            "_view_count": null,
            "_view_module": "@jupyter-widgets/controls",
            "_view_module_version": "1.5.0",
            "_view_name": "HTMLView",
            "description": "",
            "description_tooltip": null,
            "layout": "IPY_MODEL_2b29cfa9aa2b4930abc50b9f6a85387a",
            "placeholder": "​",
            "style": "IPY_MODEL_f9039a8e61d443888d9c647f27b1db29",
            "value": "Epoch 14/50 Batches: 100%"
          }
        },
        "b2a8120ce4c34ec4aa2ea90d43d4f85f": {
          "model_module": "@jupyter-widgets/controls",
          "model_module_version": "1.5.0",
          "model_name": "ProgressStyleModel",
          "state": {
            "_model_module": "@jupyter-widgets/controls",
            "_model_module_version": "1.5.0",
            "_model_name": "ProgressStyleModel",
            "_view_count": null,
            "_view_module": "@jupyter-widgets/base",
            "_view_module_version": "1.2.0",
            "_view_name": "StyleView",
            "bar_color": null,
            "description_width": ""
          }
        },
        "b42a8a6340474536bbce6d673525b30e": {
          "model_module": "@jupyter-widgets/base",
          "model_module_version": "1.2.0",
          "model_name": "LayoutModel",
          "state": {
            "_model_module": "@jupyter-widgets/base",
            "_model_module_version": "1.2.0",
            "_model_name": "LayoutModel",
            "_view_count": null,
            "_view_module": "@jupyter-widgets/base",
            "_view_module_version": "1.2.0",
            "_view_name": "LayoutView",
            "align_content": null,
            "align_items": null,
            "align_self": null,
            "border": null,
            "bottom": null,
            "display": null,
            "flex": null,
            "flex_flow": null,
            "grid_area": null,
            "grid_auto_columns": null,
            "grid_auto_flow": null,
            "grid_auto_rows": null,
            "grid_column": null,
            "grid_gap": null,
            "grid_row": null,
            "grid_template_areas": null,
            "grid_template_columns": null,
            "grid_template_rows": null,
            "height": null,
            "justify_content": null,
            "justify_items": null,
            "left": null,
            "margin": null,
            "max_height": null,
            "max_width": null,
            "min_height": null,
            "min_width": null,
            "object_fit": null,
            "object_position": null,
            "order": null,
            "overflow": null,
            "overflow_x": null,
            "overflow_y": null,
            "padding": null,
            "right": null,
            "top": null,
            "visibility": null,
            "width": null
          }
        },
        "b5e74c8f4078458fb459703fbdc28dfb": {
          "model_module": "@jupyter-widgets/base",
          "model_module_version": "1.2.0",
          "model_name": "LayoutModel",
          "state": {
            "_model_module": "@jupyter-widgets/base",
            "_model_module_version": "1.2.0",
            "_model_name": "LayoutModel",
            "_view_count": null,
            "_view_module": "@jupyter-widgets/base",
            "_view_module_version": "1.2.0",
            "_view_name": "LayoutView",
            "align_content": null,
            "align_items": null,
            "align_self": null,
            "border": null,
            "bottom": null,
            "display": null,
            "flex": null,
            "flex_flow": null,
            "grid_area": null,
            "grid_auto_columns": null,
            "grid_auto_flow": null,
            "grid_auto_rows": null,
            "grid_column": null,
            "grid_gap": null,
            "grid_row": null,
            "grid_template_areas": null,
            "grid_template_columns": null,
            "grid_template_rows": null,
            "height": null,
            "justify_content": null,
            "justify_items": null,
            "left": null,
            "margin": null,
            "max_height": null,
            "max_width": null,
            "min_height": null,
            "min_width": null,
            "object_fit": null,
            "object_position": null,
            "order": null,
            "overflow": null,
            "overflow_x": null,
            "overflow_y": null,
            "padding": null,
            "right": null,
            "top": null,
            "visibility": null,
            "width": null
          }
        },
        "b846957ac22842e6b13820fe1b7b6566": {
          "model_module": "@jupyter-widgets/base",
          "model_module_version": "1.2.0",
          "model_name": "LayoutModel",
          "state": {
            "_model_module": "@jupyter-widgets/base",
            "_model_module_version": "1.2.0",
            "_model_name": "LayoutModel",
            "_view_count": null,
            "_view_module": "@jupyter-widgets/base",
            "_view_module_version": "1.2.0",
            "_view_name": "LayoutView",
            "align_content": null,
            "align_items": null,
            "align_self": null,
            "border": null,
            "bottom": null,
            "display": null,
            "flex": null,
            "flex_flow": null,
            "grid_area": null,
            "grid_auto_columns": null,
            "grid_auto_flow": null,
            "grid_auto_rows": null,
            "grid_column": null,
            "grid_gap": null,
            "grid_row": null,
            "grid_template_areas": null,
            "grid_template_columns": null,
            "grid_template_rows": null,
            "height": null,
            "justify_content": null,
            "justify_items": null,
            "left": null,
            "margin": null,
            "max_height": null,
            "max_width": null,
            "min_height": null,
            "min_width": null,
            "object_fit": null,
            "object_position": null,
            "order": null,
            "overflow": null,
            "overflow_x": null,
            "overflow_y": null,
            "padding": null,
            "right": null,
            "top": null,
            "visibility": null,
            "width": null
          }
        },
        "b8ffe59a249241609fb7137c0bea4354": {
          "model_module": "@jupyter-widgets/controls",
          "model_module_version": "1.5.0",
          "model_name": "ProgressStyleModel",
          "state": {
            "_model_module": "@jupyter-widgets/controls",
            "_model_module_version": "1.5.0",
            "_model_name": "ProgressStyleModel",
            "_view_count": null,
            "_view_module": "@jupyter-widgets/base",
            "_view_module_version": "1.2.0",
            "_view_name": "StyleView",
            "bar_color": null,
            "description_width": ""
          }
        },
        "b92694c0d7554b5a8a91bff5ccc76741": {
          "model_module": "@jupyter-widgets/controls",
          "model_module_version": "1.5.0",
          "model_name": "DescriptionStyleModel",
          "state": {
            "_model_module": "@jupyter-widgets/controls",
            "_model_module_version": "1.5.0",
            "_model_name": "DescriptionStyleModel",
            "_view_count": null,
            "_view_module": "@jupyter-widgets/base",
            "_view_module_version": "1.2.0",
            "_view_name": "StyleView",
            "description_width": ""
          }
        },
        "bc778103d21b4c10a752b50972b02b82": {
          "model_module": "@jupyter-widgets/controls",
          "model_module_version": "1.5.0",
          "model_name": "FloatProgressModel",
          "state": {
            "_dom_classes": [],
            "_model_module": "@jupyter-widgets/controls",
            "_model_module_version": "1.5.0",
            "_model_name": "FloatProgressModel",
            "_view_count": null,
            "_view_module": "@jupyter-widgets/controls",
            "_view_module_version": "1.5.0",
            "_view_name": "ProgressView",
            "bar_style": "",
            "description": "",
            "description_tooltip": null,
            "layout": "IPY_MODEL_974041443f7b44be93ebd964de220a44",
            "max": 116,
            "min": 0,
            "orientation": "horizontal",
            "style": "IPY_MODEL_c93d7450513f4b7e8135c59bd64e77d6",
            "value": 116
          }
        },
        "be35c475867e4d179c9f1e785f812ab0": {
          "model_module": "@jupyter-widgets/controls",
          "model_module_version": "1.5.0",
          "model_name": "HTMLModel",
          "state": {
            "_dom_classes": [],
            "_model_module": "@jupyter-widgets/controls",
            "_model_module_version": "1.5.0",
            "_model_name": "HTMLModel",
            "_view_count": null,
            "_view_module": "@jupyter-widgets/controls",
            "_view_module_version": "1.5.0",
            "_view_name": "HTMLView",
            "description": "",
            "description_tooltip": null,
            "layout": "IPY_MODEL_5f11adbe3c98486db598b07548c3999c",
            "placeholder": "​",
            "style": "IPY_MODEL_d1412881c6c0411980511e410be5bc7a",
            "value": "Epoch 13/50 Batches: 100%"
          }
        },
        "bf6df3929ed2425cbe7d0f30697499e6": {
          "model_module": "@jupyter-widgets/controls",
          "model_module_version": "1.5.0",
          "model_name": "FloatProgressModel",
          "state": {
            "_dom_classes": [],
            "_model_module": "@jupyter-widgets/controls",
            "_model_module_version": "1.5.0",
            "_model_name": "FloatProgressModel",
            "_view_count": null,
            "_view_module": "@jupyter-widgets/controls",
            "_view_module_version": "1.5.0",
            "_view_name": "ProgressView",
            "bar_style": "",
            "description": "",
            "description_tooltip": null,
            "layout": "IPY_MODEL_ece3d48063f14758aaba363c6e42f5d9",
            "max": 116,
            "min": 0,
            "orientation": "horizontal",
            "style": "IPY_MODEL_d19e7c0958504200ad24ee22a16aa71e",
            "value": 116
          }
        },
        "c23ab65280574de785d51678aa8b5ce7": {
          "model_module": "@jupyter-widgets/base",
          "model_module_version": "1.2.0",
          "model_name": "LayoutModel",
          "state": {
            "_model_module": "@jupyter-widgets/base",
            "_model_module_version": "1.2.0",
            "_model_name": "LayoutModel",
            "_view_count": null,
            "_view_module": "@jupyter-widgets/base",
            "_view_module_version": "1.2.0",
            "_view_name": "LayoutView",
            "align_content": null,
            "align_items": null,
            "align_self": null,
            "border": null,
            "bottom": null,
            "display": null,
            "flex": null,
            "flex_flow": null,
            "grid_area": null,
            "grid_auto_columns": null,
            "grid_auto_flow": null,
            "grid_auto_rows": null,
            "grid_column": null,
            "grid_gap": null,
            "grid_row": null,
            "grid_template_areas": null,
            "grid_template_columns": null,
            "grid_template_rows": null,
            "height": null,
            "justify_content": null,
            "justify_items": null,
            "left": null,
            "margin": null,
            "max_height": null,
            "max_width": null,
            "min_height": null,
            "min_width": null,
            "object_fit": null,
            "object_position": null,
            "order": null,
            "overflow": null,
            "overflow_x": null,
            "overflow_y": null,
            "padding": null,
            "right": null,
            "top": null,
            "visibility": null,
            "width": null
          }
        },
        "c23c01c90dfb4fce85d652498ad060ab": {
          "model_module": "@jupyter-widgets/base",
          "model_module_version": "1.2.0",
          "model_name": "LayoutModel",
          "state": {
            "_model_module": "@jupyter-widgets/base",
            "_model_module_version": "1.2.0",
            "_model_name": "LayoutModel",
            "_view_count": null,
            "_view_module": "@jupyter-widgets/base",
            "_view_module_version": "1.2.0",
            "_view_name": "LayoutView",
            "align_content": null,
            "align_items": null,
            "align_self": null,
            "border": null,
            "bottom": null,
            "display": null,
            "flex": null,
            "flex_flow": null,
            "grid_area": null,
            "grid_auto_columns": null,
            "grid_auto_flow": null,
            "grid_auto_rows": null,
            "grid_column": null,
            "grid_gap": null,
            "grid_row": null,
            "grid_template_areas": null,
            "grid_template_columns": null,
            "grid_template_rows": null,
            "height": null,
            "justify_content": null,
            "justify_items": null,
            "left": null,
            "margin": null,
            "max_height": null,
            "max_width": null,
            "min_height": null,
            "min_width": null,
            "object_fit": null,
            "object_position": null,
            "order": null,
            "overflow": null,
            "overflow_x": null,
            "overflow_y": null,
            "padding": null,
            "right": null,
            "top": null,
            "visibility": "hidden",
            "width": null
          }
        },
        "c2e9a4bde26343059a4e3c445eaa92ee": {
          "model_module": "@jupyter-widgets/controls",
          "model_module_version": "1.5.0",
          "model_name": "DescriptionStyleModel",
          "state": {
            "_model_module": "@jupyter-widgets/controls",
            "_model_module_version": "1.5.0",
            "_model_name": "DescriptionStyleModel",
            "_view_count": null,
            "_view_module": "@jupyter-widgets/base",
            "_view_module_version": "1.2.0",
            "_view_name": "StyleView",
            "description_width": ""
          }
        },
        "c4193a202c9e4dc6873b0473d2b57117": {
          "model_module": "@jupyter-widgets/base",
          "model_module_version": "1.2.0",
          "model_name": "LayoutModel",
          "state": {
            "_model_module": "@jupyter-widgets/base",
            "_model_module_version": "1.2.0",
            "_model_name": "LayoutModel",
            "_view_count": null,
            "_view_module": "@jupyter-widgets/base",
            "_view_module_version": "1.2.0",
            "_view_name": "LayoutView",
            "align_content": null,
            "align_items": null,
            "align_self": null,
            "border": null,
            "bottom": null,
            "display": null,
            "flex": null,
            "flex_flow": null,
            "grid_area": null,
            "grid_auto_columns": null,
            "grid_auto_flow": null,
            "grid_auto_rows": null,
            "grid_column": null,
            "grid_gap": null,
            "grid_row": null,
            "grid_template_areas": null,
            "grid_template_columns": null,
            "grid_template_rows": null,
            "height": null,
            "justify_content": null,
            "justify_items": null,
            "left": null,
            "margin": null,
            "max_height": null,
            "max_width": null,
            "min_height": null,
            "min_width": null,
            "object_fit": null,
            "object_position": null,
            "order": null,
            "overflow": null,
            "overflow_x": null,
            "overflow_y": null,
            "padding": null,
            "right": null,
            "top": null,
            "visibility": null,
            "width": null
          }
        },
        "c46f1266dae4446da66ba468ec5dd19e": {
          "model_module": "@jupyter-widgets/base",
          "model_module_version": "1.2.0",
          "model_name": "LayoutModel",
          "state": {
            "_model_module": "@jupyter-widgets/base",
            "_model_module_version": "1.2.0",
            "_model_name": "LayoutModel",
            "_view_count": null,
            "_view_module": "@jupyter-widgets/base",
            "_view_module_version": "1.2.0",
            "_view_name": "LayoutView",
            "align_content": null,
            "align_items": null,
            "align_self": null,
            "border": null,
            "bottom": null,
            "display": null,
            "flex": null,
            "flex_flow": null,
            "grid_area": null,
            "grid_auto_columns": null,
            "grid_auto_flow": null,
            "grid_auto_rows": null,
            "grid_column": null,
            "grid_gap": null,
            "grid_row": null,
            "grid_template_areas": null,
            "grid_template_columns": null,
            "grid_template_rows": null,
            "height": null,
            "justify_content": null,
            "justify_items": null,
            "left": null,
            "margin": null,
            "max_height": null,
            "max_width": null,
            "min_height": null,
            "min_width": null,
            "object_fit": null,
            "object_position": null,
            "order": null,
            "overflow": null,
            "overflow_x": null,
            "overflow_y": null,
            "padding": null,
            "right": null,
            "top": null,
            "visibility": null,
            "width": null
          }
        },
        "c82de99308684b398c5949e7e1f1b382": {
          "model_module": "@jupyter-widgets/controls",
          "model_module_version": "1.5.0",
          "model_name": "DescriptionStyleModel",
          "state": {
            "_model_module": "@jupyter-widgets/controls",
            "_model_module_version": "1.5.0",
            "_model_name": "DescriptionStyleModel",
            "_view_count": null,
            "_view_module": "@jupyter-widgets/base",
            "_view_module_version": "1.2.0",
            "_view_name": "StyleView",
            "description_width": ""
          }
        },
        "c93d7450513f4b7e8135c59bd64e77d6": {
          "model_module": "@jupyter-widgets/controls",
          "model_module_version": "1.5.0",
          "model_name": "ProgressStyleModel",
          "state": {
            "_model_module": "@jupyter-widgets/controls",
            "_model_module_version": "1.5.0",
            "_model_name": "ProgressStyleModel",
            "_view_count": null,
            "_view_module": "@jupyter-widgets/base",
            "_view_module_version": "1.2.0",
            "_view_name": "StyleView",
            "bar_color": null,
            "description_width": ""
          }
        },
        "caebd3e4ae1047559eb5f68c550ed3ed": {
          "model_module": "@jupyter-widgets/controls",
          "model_module_version": "1.5.0",
          "model_name": "HTMLModel",
          "state": {
            "_dom_classes": [],
            "_model_module": "@jupyter-widgets/controls",
            "_model_module_version": "1.5.0",
            "_model_name": "HTMLModel",
            "_view_count": null,
            "_view_module": "@jupyter-widgets/controls",
            "_view_module_version": "1.5.0",
            "_view_name": "HTMLView",
            "description": "",
            "description_tooltip": null,
            "layout": "IPY_MODEL_383fdeadb07048428131ff58958fb476",
            "placeholder": "​",
            "style": "IPY_MODEL_d0f2c03893e549fabf3a161cc9eaf87c",
            "value": " 116/116 [00:51&lt;00:00,  2.18it/s]"
          }
        },
        "ccd2f21dce9f4eccb84534ee6202b535": {
          "model_module": "@jupyter-widgets/base",
          "model_module_version": "1.2.0",
          "model_name": "LayoutModel",
          "state": {
            "_model_module": "@jupyter-widgets/base",
            "_model_module_version": "1.2.0",
            "_model_name": "LayoutModel",
            "_view_count": null,
            "_view_module": "@jupyter-widgets/base",
            "_view_module_version": "1.2.0",
            "_view_name": "LayoutView",
            "align_content": null,
            "align_items": null,
            "align_self": null,
            "border": null,
            "bottom": null,
            "display": null,
            "flex": null,
            "flex_flow": null,
            "grid_area": null,
            "grid_auto_columns": null,
            "grid_auto_flow": null,
            "grid_auto_rows": null,
            "grid_column": null,
            "grid_gap": null,
            "grid_row": null,
            "grid_template_areas": null,
            "grid_template_columns": null,
            "grid_template_rows": null,
            "height": null,
            "justify_content": null,
            "justify_items": null,
            "left": null,
            "margin": null,
            "max_height": null,
            "max_width": null,
            "min_height": null,
            "min_width": null,
            "object_fit": null,
            "object_position": null,
            "order": null,
            "overflow": null,
            "overflow_x": null,
            "overflow_y": null,
            "padding": null,
            "right": null,
            "top": null,
            "visibility": null,
            "width": null
          }
        },
        "cda713d54fe64f2b949d6f07f195c8bb": {
          "model_module": "@jupyter-widgets/controls",
          "model_module_version": "1.5.0",
          "model_name": "HBoxModel",
          "state": {
            "_dom_classes": [],
            "_model_module": "@jupyter-widgets/controls",
            "_model_module_version": "1.5.0",
            "_model_name": "HBoxModel",
            "_view_count": null,
            "_view_module": "@jupyter-widgets/controls",
            "_view_module_version": "1.5.0",
            "_view_name": "HBoxView",
            "box_style": "",
            "children": [
              "IPY_MODEL_0e5f74f5db6d43079ab574e0a6a3ccfe",
              "IPY_MODEL_bf6df3929ed2425cbe7d0f30697499e6",
              "IPY_MODEL_7dabfe65b0f04d0285aa0d0a30fbbe54"
            ],
            "layout": "IPY_MODEL_4c6778a0e7064990aec8580a5dafcb72"
          }
        },
        "ce08190ba5534aa1b8b150e48f666823": {
          "model_module": "@jupyter-widgets/base",
          "model_module_version": "1.2.0",
          "model_name": "LayoutModel",
          "state": {
            "_model_module": "@jupyter-widgets/base",
            "_model_module_version": "1.2.0",
            "_model_name": "LayoutModel",
            "_view_count": null,
            "_view_module": "@jupyter-widgets/base",
            "_view_module_version": "1.2.0",
            "_view_name": "LayoutView",
            "align_content": null,
            "align_items": null,
            "align_self": null,
            "border": null,
            "bottom": null,
            "display": null,
            "flex": null,
            "flex_flow": null,
            "grid_area": null,
            "grid_auto_columns": null,
            "grid_auto_flow": null,
            "grid_auto_rows": null,
            "grid_column": null,
            "grid_gap": null,
            "grid_row": null,
            "grid_template_areas": null,
            "grid_template_columns": null,
            "grid_template_rows": null,
            "height": null,
            "justify_content": null,
            "justify_items": null,
            "left": null,
            "margin": null,
            "max_height": null,
            "max_width": null,
            "min_height": null,
            "min_width": null,
            "object_fit": null,
            "object_position": null,
            "order": null,
            "overflow": null,
            "overflow_x": null,
            "overflow_y": null,
            "padding": null,
            "right": null,
            "top": null,
            "visibility": "hidden",
            "width": null
          }
        },
        "d00d6fde396043a2bd69ddcd2b349f14": {
          "model_module": "@jupyter-widgets/controls",
          "model_module_version": "1.5.0",
          "model_name": "FloatProgressModel",
          "state": {
            "_dom_classes": [],
            "_model_module": "@jupyter-widgets/controls",
            "_model_module_version": "1.5.0",
            "_model_name": "FloatProgressModel",
            "_view_count": null,
            "_view_module": "@jupyter-widgets/controls",
            "_view_module_version": "1.5.0",
            "_view_name": "ProgressView",
            "bar_style": "",
            "description": "",
            "description_tooltip": null,
            "layout": "IPY_MODEL_07e9deacc4ad45e4877d4087961f1b60",
            "max": 116,
            "min": 0,
            "orientation": "horizontal",
            "style": "IPY_MODEL_30d3742181ec42a7aab68488d4d6e3ca",
            "value": 116
          }
        },
        "d0f2c03893e549fabf3a161cc9eaf87c": {
          "model_module": "@jupyter-widgets/controls",
          "model_module_version": "1.5.0",
          "model_name": "DescriptionStyleModel",
          "state": {
            "_model_module": "@jupyter-widgets/controls",
            "_model_module_version": "1.5.0",
            "_model_name": "DescriptionStyleModel",
            "_view_count": null,
            "_view_module": "@jupyter-widgets/base",
            "_view_module_version": "1.2.0",
            "_view_name": "StyleView",
            "description_width": ""
          }
        },
        "d1372218aecb48eebc3a84b5d9458d7b": {
          "model_module": "@jupyter-widgets/controls",
          "model_module_version": "1.5.0",
          "model_name": "FloatProgressModel",
          "state": {
            "_dom_classes": [],
            "_model_module": "@jupyter-widgets/controls",
            "_model_module_version": "1.5.0",
            "_model_name": "FloatProgressModel",
            "_view_count": null,
            "_view_module": "@jupyter-widgets/controls",
            "_view_module_version": "1.5.0",
            "_view_name": "ProgressView",
            "bar_style": "",
            "description": "",
            "description_tooltip": null,
            "layout": "IPY_MODEL_4332d3ec467045b8af27f8137aff78e5",
            "max": 116,
            "min": 0,
            "orientation": "horizontal",
            "style": "IPY_MODEL_0d793cbed85b41d9acbdec64a6ce7928",
            "value": 116
          }
        },
        "d1412881c6c0411980511e410be5bc7a": {
          "model_module": "@jupyter-widgets/controls",
          "model_module_version": "1.5.0",
          "model_name": "DescriptionStyleModel",
          "state": {
            "_model_module": "@jupyter-widgets/controls",
            "_model_module_version": "1.5.0",
            "_model_name": "DescriptionStyleModel",
            "_view_count": null,
            "_view_module": "@jupyter-widgets/base",
            "_view_module_version": "1.2.0",
            "_view_name": "StyleView",
            "description_width": ""
          }
        },
        "d19e7c0958504200ad24ee22a16aa71e": {
          "model_module": "@jupyter-widgets/controls",
          "model_module_version": "1.5.0",
          "model_name": "ProgressStyleModel",
          "state": {
            "_model_module": "@jupyter-widgets/controls",
            "_model_module_version": "1.5.0",
            "_model_name": "ProgressStyleModel",
            "_view_count": null,
            "_view_module": "@jupyter-widgets/base",
            "_view_module_version": "1.2.0",
            "_view_name": "StyleView",
            "bar_color": null,
            "description_width": ""
          }
        },
        "d375cb2198d141d5aee083a6857df7a2": {
          "model_module": "@jupyter-widgets/base",
          "model_module_version": "1.2.0",
          "model_name": "LayoutModel",
          "state": {
            "_model_module": "@jupyter-widgets/base",
            "_model_module_version": "1.2.0",
            "_model_name": "LayoutModel",
            "_view_count": null,
            "_view_module": "@jupyter-widgets/base",
            "_view_module_version": "1.2.0",
            "_view_name": "LayoutView",
            "align_content": null,
            "align_items": null,
            "align_self": null,
            "border": null,
            "bottom": null,
            "display": null,
            "flex": null,
            "flex_flow": null,
            "grid_area": null,
            "grid_auto_columns": null,
            "grid_auto_flow": null,
            "grid_auto_rows": null,
            "grid_column": null,
            "grid_gap": null,
            "grid_row": null,
            "grid_template_areas": null,
            "grid_template_columns": null,
            "grid_template_rows": null,
            "height": null,
            "justify_content": null,
            "justify_items": null,
            "left": null,
            "margin": null,
            "max_height": null,
            "max_width": null,
            "min_height": null,
            "min_width": null,
            "object_fit": null,
            "object_position": null,
            "order": null,
            "overflow": null,
            "overflow_x": null,
            "overflow_y": null,
            "padding": null,
            "right": null,
            "top": null,
            "visibility": null,
            "width": null
          }
        },
        "d538727791bc4376be8f71fb20043152": {
          "model_module": "@jupyter-widgets/base",
          "model_module_version": "1.2.0",
          "model_name": "LayoutModel",
          "state": {
            "_model_module": "@jupyter-widgets/base",
            "_model_module_version": "1.2.0",
            "_model_name": "LayoutModel",
            "_view_count": null,
            "_view_module": "@jupyter-widgets/base",
            "_view_module_version": "1.2.0",
            "_view_name": "LayoutView",
            "align_content": null,
            "align_items": null,
            "align_self": null,
            "border": null,
            "bottom": null,
            "display": null,
            "flex": null,
            "flex_flow": null,
            "grid_area": null,
            "grid_auto_columns": null,
            "grid_auto_flow": null,
            "grid_auto_rows": null,
            "grid_column": null,
            "grid_gap": null,
            "grid_row": null,
            "grid_template_areas": null,
            "grid_template_columns": null,
            "grid_template_rows": null,
            "height": null,
            "justify_content": null,
            "justify_items": null,
            "left": null,
            "margin": null,
            "max_height": null,
            "max_width": null,
            "min_height": null,
            "min_width": null,
            "object_fit": null,
            "object_position": null,
            "order": null,
            "overflow": null,
            "overflow_x": null,
            "overflow_y": null,
            "padding": null,
            "right": null,
            "top": null,
            "visibility": "hidden",
            "width": null
          }
        },
        "d54d9d0a23f44a9293f1e143e0ba4b75": {
          "model_module": "@jupyter-widgets/base",
          "model_module_version": "1.2.0",
          "model_name": "LayoutModel",
          "state": {
            "_model_module": "@jupyter-widgets/base",
            "_model_module_version": "1.2.0",
            "_model_name": "LayoutModel",
            "_view_count": null,
            "_view_module": "@jupyter-widgets/base",
            "_view_module_version": "1.2.0",
            "_view_name": "LayoutView",
            "align_content": null,
            "align_items": null,
            "align_self": null,
            "border": null,
            "bottom": null,
            "display": null,
            "flex": null,
            "flex_flow": null,
            "grid_area": null,
            "grid_auto_columns": null,
            "grid_auto_flow": null,
            "grid_auto_rows": null,
            "grid_column": null,
            "grid_gap": null,
            "grid_row": null,
            "grid_template_areas": null,
            "grid_template_columns": null,
            "grid_template_rows": null,
            "height": null,
            "justify_content": null,
            "justify_items": null,
            "left": null,
            "margin": null,
            "max_height": null,
            "max_width": null,
            "min_height": null,
            "min_width": null,
            "object_fit": null,
            "object_position": null,
            "order": null,
            "overflow": null,
            "overflow_x": null,
            "overflow_y": null,
            "padding": null,
            "right": null,
            "top": null,
            "visibility": "hidden",
            "width": null
          }
        },
        "d5c6708129d24c5ba8b98d3e6ca08878": {
          "model_module": "@jupyter-widgets/controls",
          "model_module_version": "1.5.0",
          "model_name": "HTMLModel",
          "state": {
            "_dom_classes": [],
            "_model_module": "@jupyter-widgets/controls",
            "_model_module_version": "1.5.0",
            "_model_name": "HTMLModel",
            "_view_count": null,
            "_view_module": "@jupyter-widgets/controls",
            "_view_module_version": "1.5.0",
            "_view_name": "HTMLView",
            "description": "",
            "description_tooltip": null,
            "layout": "IPY_MODEL_48e45110b76e410ca7a4a66825c25e57",
            "placeholder": "​",
            "style": "IPY_MODEL_0960965738504a0a8ddcfb74c3de1e56",
            "value": " 116/116 [00:51&lt;00:00,  2.24it/s]"
          }
        },
        "d616540d74bd4d0dad6549483faf90dc": {
          "model_module": "@jupyter-widgets/controls",
          "model_module_version": "1.5.0",
          "model_name": "HBoxModel",
          "state": {
            "_dom_classes": [],
            "_model_module": "@jupyter-widgets/controls",
            "_model_module_version": "1.5.0",
            "_model_name": "HBoxModel",
            "_view_count": null,
            "_view_module": "@jupyter-widgets/controls",
            "_view_module_version": "1.5.0",
            "_view_name": "HBoxView",
            "box_style": "",
            "children": [
              "IPY_MODEL_6121f565b4b344b59d18c7181277ab6e",
              "IPY_MODEL_66685fcaf9674ff1bfde6b56af7b4475",
              "IPY_MODEL_29eca0832eee42a58882d61ad4ab9d53"
            ],
            "layout": "IPY_MODEL_b5e74c8f4078458fb459703fbdc28dfb"
          }
        },
        "db43fdf4f8854666aef4197b850a1fef": {
          "model_module": "@jupyter-widgets/base",
          "model_module_version": "1.2.0",
          "model_name": "LayoutModel",
          "state": {
            "_model_module": "@jupyter-widgets/base",
            "_model_module_version": "1.2.0",
            "_model_name": "LayoutModel",
            "_view_count": null,
            "_view_module": "@jupyter-widgets/base",
            "_view_module_version": "1.2.0",
            "_view_name": "LayoutView",
            "align_content": null,
            "align_items": null,
            "align_self": null,
            "border": null,
            "bottom": null,
            "display": null,
            "flex": null,
            "flex_flow": null,
            "grid_area": null,
            "grid_auto_columns": null,
            "grid_auto_flow": null,
            "grid_auto_rows": null,
            "grid_column": null,
            "grid_gap": null,
            "grid_row": null,
            "grid_template_areas": null,
            "grid_template_columns": null,
            "grid_template_rows": null,
            "height": null,
            "justify_content": null,
            "justify_items": null,
            "left": null,
            "margin": null,
            "max_height": null,
            "max_width": null,
            "min_height": null,
            "min_width": null,
            "object_fit": null,
            "object_position": null,
            "order": null,
            "overflow": null,
            "overflow_x": null,
            "overflow_y": null,
            "padding": null,
            "right": null,
            "top": null,
            "visibility": null,
            "width": null
          }
        },
        "dc22ada2e8da4fad8e7806e3561b191f": {
          "model_module": "@jupyter-widgets/controls",
          "model_module_version": "1.5.0",
          "model_name": "DescriptionStyleModel",
          "state": {
            "_model_module": "@jupyter-widgets/controls",
            "_model_module_version": "1.5.0",
            "_model_name": "DescriptionStyleModel",
            "_view_count": null,
            "_view_module": "@jupyter-widgets/base",
            "_view_module_version": "1.2.0",
            "_view_name": "StyleView",
            "description_width": ""
          }
        },
        "dd19295767b14833bd57a9fc420049b3": {
          "model_module": "@jupyter-widgets/controls",
          "model_module_version": "1.5.0",
          "model_name": "FloatProgressModel",
          "state": {
            "_dom_classes": [],
            "_model_module": "@jupyter-widgets/controls",
            "_model_module_version": "1.5.0",
            "_model_name": "FloatProgressModel",
            "_view_count": null,
            "_view_module": "@jupyter-widgets/controls",
            "_view_module_version": "1.5.0",
            "_view_name": "ProgressView",
            "bar_style": "",
            "description": "",
            "description_tooltip": null,
            "layout": "IPY_MODEL_f8ff9c341c3f4701a78fdf14f4b075a4",
            "max": 116,
            "min": 0,
            "orientation": "horizontal",
            "style": "IPY_MODEL_b2a8120ce4c34ec4aa2ea90d43d4f85f",
            "value": 116
          }
        },
        "dd1c89b4a6314ca19509c9ce1fce6a08": {
          "model_module": "@jupyter-widgets/base",
          "model_module_version": "1.2.0",
          "model_name": "LayoutModel",
          "state": {
            "_model_module": "@jupyter-widgets/base",
            "_model_module_version": "1.2.0",
            "_model_name": "LayoutModel",
            "_view_count": null,
            "_view_module": "@jupyter-widgets/base",
            "_view_module_version": "1.2.0",
            "_view_name": "LayoutView",
            "align_content": null,
            "align_items": null,
            "align_self": null,
            "border": null,
            "bottom": null,
            "display": null,
            "flex": null,
            "flex_flow": null,
            "grid_area": null,
            "grid_auto_columns": null,
            "grid_auto_flow": null,
            "grid_auto_rows": null,
            "grid_column": null,
            "grid_gap": null,
            "grid_row": null,
            "grid_template_areas": null,
            "grid_template_columns": null,
            "grid_template_rows": null,
            "height": null,
            "justify_content": null,
            "justify_items": null,
            "left": null,
            "margin": null,
            "max_height": null,
            "max_width": null,
            "min_height": null,
            "min_width": null,
            "object_fit": null,
            "object_position": null,
            "order": null,
            "overflow": null,
            "overflow_x": null,
            "overflow_y": null,
            "padding": null,
            "right": null,
            "top": null,
            "visibility": null,
            "width": null
          }
        },
        "dfeb5ea0fd70418d83be51d11ff69106": {
          "model_module": "@jupyter-widgets/base",
          "model_module_version": "1.2.0",
          "model_name": "LayoutModel",
          "state": {
            "_model_module": "@jupyter-widgets/base",
            "_model_module_version": "1.2.0",
            "_model_name": "LayoutModel",
            "_view_count": null,
            "_view_module": "@jupyter-widgets/base",
            "_view_module_version": "1.2.0",
            "_view_name": "LayoutView",
            "align_content": null,
            "align_items": null,
            "align_self": null,
            "border": null,
            "bottom": null,
            "display": null,
            "flex": null,
            "flex_flow": null,
            "grid_area": null,
            "grid_auto_columns": null,
            "grid_auto_flow": null,
            "grid_auto_rows": null,
            "grid_column": null,
            "grid_gap": null,
            "grid_row": null,
            "grid_template_areas": null,
            "grid_template_columns": null,
            "grid_template_rows": null,
            "height": null,
            "justify_content": null,
            "justify_items": null,
            "left": null,
            "margin": null,
            "max_height": null,
            "max_width": null,
            "min_height": null,
            "min_width": null,
            "object_fit": null,
            "object_position": null,
            "order": null,
            "overflow": null,
            "overflow_x": null,
            "overflow_y": null,
            "padding": null,
            "right": null,
            "top": null,
            "visibility": null,
            "width": null
          }
        },
        "e19157729dda49ca9842c363b7320696": {
          "model_module": "@jupyter-widgets/base",
          "model_module_version": "1.2.0",
          "model_name": "LayoutModel",
          "state": {
            "_model_module": "@jupyter-widgets/base",
            "_model_module_version": "1.2.0",
            "_model_name": "LayoutModel",
            "_view_count": null,
            "_view_module": "@jupyter-widgets/base",
            "_view_module_version": "1.2.0",
            "_view_name": "LayoutView",
            "align_content": null,
            "align_items": null,
            "align_self": null,
            "border": null,
            "bottom": null,
            "display": null,
            "flex": null,
            "flex_flow": null,
            "grid_area": null,
            "grid_auto_columns": null,
            "grid_auto_flow": null,
            "grid_auto_rows": null,
            "grid_column": null,
            "grid_gap": null,
            "grid_row": null,
            "grid_template_areas": null,
            "grid_template_columns": null,
            "grid_template_rows": null,
            "height": null,
            "justify_content": null,
            "justify_items": null,
            "left": null,
            "margin": null,
            "max_height": null,
            "max_width": null,
            "min_height": null,
            "min_width": null,
            "object_fit": null,
            "object_position": null,
            "order": null,
            "overflow": null,
            "overflow_x": null,
            "overflow_y": null,
            "padding": null,
            "right": null,
            "top": null,
            "visibility": null,
            "width": null
          }
        },
        "e1b5630121ef4cf7a90b405b6231eb10": {
          "model_module": "@jupyter-widgets/controls",
          "model_module_version": "1.5.0",
          "model_name": "DescriptionStyleModel",
          "state": {
            "_model_module": "@jupyter-widgets/controls",
            "_model_module_version": "1.5.0",
            "_model_name": "DescriptionStyleModel",
            "_view_count": null,
            "_view_module": "@jupyter-widgets/base",
            "_view_module_version": "1.2.0",
            "_view_name": "StyleView",
            "description_width": ""
          }
        },
        "e31135d71af74c3ea1cd0a991e5dc29c": {
          "model_module": "@jupyter-widgets/base",
          "model_module_version": "1.2.0",
          "model_name": "LayoutModel",
          "state": {
            "_model_module": "@jupyter-widgets/base",
            "_model_module_version": "1.2.0",
            "_model_name": "LayoutModel",
            "_view_count": null,
            "_view_module": "@jupyter-widgets/base",
            "_view_module_version": "1.2.0",
            "_view_name": "LayoutView",
            "align_content": null,
            "align_items": null,
            "align_self": null,
            "border": null,
            "bottom": null,
            "display": null,
            "flex": null,
            "flex_flow": null,
            "grid_area": null,
            "grid_auto_columns": null,
            "grid_auto_flow": null,
            "grid_auto_rows": null,
            "grid_column": null,
            "grid_gap": null,
            "grid_row": null,
            "grid_template_areas": null,
            "grid_template_columns": null,
            "grid_template_rows": null,
            "height": null,
            "justify_content": null,
            "justify_items": null,
            "left": null,
            "margin": null,
            "max_height": null,
            "max_width": null,
            "min_height": null,
            "min_width": null,
            "object_fit": null,
            "object_position": null,
            "order": null,
            "overflow": null,
            "overflow_x": null,
            "overflow_y": null,
            "padding": null,
            "right": null,
            "top": null,
            "visibility": null,
            "width": null
          }
        },
        "e5c0d3e52de14242ae7030e4b1fd2a93": {
          "model_module": "@jupyter-widgets/controls",
          "model_module_version": "1.5.0",
          "model_name": "FloatProgressModel",
          "state": {
            "_dom_classes": [],
            "_model_module": "@jupyter-widgets/controls",
            "_model_module_version": "1.5.0",
            "_model_name": "FloatProgressModel",
            "_view_count": null,
            "_view_module": "@jupyter-widgets/controls",
            "_view_module_version": "1.5.0",
            "_view_name": "ProgressView",
            "bar_style": "",
            "description": "",
            "description_tooltip": null,
            "layout": "IPY_MODEL_60bb162abe31487d8bebbdd96e82b17b",
            "max": 116,
            "min": 0,
            "orientation": "horizontal",
            "style": "IPY_MODEL_650e62ce2a47401cb287303865a5c967",
            "value": 116
          }
        },
        "e6f684e96bbc4450a39ffd5e9a1af1f4": {
          "model_module": "@jupyter-widgets/controls",
          "model_module_version": "1.5.0",
          "model_name": "HTMLModel",
          "state": {
            "_dom_classes": [],
            "_model_module": "@jupyter-widgets/controls",
            "_model_module_version": "1.5.0",
            "_model_name": "HTMLModel",
            "_view_count": null,
            "_view_module": "@jupyter-widgets/controls",
            "_view_module_version": "1.5.0",
            "_view_name": "HTMLView",
            "description": "",
            "description_tooltip": null,
            "layout": "IPY_MODEL_6640b74bd9eb48878036dcadf13699a7",
            "placeholder": "​",
            "style": "IPY_MODEL_35928b5f05aa444699365a2a9f14bb7b",
            "value": " 116/116 [00:52&lt;00:00,  2.35it/s]"
          }
        },
        "e7846558dec5473596cdd6076296a809": {
          "model_module": "@jupyter-widgets/controls",
          "model_module_version": "1.5.0",
          "model_name": "HTMLModel",
          "state": {
            "_dom_classes": [],
            "_model_module": "@jupyter-widgets/controls",
            "_model_module_version": "1.5.0",
            "_model_name": "HTMLModel",
            "_view_count": null,
            "_view_module": "@jupyter-widgets/controls",
            "_view_module_version": "1.5.0",
            "_view_name": "HTMLView",
            "description": "",
            "description_tooltip": null,
            "layout": "IPY_MODEL_82751215ae8f4e09bacd675c6be57044",
            "placeholder": "​",
            "style": "IPY_MODEL_7c528d6f90604a2186f857eb893f60a9",
            "value": "Epoch 15/50 Batches: 100%"
          }
        },
        "e9852cfcb7de4500a26ff71f1548752a": {
          "model_module": "@jupyter-widgets/controls",
          "model_module_version": "1.5.0",
          "model_name": "HTMLModel",
          "state": {
            "_dom_classes": [],
            "_model_module": "@jupyter-widgets/controls",
            "_model_module_version": "1.5.0",
            "_model_name": "HTMLModel",
            "_view_count": null,
            "_view_module": "@jupyter-widgets/controls",
            "_view_module_version": "1.5.0",
            "_view_name": "HTMLView",
            "description": "",
            "description_tooltip": null,
            "layout": "IPY_MODEL_db43fdf4f8854666aef4197b850a1fef",
            "placeholder": "​",
            "style": "IPY_MODEL_1a864089a6f44b23a765bbbe5b06d506",
            "value": "Epoch 4/50 Batches: 100%"
          }
        },
        "eaa08867564b47aeb28c5c61f784655f": {
          "model_module": "@jupyter-widgets/base",
          "model_module_version": "1.2.0",
          "model_name": "LayoutModel",
          "state": {
            "_model_module": "@jupyter-widgets/base",
            "_model_module_version": "1.2.0",
            "_model_name": "LayoutModel",
            "_view_count": null,
            "_view_module": "@jupyter-widgets/base",
            "_view_module_version": "1.2.0",
            "_view_name": "LayoutView",
            "align_content": null,
            "align_items": null,
            "align_self": null,
            "border": null,
            "bottom": null,
            "display": null,
            "flex": null,
            "flex_flow": null,
            "grid_area": null,
            "grid_auto_columns": null,
            "grid_auto_flow": null,
            "grid_auto_rows": null,
            "grid_column": null,
            "grid_gap": null,
            "grid_row": null,
            "grid_template_areas": null,
            "grid_template_columns": null,
            "grid_template_rows": null,
            "height": null,
            "justify_content": null,
            "justify_items": null,
            "left": null,
            "margin": null,
            "max_height": null,
            "max_width": null,
            "min_height": null,
            "min_width": null,
            "object_fit": null,
            "object_position": null,
            "order": null,
            "overflow": null,
            "overflow_x": null,
            "overflow_y": null,
            "padding": null,
            "right": null,
            "top": null,
            "visibility": "hidden",
            "width": null
          }
        },
        "eac4810bc82842a48e3504e18fc54dd9": {
          "model_module": "@jupyter-widgets/base",
          "model_module_version": "1.2.0",
          "model_name": "LayoutModel",
          "state": {
            "_model_module": "@jupyter-widgets/base",
            "_model_module_version": "1.2.0",
            "_model_name": "LayoutModel",
            "_view_count": null,
            "_view_module": "@jupyter-widgets/base",
            "_view_module_version": "1.2.0",
            "_view_name": "LayoutView",
            "align_content": null,
            "align_items": null,
            "align_self": null,
            "border": null,
            "bottom": null,
            "display": null,
            "flex": null,
            "flex_flow": null,
            "grid_area": null,
            "grid_auto_columns": null,
            "grid_auto_flow": null,
            "grid_auto_rows": null,
            "grid_column": null,
            "grid_gap": null,
            "grid_row": null,
            "grid_template_areas": null,
            "grid_template_columns": null,
            "grid_template_rows": null,
            "height": null,
            "justify_content": null,
            "justify_items": null,
            "left": null,
            "margin": null,
            "max_height": null,
            "max_width": null,
            "min_height": null,
            "min_width": null,
            "object_fit": null,
            "object_position": null,
            "order": null,
            "overflow": null,
            "overflow_x": null,
            "overflow_y": null,
            "padding": null,
            "right": null,
            "top": null,
            "visibility": "hidden",
            "width": null
          }
        },
        "eb870a36ec3a469088c4f72c85f8dcf0": {
          "model_module": "@jupyter-widgets/controls",
          "model_module_version": "1.5.0",
          "model_name": "DescriptionStyleModel",
          "state": {
            "_model_module": "@jupyter-widgets/controls",
            "_model_module_version": "1.5.0",
            "_model_name": "DescriptionStyleModel",
            "_view_count": null,
            "_view_module": "@jupyter-widgets/base",
            "_view_module_version": "1.2.0",
            "_view_name": "StyleView",
            "description_width": ""
          }
        },
        "ece3d48063f14758aaba363c6e42f5d9": {
          "model_module": "@jupyter-widgets/base",
          "model_module_version": "1.2.0",
          "model_name": "LayoutModel",
          "state": {
            "_model_module": "@jupyter-widgets/base",
            "_model_module_version": "1.2.0",
            "_model_name": "LayoutModel",
            "_view_count": null,
            "_view_module": "@jupyter-widgets/base",
            "_view_module_version": "1.2.0",
            "_view_name": "LayoutView",
            "align_content": null,
            "align_items": null,
            "align_self": null,
            "border": null,
            "bottom": null,
            "display": null,
            "flex": null,
            "flex_flow": null,
            "grid_area": null,
            "grid_auto_columns": null,
            "grid_auto_flow": null,
            "grid_auto_rows": null,
            "grid_column": null,
            "grid_gap": null,
            "grid_row": null,
            "grid_template_areas": null,
            "grid_template_columns": null,
            "grid_template_rows": null,
            "height": null,
            "justify_content": null,
            "justify_items": null,
            "left": null,
            "margin": null,
            "max_height": null,
            "max_width": null,
            "min_height": null,
            "min_width": null,
            "object_fit": null,
            "object_position": null,
            "order": null,
            "overflow": null,
            "overflow_x": null,
            "overflow_y": null,
            "padding": null,
            "right": null,
            "top": null,
            "visibility": null,
            "width": null
          }
        },
        "ed844fcfb5f847d38a3d238a6a0e5a18": {
          "model_module": "@jupyter-widgets/controls",
          "model_module_version": "1.5.0",
          "model_name": "HBoxModel",
          "state": {
            "_dom_classes": [],
            "_model_module": "@jupyter-widgets/controls",
            "_model_module_version": "1.5.0",
            "_model_name": "HBoxModel",
            "_view_count": null,
            "_view_module": "@jupyter-widgets/controls",
            "_view_module_version": "1.5.0",
            "_view_name": "HBoxView",
            "box_style": "",
            "children": [
              "IPY_MODEL_afe402ef6f004cdfb3bd1a0d795e0cf2",
              "IPY_MODEL_dd19295767b14833bd57a9fc420049b3",
              "IPY_MODEL_04ff2a49989f45ea9066dcf209022ae4"
            ],
            "layout": "IPY_MODEL_c23c01c90dfb4fce85d652498ad060ab"
          }
        },
        "eee9f97853a346d59478a91bbcf0e11c": {
          "model_module": "@jupyter-widgets/controls",
          "model_module_version": "1.5.0",
          "model_name": "DescriptionStyleModel",
          "state": {
            "_model_module": "@jupyter-widgets/controls",
            "_model_module_version": "1.5.0",
            "_model_name": "DescriptionStyleModel",
            "_view_count": null,
            "_view_module": "@jupyter-widgets/base",
            "_view_module_version": "1.2.0",
            "_view_name": "StyleView",
            "description_width": ""
          }
        },
        "ef1c0c61769c4167b046f297d638fe4a": {
          "model_module": "@jupyter-widgets/base",
          "model_module_version": "1.2.0",
          "model_name": "LayoutModel",
          "state": {
            "_model_module": "@jupyter-widgets/base",
            "_model_module_version": "1.2.0",
            "_model_name": "LayoutModel",
            "_view_count": null,
            "_view_module": "@jupyter-widgets/base",
            "_view_module_version": "1.2.0",
            "_view_name": "LayoutView",
            "align_content": null,
            "align_items": null,
            "align_self": null,
            "border": null,
            "bottom": null,
            "display": null,
            "flex": null,
            "flex_flow": null,
            "grid_area": null,
            "grid_auto_columns": null,
            "grid_auto_flow": null,
            "grid_auto_rows": null,
            "grid_column": null,
            "grid_gap": null,
            "grid_row": null,
            "grid_template_areas": null,
            "grid_template_columns": null,
            "grid_template_rows": null,
            "height": null,
            "justify_content": null,
            "justify_items": null,
            "left": null,
            "margin": null,
            "max_height": null,
            "max_width": null,
            "min_height": null,
            "min_width": null,
            "object_fit": null,
            "object_position": null,
            "order": null,
            "overflow": null,
            "overflow_x": null,
            "overflow_y": null,
            "padding": null,
            "right": null,
            "top": null,
            "visibility": "hidden",
            "width": null
          }
        },
        "f005704117a14c1b96c8de7454946f38": {
          "model_module": "@jupyter-widgets/controls",
          "model_module_version": "1.5.0",
          "model_name": "HTMLModel",
          "state": {
            "_dom_classes": [],
            "_model_module": "@jupyter-widgets/controls",
            "_model_module_version": "1.5.0",
            "_model_name": "HTMLModel",
            "_view_count": null,
            "_view_module": "@jupyter-widgets/controls",
            "_view_module_version": "1.5.0",
            "_view_name": "HTMLView",
            "description": "",
            "description_tooltip": null,
            "layout": "IPY_MODEL_ccd2f21dce9f4eccb84534ee6202b535",
            "placeholder": "​",
            "style": "IPY_MODEL_eb870a36ec3a469088c4f72c85f8dcf0",
            "value": "Epoch 2/50 Batches: 100%"
          }
        },
        "f04c7fa21d554bd18182d54e4b2e033d": {
          "model_module": "@jupyter-widgets/controls",
          "model_module_version": "1.5.0",
          "model_name": "ProgressStyleModel",
          "state": {
            "_model_module": "@jupyter-widgets/controls",
            "_model_module_version": "1.5.0",
            "_model_name": "ProgressStyleModel",
            "_view_count": null,
            "_view_module": "@jupyter-widgets/base",
            "_view_module_version": "1.2.0",
            "_view_name": "StyleView",
            "bar_color": null,
            "description_width": ""
          }
        },
        "f0618c32eb3f439690a5d9fe523f870b": {
          "model_module": "@jupyter-widgets/base",
          "model_module_version": "1.2.0",
          "model_name": "LayoutModel",
          "state": {
            "_model_module": "@jupyter-widgets/base",
            "_model_module_version": "1.2.0",
            "_model_name": "LayoutModel",
            "_view_count": null,
            "_view_module": "@jupyter-widgets/base",
            "_view_module_version": "1.2.0",
            "_view_name": "LayoutView",
            "align_content": null,
            "align_items": null,
            "align_self": null,
            "border": null,
            "bottom": null,
            "display": null,
            "flex": null,
            "flex_flow": null,
            "grid_area": null,
            "grid_auto_columns": null,
            "grid_auto_flow": null,
            "grid_auto_rows": null,
            "grid_column": null,
            "grid_gap": null,
            "grid_row": null,
            "grid_template_areas": null,
            "grid_template_columns": null,
            "grid_template_rows": null,
            "height": null,
            "justify_content": null,
            "justify_items": null,
            "left": null,
            "margin": null,
            "max_height": null,
            "max_width": null,
            "min_height": null,
            "min_width": null,
            "object_fit": null,
            "object_position": null,
            "order": null,
            "overflow": null,
            "overflow_x": null,
            "overflow_y": null,
            "padding": null,
            "right": null,
            "top": null,
            "visibility": null,
            "width": null
          }
        },
        "f6bef59d96994265a0c370cb30261ae5": {
          "model_module": "@jupyter-widgets/controls",
          "model_module_version": "1.5.0",
          "model_name": "FloatProgressModel",
          "state": {
            "_dom_classes": [],
            "_model_module": "@jupyter-widgets/controls",
            "_model_module_version": "1.5.0",
            "_model_name": "FloatProgressModel",
            "_view_count": null,
            "_view_module": "@jupyter-widgets/controls",
            "_view_module_version": "1.5.0",
            "_view_name": "ProgressView",
            "bar_style": "",
            "description": "",
            "description_tooltip": null,
            "layout": "IPY_MODEL_ad7e4c5a5db24d54960a9a8f8de7bf1d",
            "max": 116,
            "min": 0,
            "orientation": "horizontal",
            "style": "IPY_MODEL_15f34fc96ae84587ba5a285d35dbee73",
            "value": 116
          }
        },
        "f8ff9c341c3f4701a78fdf14f4b075a4": {
          "model_module": "@jupyter-widgets/base",
          "model_module_version": "1.2.0",
          "model_name": "LayoutModel",
          "state": {
            "_model_module": "@jupyter-widgets/base",
            "_model_module_version": "1.2.0",
            "_model_name": "LayoutModel",
            "_view_count": null,
            "_view_module": "@jupyter-widgets/base",
            "_view_module_version": "1.2.0",
            "_view_name": "LayoutView",
            "align_content": null,
            "align_items": null,
            "align_self": null,
            "border": null,
            "bottom": null,
            "display": null,
            "flex": null,
            "flex_flow": null,
            "grid_area": null,
            "grid_auto_columns": null,
            "grid_auto_flow": null,
            "grid_auto_rows": null,
            "grid_column": null,
            "grid_gap": null,
            "grid_row": null,
            "grid_template_areas": null,
            "grid_template_columns": null,
            "grid_template_rows": null,
            "height": null,
            "justify_content": null,
            "justify_items": null,
            "left": null,
            "margin": null,
            "max_height": null,
            "max_width": null,
            "min_height": null,
            "min_width": null,
            "object_fit": null,
            "object_position": null,
            "order": null,
            "overflow": null,
            "overflow_x": null,
            "overflow_y": null,
            "padding": null,
            "right": null,
            "top": null,
            "visibility": null,
            "width": null
          }
        },
        "f9039a8e61d443888d9c647f27b1db29": {
          "model_module": "@jupyter-widgets/controls",
          "model_module_version": "1.5.0",
          "model_name": "DescriptionStyleModel",
          "state": {
            "_model_module": "@jupyter-widgets/controls",
            "_model_module_version": "1.5.0",
            "_model_name": "DescriptionStyleModel",
            "_view_count": null,
            "_view_module": "@jupyter-widgets/base",
            "_view_module_version": "1.2.0",
            "_view_name": "StyleView",
            "description_width": ""
          }
        },
        "fd0f855cb5bb4c4cb7e9df8bb25a7083": {
          "model_module": "@jupyter-widgets/base",
          "model_module_version": "1.2.0",
          "model_name": "LayoutModel",
          "state": {
            "_model_module": "@jupyter-widgets/base",
            "_model_module_version": "1.2.0",
            "_model_name": "LayoutModel",
            "_view_count": null,
            "_view_module": "@jupyter-widgets/base",
            "_view_module_version": "1.2.0",
            "_view_name": "LayoutView",
            "align_content": null,
            "align_items": null,
            "align_self": null,
            "border": null,
            "bottom": null,
            "display": null,
            "flex": null,
            "flex_flow": null,
            "grid_area": null,
            "grid_auto_columns": null,
            "grid_auto_flow": null,
            "grid_auto_rows": null,
            "grid_column": null,
            "grid_gap": null,
            "grid_row": null,
            "grid_template_areas": null,
            "grid_template_columns": null,
            "grid_template_rows": null,
            "height": null,
            "justify_content": null,
            "justify_items": null,
            "left": null,
            "margin": null,
            "max_height": null,
            "max_width": null,
            "min_height": null,
            "min_width": null,
            "object_fit": null,
            "object_position": null,
            "order": null,
            "overflow": null,
            "overflow_x": null,
            "overflow_y": null,
            "padding": null,
            "right": null,
            "top": null,
            "visibility": null,
            "width": null
          }
        },
        "fddd2212f9bd48bd874743b9576815f5": {
          "model_module": "@jupyter-widgets/controls",
          "model_module_version": "1.5.0",
          "model_name": "ProgressStyleModel",
          "state": {
            "_model_module": "@jupyter-widgets/controls",
            "_model_module_version": "1.5.0",
            "_model_name": "ProgressStyleModel",
            "_view_count": null,
            "_view_module": "@jupyter-widgets/base",
            "_view_module_version": "1.2.0",
            "_view_name": "StyleView",
            "bar_color": null,
            "description_width": ""
          }
        },
        "ffabc938c4974b1792ed029bb6ffa8e5": {
          "model_module": "@jupyter-widgets/base",
          "model_module_version": "1.2.0",
          "model_name": "LayoutModel",
          "state": {
            "_model_module": "@jupyter-widgets/base",
            "_model_module_version": "1.2.0",
            "_model_name": "LayoutModel",
            "_view_count": null,
            "_view_module": "@jupyter-widgets/base",
            "_view_module_version": "1.2.0",
            "_view_name": "LayoutView",
            "align_content": null,
            "align_items": null,
            "align_self": null,
            "border": null,
            "bottom": null,
            "display": null,
            "flex": null,
            "flex_flow": null,
            "grid_area": null,
            "grid_auto_columns": null,
            "grid_auto_flow": null,
            "grid_auto_rows": null,
            "grid_column": null,
            "grid_gap": null,
            "grid_row": null,
            "grid_template_areas": null,
            "grid_template_columns": null,
            "grid_template_rows": null,
            "height": null,
            "justify_content": null,
            "justify_items": null,
            "left": null,
            "margin": null,
            "max_height": null,
            "max_width": null,
            "min_height": null,
            "min_width": null,
            "object_fit": null,
            "object_position": null,
            "order": null,
            "overflow": null,
            "overflow_x": null,
            "overflow_y": null,
            "padding": null,
            "right": null,
            "top": null,
            "visibility": null,
            "width": null
          }
        },
        "fff430d7e62d49c3a1722c9cee8ef518": {
          "model_module": "@jupyter-widgets/base",
          "model_module_version": "1.2.0",
          "model_name": "LayoutModel",
          "state": {
            "_model_module": "@jupyter-widgets/base",
            "_model_module_version": "1.2.0",
            "_model_name": "LayoutModel",
            "_view_count": null,
            "_view_module": "@jupyter-widgets/base",
            "_view_module_version": "1.2.0",
            "_view_name": "LayoutView",
            "align_content": null,
            "align_items": null,
            "align_self": null,
            "border": null,
            "bottom": null,
            "display": null,
            "flex": null,
            "flex_flow": null,
            "grid_area": null,
            "grid_auto_columns": null,
            "grid_auto_flow": null,
            "grid_auto_rows": null,
            "grid_column": null,
            "grid_gap": null,
            "grid_row": null,
            "grid_template_areas": null,
            "grid_template_columns": null,
            "grid_template_rows": null,
            "height": null,
            "justify_content": null,
            "justify_items": null,
            "left": null,
            "margin": null,
            "max_height": null,
            "max_width": null,
            "min_height": null,
            "min_width": null,
            "object_fit": null,
            "object_position": null,
            "order": null,
            "overflow": null,
            "overflow_x": null,
            "overflow_y": null,
            "padding": null,
            "right": null,
            "top": null,
            "visibility": null,
            "width": null
          }
        }
      }
    }
  },
  "nbformat": 4,
  "nbformat_minor": 5
}
